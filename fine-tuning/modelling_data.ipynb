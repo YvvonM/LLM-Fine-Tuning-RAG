{
 "cells": [
  {
   "cell_type": "markdown",
   "id": "f55972ab-2d9c-43c3-a313-d84ad8d08b35",
   "metadata": {},
   "source": [
    "### Importing libraries"
   ]
  },
  {
   "cell_type": "code",
   "execution_count": 1,
   "id": "b4558396-f3b4-46b1-855f-90c5e5b1adc2",
   "metadata": {},
   "outputs": [
    {
     "name": "stderr",
     "output_type": "stream",
     "text": [
      "2024-02-03 11:56:29.146075: E external/local_xla/xla/stream_executor/cuda/cuda_dnn.cc:9261] Unable to register cuDNN factory: Attempting to register factory for plugin cuDNN when one has already been registered\n",
      "2024-02-03 11:56:29.146126: E external/local_xla/xla/stream_executor/cuda/cuda_fft.cc:607] Unable to register cuFFT factory: Attempting to register factory for plugin cuFFT when one has already been registered\n",
      "2024-02-03 11:56:29.147100: E external/local_xla/xla/stream_executor/cuda/cuda_blas.cc:1515] Unable to register cuBLAS factory: Attempting to register factory for plugin cuBLAS when one has already been registered\n",
      "2024-02-03 11:56:29.153193: I tensorflow/core/platform/cpu_feature_guard.cc:182] This TensorFlow binary is optimized to use available CPU instructions in performance-critical operations.\n",
      "To enable the following instructions: AVX2 FMA, in other operations, rebuild TensorFlow with the appropriate compiler flags.\n",
      "2024-02-03 11:56:30.426950: W tensorflow/compiler/tf2tensorrt/utils/py_utils.cc:38] TF-TRT Warning: Could not find TensorRT\n"
     ]
    }
   ],
   "source": [
    "#importing libraries\n",
    "import numpy as np\n",
    "import pandas as pd\n",
    "import tensorflow as tf\n"
   ]
  },
  {
   "cell_type": "code",
   "execution_count": 2,
   "id": "0fbb9d03-ea01-434b-9d43-26ca7eb02fd3",
   "metadata": {},
   "outputs": [],
   "source": [
    "from src.util import Util\n",
    "util = Util()\n"
   ]
  },
  {
   "cell_type": "markdown",
   "id": "aeb54789-c3c5-4029-b02b-336006b55267",
   "metadata": {},
   "source": [
    "### Importing the dataset"
   ]
  },
  {
   "cell_type": "code",
   "execution_count": 3,
   "id": "806b58cd-beb6-4aae-a2d3-fb119c96f964",
   "metadata": {},
   "outputs": [
    {
     "data": {
      "text/html": [
       "<div>\n",
       "<style scoped>\n",
       "    .dataframe tbody tr th:only-of-type {\n",
       "        vertical-align: middle;\n",
       "    }\n",
       "\n",
       "    .dataframe tbody tr th {\n",
       "        vertical-align: top;\n",
       "    }\n",
       "\n",
       "    .dataframe thead th {\n",
       "        text-align: right;\n",
       "    }\n",
       "</style>\n",
       "<table border=\"1\" class=\"dataframe\">\n",
       "  <thead>\n",
       "    <tr style=\"text-align: right;\">\n",
       "      <th></th>\n",
       "      <th>Unnamed: 0.1</th>\n",
       "      <th>Unnamed: 0</th>\n",
       "      <th>Date</th>\n",
       "      <th>Message</th>\n",
       "      <th>label</th>\n",
       "      <th>hashtags</th>\n",
       "      <th>emojis</th>\n",
       "      <th>symbols</th>\n",
       "      <th>links</th>\n",
       "      <th>mentions</th>\n",
       "    </tr>\n",
       "  </thead>\n",
       "  <tbody>\n",
       "    <tr>\n",
       "      <th>0</th>\n",
       "      <td>0</td>\n",
       "      <td>81</td>\n",
       "      <td>2024-01-26T12:07:19+00:00</td>\n",
       "      <td>🌼Sauna vest🌼 ➤ ክብደትን ለመቀነስ እና በተከታታይ አጠቃቀም ሰውነ...</td>\n",
       "      <td>retail</td>\n",
       "      <td>[]</td>\n",
       "      <td>🌼🌼➤➤➤➤🔥✅💧💧💧💧✉📲📲🚚👇👇👇</td>\n",
       "      <td>NaN</td>\n",
       "      <td>[]</td>\n",
       "      <td>['abrhame21', 'adissshopping1']</td>\n",
       "    </tr>\n",
       "    <tr>\n",
       "      <th>1</th>\n",
       "      <td>3</td>\n",
       "      <td>2092</td>\n",
       "      <td>2023-12-22T13:05:54+00:00</td>\n",
       "      <td># ጫማ መደርደሪያ [ ባለ ብረቱ ] 📲 0910091057 📲 09610685...</td>\n",
       "      <td>retail</td>\n",
       "      <td>['#', '#Free', '#delivery']</td>\n",
       "      <td>📲📲⚜⚜⚜🎍📲📲📍🚕🚕👍👇🏼👇🏼👇🏼</td>\n",
       "      <td>**</td>\n",
       "      <td>[]</td>\n",
       "      <td>['adissshopping1']</td>\n",
       "    </tr>\n",
       "    <tr>\n",
       "      <th>2</th>\n",
       "      <td>6</td>\n",
       "      <td>664</td>\n",
       "      <td>2024-01-15T09:57:48+00:00</td>\n",
       "      <td>call us 0912426847 0905710617</td>\n",
       "      <td>retail</td>\n",
       "      <td>[]</td>\n",
       "      <td>NaN</td>\n",
       "      <td>NaN</td>\n",
       "      <td>[]</td>\n",
       "      <td>[]</td>\n",
       "    </tr>\n",
       "    <tr>\n",
       "      <th>3</th>\n",
       "      <td>7</td>\n",
       "      <td>1219</td>\n",
       "      <td>2024-01-03T12:03:57+00:00</td>\n",
       "      <td>Bapesta Sneaker Size: 40 41 42 43 Made in Viet...</td>\n",
       "      <td>retail</td>\n",
       "      <td>['#3500birr💸']</td>\n",
       "      <td>💸</td>\n",
       "      <td>-</td>\n",
       "      <td>[]</td>\n",
       "      <td>['KicksAddis1', 'KicksAddis']</td>\n",
       "    </tr>\n",
       "    <tr>\n",
       "      <th>4</th>\n",
       "      <td>9</td>\n",
       "      <td>5990</td>\n",
       "      <td>2023-12-02T07:17:12+00:00</td>\n",
       "      <td>Vans Sk8 Hi Tapered Size: 40 41 Made in Vietna...</td>\n",
       "      <td>retail</td>\n",
       "      <td>['#3999birr💸']</td>\n",
       "      <td>💸</td>\n",
       "      <td>-</td>\n",
       "      <td>[]</td>\n",
       "      <td>['KicksAddis1', 'KicksAddis']</td>\n",
       "    </tr>\n",
       "  </tbody>\n",
       "</table>\n",
       "</div>"
      ],
      "text/plain": [
       "   Unnamed: 0.1  Unnamed: 0                       Date  \\\n",
       "0             0          81  2024-01-26T12:07:19+00:00   \n",
       "1             3        2092  2023-12-22T13:05:54+00:00   \n",
       "2             6         664  2024-01-15T09:57:48+00:00   \n",
       "3             7        1219  2024-01-03T12:03:57+00:00   \n",
       "4             9        5990  2023-12-02T07:17:12+00:00   \n",
       "\n",
       "                                             Message   label  \\\n",
       "0  🌼Sauna vest🌼 ➤ ክብደትን ለመቀነስ እና በተከታታይ አጠቃቀም ሰውነ...  retail   \n",
       "1  # ጫማ መደርደሪያ [ ባለ ብረቱ ] 📲 0910091057 📲 09610685...  retail   \n",
       "2                      call us 0912426847 0905710617  retail   \n",
       "3  Bapesta Sneaker Size: 40 41 42 43 Made in Viet...  retail   \n",
       "4  Vans Sk8 Hi Tapered Size: 40 41 Made in Vietna...  retail   \n",
       "\n",
       "                      hashtags               emojis symbols links  \\\n",
       "0                           []  🌼🌼➤➤➤➤🔥✅💧💧💧💧✉📲📲🚚👇👇👇     NaN    []   \n",
       "1  ['#', '#Free', '#delivery']   📲📲⚜⚜⚜🎍📲📲📍🚕🚕👍👇🏼👇🏼👇🏼      **    []   \n",
       "2                           []                  NaN     NaN    []   \n",
       "3               ['#3500birr💸']                    💸       -    []   \n",
       "4               ['#3999birr💸']                    💸       -    []   \n",
       "\n",
       "                          mentions  \n",
       "0  ['abrhame21', 'adissshopping1']  \n",
       "1               ['adissshopping1']  \n",
       "2                               []  \n",
       "3    ['KicksAddis1', 'KicksAddis']  \n",
       "4    ['KicksAddis1', 'KicksAddis']  "
      ]
     },
     "execution_count": 3,
     "metadata": {},
     "output_type": "execute_result"
    }
   ],
   "source": [
    "df = pd.read_csv(\"/home/yvvon_majala/llm-fast-api/data/cleaned_shuffle.csv\")\n",
    "df.head()"
   ]
  },
  {
   "cell_type": "code",
   "execution_count": 4,
   "id": "6d6c6ab8-37e6-4674-b83f-3883eb859e1b",
   "metadata": {},
   "outputs": [
    {
     "data": {
      "text/html": [
       "<div>\n",
       "<style scoped>\n",
       "    .dataframe tbody tr th:only-of-type {\n",
       "        vertical-align: middle;\n",
       "    }\n",
       "\n",
       "    .dataframe tbody tr th {\n",
       "        vertical-align: top;\n",
       "    }\n",
       "\n",
       "    .dataframe thead th {\n",
       "        text-align: right;\n",
       "    }\n",
       "</style>\n",
       "<table border=\"1\" class=\"dataframe\">\n",
       "  <thead>\n",
       "    <tr style=\"text-align: right;\">\n",
       "      <th></th>\n",
       "      <th>Message</th>\n",
       "      <th>label</th>\n",
       "      <th>hashtags</th>\n",
       "      <th>emojis</th>\n",
       "      <th>symbols</th>\n",
       "      <th>links</th>\n",
       "      <th>mentions</th>\n",
       "    </tr>\n",
       "    <tr>\n",
       "      <th>Unnamed: 0</th>\n",
       "      <th></th>\n",
       "      <th></th>\n",
       "      <th></th>\n",
       "      <th></th>\n",
       "      <th></th>\n",
       "      <th></th>\n",
       "      <th></th>\n",
       "    </tr>\n",
       "  </thead>\n",
       "  <tbody>\n",
       "    <tr>\n",
       "      <th>81</th>\n",
       "      <td>🌼Sauna vest🌼 ➤ ክብደትን ለመቀነስ እና በተከታታይ አጠቃቀም ሰውነ...</td>\n",
       "      <td>retail</td>\n",
       "      <td>[]</td>\n",
       "      <td>🌼🌼➤➤➤➤🔥✅💧💧💧💧✉📲📲🚚👇👇👇</td>\n",
       "      <td>NaN</td>\n",
       "      <td>[]</td>\n",
       "      <td>['abrhame21', 'adissshopping1']</td>\n",
       "    </tr>\n",
       "    <tr>\n",
       "      <th>2092</th>\n",
       "      <td># ጫማ መደርደሪያ [ ባለ ብረቱ ] 📲 0910091057 📲 09610685...</td>\n",
       "      <td>retail</td>\n",
       "      <td>['#', '#Free', '#delivery']</td>\n",
       "      <td>📲📲⚜⚜⚜🎍📲📲📍🚕🚕👍👇🏼👇🏼👇🏼</td>\n",
       "      <td>**</td>\n",
       "      <td>[]</td>\n",
       "      <td>['adissshopping1']</td>\n",
       "    </tr>\n",
       "    <tr>\n",
       "      <th>664</th>\n",
       "      <td>call us 0912426847 0905710617</td>\n",
       "      <td>retail</td>\n",
       "      <td>[]</td>\n",
       "      <td>NaN</td>\n",
       "      <td>NaN</td>\n",
       "      <td>[]</td>\n",
       "      <td>[]</td>\n",
       "    </tr>\n",
       "    <tr>\n",
       "      <th>1219</th>\n",
       "      <td>Bapesta Sneaker Size: 40 41 42 43 Made in Viet...</td>\n",
       "      <td>retail</td>\n",
       "      <td>['#3500birr💸']</td>\n",
       "      <td>💸</td>\n",
       "      <td>-</td>\n",
       "      <td>[]</td>\n",
       "      <td>['KicksAddis1', 'KicksAddis']</td>\n",
       "    </tr>\n",
       "    <tr>\n",
       "      <th>5990</th>\n",
       "      <td>Vans Sk8 Hi Tapered Size: 40 41 Made in Vietna...</td>\n",
       "      <td>retail</td>\n",
       "      <td>['#3999birr💸']</td>\n",
       "      <td>💸</td>\n",
       "      <td>-</td>\n",
       "      <td>[]</td>\n",
       "      <td>['KicksAddis1', 'KicksAddis']</td>\n",
       "    </tr>\n",
       "  </tbody>\n",
       "</table>\n",
       "</div>"
      ],
      "text/plain": [
       "                                                      Message   label  \\\n",
       "Unnamed: 0                                                              \n",
       "81          🌼Sauna vest🌼 ➤ ክብደትን ለመቀነስ እና በተከታታይ አጠቃቀም ሰውነ...  retail   \n",
       "2092        # ጫማ መደርደሪያ [ ባለ ብረቱ ] 📲 0910091057 📲 09610685...  retail   \n",
       "664                             call us 0912426847 0905710617  retail   \n",
       "1219        Bapesta Sneaker Size: 40 41 42 43 Made in Viet...  retail   \n",
       "5990        Vans Sk8 Hi Tapered Size: 40 41 Made in Vietna...  retail   \n",
       "\n",
       "                               hashtags               emojis symbols links  \\\n",
       "Unnamed: 0                                                                   \n",
       "81                                   []  🌼🌼➤➤➤➤🔥✅💧💧💧💧✉📲📲🚚👇👇👇     NaN    []   \n",
       "2092        ['#', '#Free', '#delivery']   📲📲⚜⚜⚜🎍📲📲📍🚕🚕👍👇🏼👇🏼👇🏼      **    []   \n",
       "664                                  []                  NaN     NaN    []   \n",
       "1219                     ['#3500birr💸']                    💸       -    []   \n",
       "5990                     ['#3999birr💸']                    💸       -    []   \n",
       "\n",
       "                                   mentions  \n",
       "Unnamed: 0                                   \n",
       "81          ['abrhame21', 'adissshopping1']  \n",
       "2092                     ['adissshopping1']  \n",
       "664                                      []  \n",
       "1219          ['KicksAddis1', 'KicksAddis']  \n",
       "5990          ['KicksAddis1', 'KicksAddis']  "
      ]
     },
     "execution_count": 4,
     "metadata": {},
     "output_type": "execute_result"
    }
   ],
   "source": [
    "#dropping columns not needed\n",
    "df.drop(['Unnamed: 0.1', 'Date'], axis = 1, inplace = True)\n",
    "df.set_index('Unnamed: 0', inplace = True)\n",
    "df.head()"
   ]
  },
  {
   "cell_type": "code",
   "execution_count": 5,
   "id": "f2919da4-d495-4b6f-a994-ea86ce13a0e9",
   "metadata": {
    "scrolled": true
   },
   "outputs": [
    {
     "data": {
      "text/html": [
       "<div>\n",
       "<style scoped>\n",
       "    .dataframe tbody tr th:only-of-type {\n",
       "        vertical-align: middle;\n",
       "    }\n",
       "\n",
       "    .dataframe tbody tr th {\n",
       "        vertical-align: top;\n",
       "    }\n",
       "\n",
       "    .dataframe thead th {\n",
       "        text-align: right;\n",
       "    }\n",
       "</style>\n",
       "<table border=\"1\" class=\"dataframe\">\n",
       "  <thead>\n",
       "    <tr style=\"text-align: right;\">\n",
       "      <th></th>\n",
       "      <th>Message</th>\n",
       "      <th>label</th>\n",
       "      <th>hashtags</th>\n",
       "      <th>emojis</th>\n",
       "      <th>symbols</th>\n",
       "      <th>links</th>\n",
       "      <th>mentions</th>\n",
       "    </tr>\n",
       "    <tr>\n",
       "      <th>Unnamed: 0</th>\n",
       "      <th></th>\n",
       "      <th></th>\n",
       "      <th></th>\n",
       "      <th></th>\n",
       "      <th></th>\n",
       "      <th></th>\n",
       "      <th></th>\n",
       "    </tr>\n",
       "  </thead>\n",
       "  <tbody>\n",
       "    <tr>\n",
       "      <th>81</th>\n",
       "      <td>🌼Sauna vest🌼 ➤ ክብደትን ለመቀነስ እና በተከታታይ አጠቃቀም ሰውነ...</td>\n",
       "      <td>retail</td>\n",
       "      <td>[]</td>\n",
       "      <td>🌼🌼➤➤➤➤🔥✅💧💧💧💧✉📲📲🚚👇👇👇</td>\n",
       "      <td>NaN</td>\n",
       "      <td>[]</td>\n",
       "      <td>['abrhame21', 'adissshopping1']</td>\n",
       "    </tr>\n",
       "    <tr>\n",
       "      <th>2092</th>\n",
       "      <td># ጫማ መደርደሪያ [ ባለ ብረቱ ] 📲 0910091057 📲 09610685...</td>\n",
       "      <td>retail</td>\n",
       "      <td>['#', '#Free', '#delivery']</td>\n",
       "      <td>📲📲⚜⚜⚜🎍📲📲📍🚕🚕👍👇🏼👇🏼👇🏼</td>\n",
       "      <td>**</td>\n",
       "      <td>[]</td>\n",
       "      <td>['adissshopping1']</td>\n",
       "    </tr>\n",
       "    <tr>\n",
       "      <th>664</th>\n",
       "      <td>call us 0912426847 0905710617</td>\n",
       "      <td>retail</td>\n",
       "      <td>[]</td>\n",
       "      <td>NaN</td>\n",
       "      <td>NaN</td>\n",
       "      <td>[]</td>\n",
       "      <td>[]</td>\n",
       "    </tr>\n",
       "    <tr>\n",
       "      <th>1219</th>\n",
       "      <td>Bapesta Sneaker Size: 40 41 42 43 Made in Viet...</td>\n",
       "      <td>retail</td>\n",
       "      <td>['#3500birr💸']</td>\n",
       "      <td>💸</td>\n",
       "      <td>-</td>\n",
       "      <td>[]</td>\n",
       "      <td>['KicksAddis1', 'KicksAddis']</td>\n",
       "    </tr>\n",
       "    <tr>\n",
       "      <th>5990</th>\n",
       "      <td>Vans Sk8 Hi Tapered Size: 40 41 Made in Vietna...</td>\n",
       "      <td>retail</td>\n",
       "      <td>['#3999birr💸']</td>\n",
       "      <td>💸</td>\n",
       "      <td>-</td>\n",
       "      <td>[]</td>\n",
       "      <td>['KicksAddis1', 'KicksAddis']</td>\n",
       "    </tr>\n",
       "  </tbody>\n",
       "</table>\n",
       "</div>"
      ],
      "text/plain": [
       "                                                      Message   label  \\\n",
       "Unnamed: 0                                                              \n",
       "81          🌼Sauna vest🌼 ➤ ክብደትን ለመቀነስ እና በተከታታይ አጠቃቀም ሰውነ...  retail   \n",
       "2092        # ጫማ መደርደሪያ [ ባለ ብረቱ ] 📲 0910091057 📲 09610685...  retail   \n",
       "664                             call us 0912426847 0905710617  retail   \n",
       "1219        Bapesta Sneaker Size: 40 41 42 43 Made in Viet...  retail   \n",
       "5990        Vans Sk8 Hi Tapered Size: 40 41 Made in Vietna...  retail   \n",
       "\n",
       "                               hashtags               emojis symbols links  \\\n",
       "Unnamed: 0                                                                   \n",
       "81                                   []  🌼🌼➤➤➤➤🔥✅💧💧💧💧✉📲📲🚚👇👇👇     NaN    []   \n",
       "2092        ['#', '#Free', '#delivery']   📲📲⚜⚜⚜🎍📲📲📍🚕🚕👍👇🏼👇🏼👇🏼      **    []   \n",
       "664                                  []                  NaN     NaN    []   \n",
       "1219                     ['#3500birr💸']                    💸       -    []   \n",
       "5990                     ['#3999birr💸']                    💸       -    []   \n",
       "\n",
       "                                   mentions  \n",
       "Unnamed: 0                                   \n",
       "81          ['abrhame21', 'adissshopping1']  \n",
       "2092                     ['adissshopping1']  \n",
       "664                                      []  \n",
       "1219          ['KicksAddis1', 'KicksAddis']  \n",
       "5990          ['KicksAddis1', 'KicksAddis']  "
      ]
     },
     "execution_count": 5,
     "metadata": {},
     "output_type": "execute_result"
    }
   ],
   "source": [
    "#copying the dataset\n",
    "df1 = df.copy()\n",
    "df1.head()"
   ]
  },
  {
   "cell_type": "code",
   "execution_count": 6,
   "id": "1a216dc8-05b6-45ea-8a6d-ca35848333f6",
   "metadata": {
    "scrolled": true
   },
   "outputs": [
    {
     "data": {
      "text/html": [
       "<div>\n",
       "<style scoped>\n",
       "    .dataframe tbody tr th:only-of-type {\n",
       "        vertical-align: middle;\n",
       "    }\n",
       "\n",
       "    .dataframe tbody tr th {\n",
       "        vertical-align: top;\n",
       "    }\n",
       "\n",
       "    .dataframe thead th {\n",
       "        text-align: right;\n",
       "    }\n",
       "</style>\n",
       "<table border=\"1\" class=\"dataframe\">\n",
       "  <thead>\n",
       "    <tr style=\"text-align: right;\">\n",
       "      <th></th>\n",
       "      <th>Message</th>\n",
       "      <th>label</th>\n",
       "      <th>hashtags</th>\n",
       "      <th>emojis</th>\n",
       "      <th>symbols</th>\n",
       "      <th>links</th>\n",
       "      <th>mentions</th>\n",
       "    </tr>\n",
       "    <tr>\n",
       "      <th>Unnamed: 0</th>\n",
       "      <th></th>\n",
       "      <th></th>\n",
       "      <th></th>\n",
       "      <th></th>\n",
       "      <th></th>\n",
       "      <th></th>\n",
       "      <th></th>\n",
       "    </tr>\n",
       "  </thead>\n",
       "  <tbody>\n",
       "    <tr>\n",
       "      <th>6190</th>\n",
       "      <td>Allstar converse chuck 70 Size: 42 43 Made in ...</td>\n",
       "      <td>retail</td>\n",
       "      <td>['#3200']</td>\n",
       "      <td>💸</td>\n",
       "      <td>-</td>\n",
       "      <td>[]</td>\n",
       "      <td>['KicksAddis1', 'KicksAddis']</td>\n",
       "    </tr>\n",
       "    <tr>\n",
       "      <th>1242</th>\n",
       "      <td>call us 0912426847 0905710617</td>\n",
       "      <td>retail</td>\n",
       "      <td>[]</td>\n",
       "      <td>NaN</td>\n",
       "      <td>NaN</td>\n",
       "      <td>[]</td>\n",
       "      <td>[]</td>\n",
       "    </tr>\n",
       "    <tr>\n",
       "      <th>80</th>\n",
       "      <td>HainoTeko G9 ultra max ስማርት ሰአት ሁለት የሚቀያየር የእ...</td>\n",
       "      <td>retail</td>\n",
       "      <td>[]</td>\n",
       "      <td>💥✅✅🌡🏃♂🏃♀🚶🚶♀✅📸🗓✅📲📲🚚</td>\n",
       "      <td>-</td>\n",
       "      <td>[]</td>\n",
       "      <td>[]</td>\n",
       "    </tr>\n",
       "    <tr>\n",
       "      <th>2430</th>\n",
       "      <td>የሚከራይ ቤት አከባቢ ዋጋ: 40,000 በወር የቤት አይነት: መኝታ: 4 ...</td>\n",
       "      <td>real estate</td>\n",
       "      <td>['#ጎሮ', '#ቪላ']</td>\n",
       "      <td>📍</td>\n",
       "      <td>NaN</td>\n",
       "      <td>[]</td>\n",
       "      <td>['betontext']</td>\n",
       "    </tr>\n",
       "    <tr>\n",
       "      <th>1569</th>\n",
       "      <td>Allstar converse leather Size: 37 38 41 42 43 ...</td>\n",
       "      <td>retail</td>\n",
       "      <td>[]</td>\n",
       "      <td>NaN</td>\n",
       "      <td>-</td>\n",
       "      <td>[]</td>\n",
       "      <td>['KicksAddis1', 'KicksAddis']</td>\n",
       "    </tr>\n",
       "  </tbody>\n",
       "</table>\n",
       "</div>"
      ],
      "text/plain": [
       "                                                      Message        label  \\\n",
       "Unnamed: 0                                                                   \n",
       "6190        Allstar converse chuck 70 Size: 42 43 Made in ...       retail   \n",
       "1242                            call us 0912426847 0905710617       retail   \n",
       "80           HainoTeko G9 ultra max ስማርት ሰአት ሁለት የሚቀያየር የእ...       retail   \n",
       "2430        የሚከራይ ቤት አከባቢ ዋጋ: 40,000 በወር የቤት አይነት: መኝታ: 4 ...  real estate   \n",
       "1569        Allstar converse leather Size: 37 38 41 42 43 ...       retail   \n",
       "\n",
       "                  hashtags              emojis symbols links  \\\n",
       "Unnamed: 0                                                     \n",
       "6190             ['#3200']                   💸       -    []   \n",
       "1242                    []                 NaN     NaN    []   \n",
       "80                      []  💥✅✅🌡🏃♂🏃♀🚶🚶♀✅📸🗓✅📲📲🚚       -    []   \n",
       "2430        ['#ጎሮ', '#ቪላ']                   📍     NaN    []   \n",
       "1569                    []                 NaN       -    []   \n",
       "\n",
       "                                 mentions  \n",
       "Unnamed: 0                                 \n",
       "6190        ['KicksAddis1', 'KicksAddis']  \n",
       "1242                                   []  \n",
       "80                                     []  \n",
       "2430                        ['betontext']  \n",
       "1569        ['KicksAddis1', 'KicksAddis']  "
      ]
     },
     "execution_count": 6,
     "metadata": {},
     "output_type": "execute_result"
    }
   ],
   "source": [
    "#removing emojis in the message column\n",
    "df1['Message'] = df1['Message'].apply(util.remove_emojis)\n",
    "df1.tail()"
   ]
  },
  {
   "cell_type": "code",
   "execution_count": 7,
   "id": "ddd7b7e1-f04a-4ff7-8f71-bf2480863da0",
   "metadata": {},
   "outputs": [
    {
     "data": {
      "text/html": [
       "<div>\n",
       "<style scoped>\n",
       "    .dataframe tbody tr th:only-of-type {\n",
       "        vertical-align: middle;\n",
       "    }\n",
       "\n",
       "    .dataframe tbody tr th {\n",
       "        vertical-align: top;\n",
       "    }\n",
       "\n",
       "    .dataframe thead th {\n",
       "        text-align: right;\n",
       "    }\n",
       "</style>\n",
       "<table border=\"1\" class=\"dataframe\">\n",
       "  <thead>\n",
       "    <tr style=\"text-align: right;\">\n",
       "      <th></th>\n",
       "      <th>Message</th>\n",
       "      <th>label</th>\n",
       "    </tr>\n",
       "    <tr>\n",
       "      <th>Unnamed: 0</th>\n",
       "      <th></th>\n",
       "      <th></th>\n",
       "    </tr>\n",
       "  </thead>\n",
       "  <tbody>\n",
       "    <tr>\n",
       "      <th>81</th>\n",
       "      <td>Sauna vest  ክብደትን ለመቀነስ እና በተከታታይ አጠቃቀም ሰውነትን ...</td>\n",
       "      <td>retail</td>\n",
       "    </tr>\n",
       "    <tr>\n",
       "      <th>2092</th>\n",
       "      <td># ጫማ መደርደሪያ [ ባለ ብረቱ ]  0910091057  0961068553...</td>\n",
       "      <td>retail</td>\n",
       "    </tr>\n",
       "    <tr>\n",
       "      <th>664</th>\n",
       "      <td>call us 0912426847 0905710617</td>\n",
       "      <td>retail</td>\n",
       "    </tr>\n",
       "    <tr>\n",
       "      <th>1219</th>\n",
       "      <td>Bapesta Sneaker Size: 40 41 42 43 Made in Viet...</td>\n",
       "      <td>retail</td>\n",
       "    </tr>\n",
       "    <tr>\n",
       "      <th>5990</th>\n",
       "      <td>Vans Sk8 Hi Tapered Size: 40 41 Made in Vietna...</td>\n",
       "      <td>retail</td>\n",
       "    </tr>\n",
       "  </tbody>\n",
       "</table>\n",
       "</div>"
      ],
      "text/plain": [
       "                                                      Message   label\n",
       "Unnamed: 0                                                           \n",
       "81          Sauna vest  ክብደትን ለመቀነስ እና በተከታታይ አጠቃቀም ሰውነትን ...  retail\n",
       "2092        # ጫማ መደርደሪያ [ ባለ ብረቱ ]  0910091057  0961068553...  retail\n",
       "664                             call us 0912426847 0905710617  retail\n",
       "1219        Bapesta Sneaker Size: 40 41 42 43 Made in Viet...  retail\n",
       "5990        Vans Sk8 Hi Tapered Size: 40 41 Made in Vietna...  retail"
      ]
     },
     "execution_count": 7,
     "metadata": {},
     "output_type": "execute_result"
    }
   ],
   "source": [
    "train = df1[['Message', 'label']]\n",
    "train.head()"
   ]
  },
  {
   "cell_type": "code",
   "execution_count": 8,
   "id": "6b82d3f2-55a6-4a77-8c15-0c750b4e79bc",
   "metadata": {},
   "outputs": [],
   "source": [
    "#normalizarion\n",
    "import re\n",
    "#method to normalize character level missmatch such as ጸሀይ and ፀሐይ\n",
    "def normalization(input_token):\n",
    "    rep1=re.sub('[ሃኅኃሐሓኻ]','ሀ',input_token)\n",
    "    rep2=re.sub('[ሑኁዅ]','ሁ',rep1)\n",
    "    rep3=re.sub('[ኂሒኺ]','ሂ',rep2)\n",
    "    rep4=re.sub('[ኌሔዄ]','ሄ',rep3)\n",
    "    rep5=re.sub('[ሕኅ]','ህ',rep4)\n",
    "    rep6=re.sub('[ኆሖኾ]','ሆ',rep5)\n",
    "    rep7=re.sub('[ሠ]','ሰ',rep6)\n",
    "    rep8=re.sub('[ሡ]','ሱ',rep7)\n",
    "    rep9=re.sub('[ሢ]','ሲ',rep8)\n",
    "    rep10=re.sub('[ሣ]','ሳ',rep9)\n",
    "    rep11=re.sub('[ሤ]','ሴ',rep10)\n",
    "    rep12=re.sub('[ሥ]','ስ',rep11)\n",
    "    rep13=re.sub('[ሦ]','ሶ',rep12)\n",
    "    rep14=re.sub('[ዓኣዐ]','አ',rep13)\n",
    "    rep15=re.sub('[ዑ]','ኡ',rep14)\n",
    "    rep16=re.sub('[ዒ]','ኢ',rep15)\n",
    "    rep17=re.sub('[ዔ]','ኤ',rep16)\n",
    "    rep18=re.sub('[ዕ]','እ',rep17)\n",
    "    rep19=re.sub('[ዖ]','ኦ',rep18)\n",
    "    rep20=re.sub('[ጸ]','ፀ',rep19)\n",
    "    rep21=re.sub('[ጹ]','ፁ',rep20)\n",
    "    rep22=re.sub('[ጺ]','ፂ',rep21)\n",
    "    rep23=re.sub('[ጻ]','ፃ',rep22)\n",
    "    rep24=re.sub('[ጼ]','ፄ',rep23)\n",
    "    rep25=re.sub('[ጽ]','ፅ',rep24)\n",
    "    rep26=re.sub('[ጾ]','ፆ',rep25)\n",
    "    rep27=re.sub('(ሉ[ዋአ])','ሏ',rep26)\n",
    "    rep28=re.sub('(ሙ[ዋአ])','ሟ',rep27)\n",
    "    rep29=re.sub('(ቱ[ዋአ])','ቷ',rep28)\n",
    "    rep30=re.sub('(ሩ[ዋአ])','ሯ',rep29)\n",
    "    rep31=re.sub('(ሱ[ዋአ])','ሷ',rep30)\n",
    "    rep32=re.sub('(ሹ[ዋአ])','ሿ',rep31)\n",
    "    rep33=re.sub('(ቁ[ዋአ])','ቋ',rep32)\n",
    "    rep34=re.sub('(ቡ[ዋአ])','ቧ',rep33)\n",
    "    rep35=re.sub('(ቹ[ዋአ])','ቿ',rep34)\n",
    "    rep36=re.sub('(ሁ[ዋአ])','ኋ',rep35)\n",
    "    rep37=re.sub('(ኑ[ዋአ])','ኗ',rep36)\n",
    "    rep38=re.sub('(ኙ[ዋአ])','ኟ',rep37)\n",
    "    rep39=re.sub('(ኩ[ዋአ])','ኳ',rep38)\n",
    "    rep40=re.sub('(ዙ[ዋአ])','ዟ',rep39)\n",
    "    rep41=re.sub('(ጉ[ዋአ])','ጓ',rep40)\n",
    "    rep42=re.sub('(ደ[ዋአ])','ዷ',rep41)\n",
    "    rep43=re.sub('(ጡ[ዋአ])','ጧ',rep42)\n",
    "    rep44=re.sub('(ጩ[ዋአ])','ጯ',rep43)\n",
    "    rep45=re.sub('(ጹ[ዋአ])','ጿ',rep44)\n",
    "    rep46=re.sub('(ፉ[ዋአ])','ፏ',rep45)\n",
    "    rep47=re.sub('[ቊ]','ቁ',rep46) #ቁ can be written as ቊ\n",
    "    rep48=re.sub('[ኵ]','ኩ',rep47) #ኩ can be also written as ኵ\n",
    "    return rep48"
   ]
  },
  {
   "cell_type": "code",
   "execution_count": 9,
   "id": "98efd460-443d-4c75-ab7e-d791ca2fb92f",
   "metadata": {},
   "outputs": [
    {
     "data": {
      "text/html": [
       "<div>\n",
       "<style scoped>\n",
       "    .dataframe tbody tr th:only-of-type {\n",
       "        vertical-align: middle;\n",
       "    }\n",
       "\n",
       "    .dataframe tbody tr th {\n",
       "        vertical-align: top;\n",
       "    }\n",
       "\n",
       "    .dataframe thead th {\n",
       "        text-align: right;\n",
       "    }\n",
       "</style>\n",
       "<table border=\"1\" class=\"dataframe\">\n",
       "  <thead>\n",
       "    <tr style=\"text-align: right;\">\n",
       "      <th></th>\n",
       "      <th>Message</th>\n",
       "      <th>label</th>\n",
       "    </tr>\n",
       "    <tr>\n",
       "      <th>Unnamed: 0</th>\n",
       "      <th></th>\n",
       "      <th></th>\n",
       "    </tr>\n",
       "  </thead>\n",
       "  <tbody>\n",
       "    <tr>\n",
       "      <th>81</th>\n",
       "      <td>Sauna vest  ክብደትን ለመቀነስ እና በተከታታይ አጠቃቀም ሰውነትን ...</td>\n",
       "      <td>retail</td>\n",
       "    </tr>\n",
       "    <tr>\n",
       "      <th>2092</th>\n",
       "      <td># ጫማ መደርደሪያ [ ባለ ብረቱ ]  0910091057  0961068553...</td>\n",
       "      <td>retail</td>\n",
       "    </tr>\n",
       "    <tr>\n",
       "      <th>664</th>\n",
       "      <td>call us 0912426847 0905710617</td>\n",
       "      <td>retail</td>\n",
       "    </tr>\n",
       "    <tr>\n",
       "      <th>1219</th>\n",
       "      <td>Bapesta Sneaker Size: 40 41 42 43 Made in Viet...</td>\n",
       "      <td>retail</td>\n",
       "    </tr>\n",
       "    <tr>\n",
       "      <th>5990</th>\n",
       "      <td>Vans Sk8 Hi Tapered Size: 40 41 Made in Vietna...</td>\n",
       "      <td>retail</td>\n",
       "    </tr>\n",
       "  </tbody>\n",
       "</table>\n",
       "</div>"
      ],
      "text/plain": [
       "                                                      Message   label\n",
       "Unnamed: 0                                                           \n",
       "81          Sauna vest  ክብደትን ለመቀነስ እና በተከታታይ አጠቃቀም ሰውነትን ...  retail\n",
       "2092        # ጫማ መደርደሪያ [ ባለ ብረቱ ]  0910091057  0961068553...  retail\n",
       "664                             call us 0912426847 0905710617  retail\n",
       "1219        Bapesta Sneaker Size: 40 41 42 43 Made in Viet...  retail\n",
       "5990        Vans Sk8 Hi Tapered Size: 40 41 Made in Vietna...  retail"
      ]
     },
     "execution_count": 9,
     "metadata": {},
     "output_type": "execute_result"
    }
   ],
   "source": [
    "# Apply normalization using .loc\n",
    "train.loc[:, 'Message'] = train['Message'].apply(lambda x: normalization(x))\n",
    "train.head()"
   ]
  },
  {
   "cell_type": "code",
   "execution_count": 10,
   "id": "563bdea8-7820-4861-9d1c-871e46f1c78d",
   "metadata": {},
   "outputs": [
    {
     "name": "stderr",
     "output_type": "stream",
     "text": [
      "/tmp/ipykernel_3953/2668947269.py:4: SettingWithCopyWarning: \n",
      "A value is trying to be set on a copy of a slice from a DataFrame.\n",
      "Try using .loc[row_indexer,col_indexer] = value instead\n",
      "\n",
      "See the caveats in the documentation: https://pandas.pydata.org/pandas-docs/stable/user_guide/indexing.html#returning-a-view-versus-a-copy\n",
      "  train['label'] = le.fit_transform(train['label'])\n"
     ]
    },
    {
     "data": {
      "text/html": [
       "<div>\n",
       "<style scoped>\n",
       "    .dataframe tbody tr th:only-of-type {\n",
       "        vertical-align: middle;\n",
       "    }\n",
       "\n",
       "    .dataframe tbody tr th {\n",
       "        vertical-align: top;\n",
       "    }\n",
       "\n",
       "    .dataframe thead th {\n",
       "        text-align: right;\n",
       "    }\n",
       "</style>\n",
       "<table border=\"1\" class=\"dataframe\">\n",
       "  <thead>\n",
       "    <tr style=\"text-align: right;\">\n",
       "      <th></th>\n",
       "      <th>Message</th>\n",
       "      <th>label</th>\n",
       "    </tr>\n",
       "    <tr>\n",
       "      <th>Unnamed: 0</th>\n",
       "      <th></th>\n",
       "      <th></th>\n",
       "    </tr>\n",
       "  </thead>\n",
       "  <tbody>\n",
       "    <tr>\n",
       "      <th>81</th>\n",
       "      <td>Sauna vest  ክብደትን ለመቀነስ እና በተከታታይ አጠቃቀም ሰውነትን ...</td>\n",
       "      <td>1</td>\n",
       "    </tr>\n",
       "    <tr>\n",
       "      <th>2092</th>\n",
       "      <td># ጫማ መደርደሪያ [ ባለ ብረቱ ]  0910091057  0961068553...</td>\n",
       "      <td>1</td>\n",
       "    </tr>\n",
       "    <tr>\n",
       "      <th>664</th>\n",
       "      <td>call us 0912426847 0905710617</td>\n",
       "      <td>1</td>\n",
       "    </tr>\n",
       "    <tr>\n",
       "      <th>1219</th>\n",
       "      <td>Bapesta Sneaker Size: 40 41 42 43 Made in Viet...</td>\n",
       "      <td>1</td>\n",
       "    </tr>\n",
       "    <tr>\n",
       "      <th>5990</th>\n",
       "      <td>Vans Sk8 Hi Tapered Size: 40 41 Made in Vietna...</td>\n",
       "      <td>1</td>\n",
       "    </tr>\n",
       "  </tbody>\n",
       "</table>\n",
       "</div>"
      ],
      "text/plain": [
       "                                                      Message  label\n",
       "Unnamed: 0                                                          \n",
       "81          Sauna vest  ክብደትን ለመቀነስ እና በተከታታይ አጠቃቀም ሰውነትን ...      1\n",
       "2092        # ጫማ መደርደሪያ [ ባለ ብረቱ ]  0910091057  0961068553...      1\n",
       "664                             call us 0912426847 0905710617      1\n",
       "1219        Bapesta Sneaker Size: 40 41 42 43 Made in Viet...      1\n",
       "5990        Vans Sk8 Hi Tapered Size: 40 41 Made in Vietna...      1"
      ]
     },
     "execution_count": 10,
     "metadata": {},
     "output_type": "execute_result"
    }
   ],
   "source": [
    "#using label encoder t0 encode the label column\n",
    "from sklearn.preprocessing import LabelEncoder\n",
    "le = LabelEncoder()\n",
    "train['label'] = le.fit_transform(train['label'])\n",
    "train.head()"
   ]
  },
  {
   "cell_type": "markdown",
   "id": "ad2d209f-303e-462e-af75-765761d69f5a",
   "metadata": {},
   "source": [
    "### Feature engineering"
   ]
  },
  {
   "cell_type": "code",
   "execution_count": 11,
   "id": "265b4545-b3e5-450f-a3a2-0e1edd6e6ec0",
   "metadata": {},
   "outputs": [],
   "source": [
    "#splitting the dataset\n",
    "from sklearn.model_selection import train_test_split\n",
    "train_df, test_df = train_test_split(train, test_size=0.17, random_state=42) # splitting the dataset to train and test data"
   ]
  },
  {
   "cell_type": "code",
   "execution_count": 12,
   "id": "ffac95ce-e3da-481a-acb0-566eca269941",
   "metadata": {},
   "outputs": [
    {
     "name": "stdout",
     "output_type": "stream",
     "text": [
      "Training dataset shape:  (5316, 2)\n",
      "Validation dataset shape:  (591, 2)\n",
      "Testing dataset shape:  (1211, 2)\n"
     ]
    }
   ],
   "source": [
    "#splitting the dataset into an evaluation set\n",
    "train_df, evaluation_df = train_test_split(train_df, test_size=0.10, random_state=42)\n",
    "print('Training dataset shape: ', train_df.shape)\n",
    "print('Validation dataset shape: ', evaluation_df.shape)\n",
    "print('Testing dataset shape: ', test_df.shape)"
   ]
  },
  {
   "cell_type": "code",
   "execution_count": 13,
   "id": "02543316-da89-495d-8479-6c68375da1e1",
   "metadata": {},
   "outputs": [
    {
     "name": "stdout",
     "output_type": "stream",
     "text": [
      "\u001b[33mWARNING: Ignoring invalid distribution ~ransformers (/opt/miniconda/lib/python3.11/site-packages)\u001b[0m\u001b[33m\n",
      "\u001b[0m\u001b[33mWARNING: Ignoring invalid distribution ~ransformers (/opt/miniconda/lib/python3.11/site-packages)\u001b[0m\u001b[33m\n",
      "\u001b[0mRequirement already satisfied: datasets in /opt/miniconda/lib/python3.11/site-packages (2.12.0)\n",
      "Requirement already satisfied: numpy>=1.17 in /home/yvvon_majala/.local/lib/python3.11/site-packages (from datasets) (1.26.3)\n",
      "Requirement already satisfied: pyarrow>=8.0.0 in /opt/miniconda/lib/python3.11/site-packages (from datasets) (15.0.0)\n",
      "Requirement already satisfied: dill<0.3.7,>=0.3.0 in /opt/miniconda/lib/python3.11/site-packages (from datasets) (0.3.6)\n",
      "Requirement already satisfied: pandas in /opt/miniconda/lib/python3.11/site-packages (from datasets) (2.2.0)\n",
      "Requirement already satisfied: requests>=2.19.0 in /opt/miniconda/lib/python3.11/site-packages (from datasets) (2.31.0)\n",
      "Requirement already satisfied: tqdm>=4.62.1 in /opt/miniconda/lib/python3.11/site-packages (from datasets) (4.65.0)\n",
      "Requirement already satisfied: xxhash in /opt/miniconda/lib/python3.11/site-packages (from datasets) (3.4.1)\n",
      "Requirement already satisfied: multiprocess in /opt/miniconda/lib/python3.11/site-packages (from datasets) (0.70.14)\n",
      "Requirement already satisfied: fsspec>=2021.11.1 in /opt/miniconda/lib/python3.11/site-packages (from fsspec[http]>=2021.11.1->datasets) (2023.12.2)\n",
      "Requirement already satisfied: aiohttp in /opt/miniconda/lib/python3.11/site-packages (from datasets) (3.9.1)\n",
      "Requirement already satisfied: huggingface-hub<1.0.0,>=0.11.0 in /opt/miniconda/lib/python3.11/site-packages (from datasets) (0.20.3)\n",
      "Requirement already satisfied: packaging in /opt/miniconda/lib/python3.11/site-packages (from datasets) (23.2)\n",
      "Requirement already satisfied: responses<0.19 in /opt/miniconda/lib/python3.11/site-packages (from datasets) (0.18.0)\n",
      "Requirement already satisfied: pyyaml>=5.1 in /opt/miniconda/lib/python3.11/site-packages (from datasets) (6.0.1)\n",
      "Requirement already satisfied: attrs>=17.3.0 in /opt/miniconda/lib/python3.11/site-packages (from aiohttp->datasets) (23.2.0)\n",
      "Requirement already satisfied: multidict<7.0,>=4.5 in /opt/miniconda/lib/python3.11/site-packages (from aiohttp->datasets) (6.0.4)\n",
      "Requirement already satisfied: yarl<2.0,>=1.0 in /opt/miniconda/lib/python3.11/site-packages (from aiohttp->datasets) (1.9.4)\n",
      "Requirement already satisfied: frozenlist>=1.1.1 in /opt/miniconda/lib/python3.11/site-packages (from aiohttp->datasets) (1.4.1)\n",
      "Requirement already satisfied: aiosignal>=1.1.2 in /opt/miniconda/lib/python3.11/site-packages (from aiohttp->datasets) (1.3.1)\n",
      "Requirement already satisfied: filelock in /opt/miniconda/lib/python3.11/site-packages (from huggingface-hub<1.0.0,>=0.11.0->datasets) (3.13.1)\n",
      "Requirement already satisfied: typing-extensions>=3.7.4.3 in /opt/miniconda/lib/python3.11/site-packages (from huggingface-hub<1.0.0,>=0.11.0->datasets) (4.9.0)\n",
      "Requirement already satisfied: charset-normalizer<4,>=2 in /opt/miniconda/lib/python3.11/site-packages (from requests>=2.19.0->datasets) (2.0.4)\n",
      "Requirement already satisfied: idna<4,>=2.5 in /opt/miniconda/lib/python3.11/site-packages (from requests>=2.19.0->datasets) (3.4)\n",
      "Requirement already satisfied: urllib3<3,>=1.21.1 in /opt/miniconda/lib/python3.11/site-packages (from requests>=2.19.0->datasets) (1.26.18)\n",
      "Requirement already satisfied: certifi>=2017.4.17 in /opt/miniconda/lib/python3.11/site-packages (from requests>=2.19.0->datasets) (2023.11.17)\n",
      "Requirement already satisfied: python-dateutil>=2.8.2 in /opt/miniconda/lib/python3.11/site-packages (from pandas->datasets) (2.8.2)\n",
      "Requirement already satisfied: pytz>=2020.1 in /opt/miniconda/lib/python3.11/site-packages (from pandas->datasets) (2023.3.post1)\n",
      "Requirement already satisfied: tzdata>=2022.7 in /opt/miniconda/lib/python3.11/site-packages (from pandas->datasets) (2023.4)\n",
      "Requirement already satisfied: six>=1.5 in /opt/miniconda/lib/python3.11/site-packages (from python-dateutil>=2.8.2->pandas->datasets) (1.16.0)\n",
      "\u001b[33mWARNING: Ignoring invalid distribution ~ransformers (/opt/miniconda/lib/python3.11/site-packages)\u001b[0m\u001b[33m\n",
      "\u001b[0m\u001b[33mWARNING: Ignoring invalid distribution ~ransformers (/opt/miniconda/lib/python3.11/site-packages)\u001b[0m\u001b[33m\n",
      "\u001b[0m\u001b[33mWARNING: Ignoring invalid distribution ~ransformers (/opt/miniconda/lib/python3.11/site-packages)\u001b[0m\u001b[33m\n",
      "\u001b[0m\u001b[33mWARNING: Ignoring invalid distribution ~ransformers (/opt/miniconda/lib/python3.11/site-packages)\u001b[0m\u001b[33m\n",
      "\u001b[0m"
     ]
    }
   ],
   "source": [
    "!pip install datasets"
   ]
  },
  {
   "cell_type": "code",
   "execution_count": 14,
   "id": "fa3d323f-4e14-4309-aa2b-94ed83067ca7",
   "metadata": {},
   "outputs": [],
   "source": [
    "from datasets import Dataset,DatasetDict"
   ]
  },
  {
   "cell_type": "code",
   "execution_count": 15,
   "id": "c6afd270-f2ba-416c-899b-15a45cb9690a",
   "metadata": {},
   "outputs": [],
   "source": [
    "#convert format of the dataset to HuggingFace Dataset from Pandas DataFrame\n",
    "train_df=Dataset.from_pandas(train_df)\n",
    "test_df = Dataset.from_pandas(test_df)\n",
    "evaluation_df = Dataset.from_pandas(evaluation_df)\n",
    "\n"
   ]
  },
  {
   "cell_type": "code",
   "execution_count": 16,
   "id": "a05e6d55-82c1-4bc6-9441-11d833408039",
   "metadata": {},
   "outputs": [],
   "source": [
    "#combine the train ,test and evaluation dataset into one datset\n",
    "main_df= DatasetDict({\n",
    "    'train': train_df,\n",
    "    'test': test_df,\n",
    "    'evaluate': evaluation_df\n",
    "})"
   ]
  },
  {
   "cell_type": "code",
   "execution_count": 17,
   "id": "1b7a93cf-ba4a-47e7-8d92-956715e54317",
   "metadata": {},
   "outputs": [],
   "source": [
    "#removing the unnamed: 0 columns\n",
    "main_df = main_df.remove_columns(['Unnamed: 0'])"
   ]
  },
  {
   "cell_type": "code",
   "execution_count": 18,
   "id": "edb1c6d3-bf35-4a72-9c70-7ba8e45d5923",
   "metadata": {},
   "outputs": [],
   "source": [
    "# training and testing data size\n",
    "training_data_size = main_df['train'].num_rows\n",
    "testing_data_size = main_df['test'].num_rows\n",
    "evaluation_data_size = main_df['evaluate'].num_rows"
   ]
  },
  {
   "cell_type": "code",
   "execution_count": 19,
   "id": "7bd84ff0-969e-4c41-995c-57f71916ae98",
   "metadata": {},
   "outputs": [
    {
     "name": "stderr",
     "output_type": "stream",
     "text": [
      "/opt/miniconda/lib/python3.11/site-packages/torch/_utils.py:831: UserWarning: TypedStorage is deprecated. It will be removed in the future and UntypedStorage will be the only storage class. This should only matter to you if you are using storages directly.  To access UntypedStorage directly, use tensor.untyped_storage() instead of tensor.storage()\n",
      "  return self.fget.__get__(instance, owner)()\n",
      "Some weights of BertForSequenceClassification were not initialized from the model checkpoint at Davlan/bert-base-multilingual-cased-finetuned-amharic and are newly initialized: ['bert.pooler.dense.bias', 'bert.pooler.dense.weight', 'classifier.bias', 'classifier.weight']\n",
      "You should probably TRAIN this model on a down-stream task to be able to use it for predictions and inference.\n"
     ]
    }
   ],
   "source": [
    "# Load model directly\n",
    "from transformers import AutoTokenizer, AutoModelForSequenceClassification,TrainingArguments,Trainer\n",
    "\n",
    "tokenizer = AutoTokenizer.from_pretrained(\"Davlan/bert-base-multilingual-cased-finetuned-amharic\")\n",
    "model = AutoModelForSequenceClassification.from_pretrained(\"Davlan/bert-base-multilingual-cased-finetuned-amharic\", num_labels = 2)"
   ]
  },
  {
   "cell_type": "code",
   "execution_count": 20,
   "id": "02ffe13c-5551-4826-ae3e-9a4baa2a0f1b",
   "metadata": {},
   "outputs": [],
   "source": [
    "#a tokenixing function to tokenize the dataset\n",
    "def tok(data):\n",
    "    return tokenizer(data[\"Message\"], padding=\"max_length\", truncation=True)"
   ]
  },
  {
   "cell_type": "code",
   "execution_count": 21,
   "id": "7bdefffe-890b-4ce9-b2fb-cf49ef97efab",
   "metadata": {},
   "outputs": [
    {
     "data": {
      "application/vnd.jupyter.widget-view+json": {
       "model_id": "",
       "version_major": 2,
       "version_minor": 0
      },
      "text/plain": [
       "Map:   0%|          | 0/5316 [00:00<?, ? examples/s]"
      ]
     },
     "metadata": {},
     "output_type": "display_data"
    },
    {
     "data": {
      "application/vnd.jupyter.widget-view+json": {
       "model_id": "",
       "version_major": 2,
       "version_minor": 0
      },
      "text/plain": [
       "Map:   0%|          | 0/1211 [00:00<?, ? examples/s]"
      ]
     },
     "metadata": {},
     "output_type": "display_data"
    },
    {
     "data": {
      "application/vnd.jupyter.widget-view+json": {
       "model_id": "",
       "version_major": 2,
       "version_minor": 0
      },
      "text/plain": [
       "Map:   0%|          | 0/591 [00:00<?, ? examples/s]"
      ]
     },
     "metadata": {},
     "output_type": "display_data"
    }
   ],
   "source": [
    "#tokenizing the dataset\n",
    "tok_df = main_df.map(tok)"
   ]
  },
  {
   "cell_type": "code",
   "execution_count": 22,
   "id": "0f7b4237-45c3-4ee0-8aad-36dd8b6f3555",
   "metadata": {},
   "outputs": [
    {
     "data": {
      "text/plain": [
       "DatasetDict({\n",
       "    train: Dataset({\n",
       "        features: ['Message', 'label', 'input_ids', 'token_type_ids', 'attention_mask'],\n",
       "        num_rows: 5316\n",
       "    })\n",
       "    test: Dataset({\n",
       "        features: ['Message', 'label', 'input_ids', 'token_type_ids', 'attention_mask'],\n",
       "        num_rows: 1211\n",
       "    })\n",
       "    evaluate: Dataset({\n",
       "        features: ['Message', 'label', 'input_ids', 'token_type_ids', 'attention_mask'],\n",
       "        num_rows: 591\n",
       "    })\n",
       "})"
      ]
     },
     "execution_count": 22,
     "metadata": {},
     "output_type": "execute_result"
    }
   ],
   "source": [
    "tok_df"
   ]
  },
  {
   "cell_type": "code",
   "execution_count": 23,
   "id": "5434b736-4f2b-4c6f-9110-4b31941a8647",
   "metadata": {},
   "outputs": [],
   "source": [
    "#remove the Message column\n",
    "tok_df = tok_df.remove_columns([\"Message\"])"
   ]
  },
  {
   "cell_type": "markdown",
   "id": "b229808d-1e5c-4c17-b169-eb332639e3be",
   "metadata": {},
   "source": [
    "### Using pytorch to train the model"
   ]
  },
  {
   "cell_type": "code",
   "execution_count": 24,
   "id": "b70363b2-3273-4187-a6b9-76e18d6a0d1b",
   "metadata": {},
   "outputs": [],
   "source": [
    "#import torch\n",
    "import torch\n",
    "#import Data loader from torch\n",
    "from torch.utils.data import DataLoader\n",
    "#import an optimizer\n",
    "from torch.optim import AdamW\n",
    "#import tqdm for a progress bar\n",
    "from tqdm.auto import tqdm"
   ]
  },
  {
   "cell_type": "code",
   "execution_count": 25,
   "id": "407ff17e-50a6-44cb-9b66-2bb340d1e0e3",
   "metadata": {},
   "outputs": [],
   "source": [
    "#changing the format of dataset to pytorch\n",
    "tok_df.set_format(\"torch\")"
   ]
  },
  {
   "cell_type": "code",
   "execution_count": 26,
   "id": "b7417650-02a6-498e-a1db-65267c0412cb",
   "metadata": {},
   "outputs": [
    {
     "data": {
      "text/plain": [
       "DatasetDict({\n",
       "    train: Dataset({\n",
       "        features: ['Message', 'label'],\n",
       "        num_rows: 5316\n",
       "    })\n",
       "    test: Dataset({\n",
       "        features: ['Message', 'label'],\n",
       "        num_rows: 1211\n",
       "    })\n",
       "    evaluate: Dataset({\n",
       "        features: ['Message', 'label'],\n",
       "        num_rows: 591\n",
       "    })\n",
       "})"
      ]
     },
     "execution_count": 26,
     "metadata": {},
     "output_type": "execute_result"
    }
   ],
   "source": [
    "main_df"
   ]
  },
  {
   "cell_type": "code",
   "execution_count": 27,
   "id": "7005e6ae-e177-4f0f-b426-2ab7208df45f",
   "metadata": {},
   "outputs": [],
   "source": [
    "#setting the range of the train test and evaluation data\n",
    "train_df = tok_df[\"train\"].shuffle(seed=20).select(range(main_df['train'].num_rows))\n",
    "test_df = tok_df[\"test\"].shuffle(seed=20).select(range(main_df['test'].num_rows))\n",
    "ev_df = tok_df[\"evaluate\"].shuffle(seed=20).select(range(main_df['evaluate'].num_rows))"
   ]
  },
  {
   "cell_type": "code",
   "execution_count": 28,
   "id": "c006a786-8eee-404b-92c4-6b6b27d7112e",
   "metadata": {},
   "outputs": [
    {
     "data": {
      "text/plain": [
       "Dataset({\n",
       "    features: ['label', 'input_ids', 'token_type_ids', 'attention_mask'],\n",
       "    num_rows: 591\n",
       "})"
      ]
     },
     "execution_count": 28,
     "metadata": {},
     "output_type": "execute_result"
    }
   ],
   "source": [
    "ev_df"
   ]
  },
  {
   "cell_type": "code",
   "execution_count": 29,
   "id": "2b7a02db-4d8a-4c83-b1bd-c3af63a2877c",
   "metadata": {},
   "outputs": [],
   "source": [
    "#initializing the dataloader\n",
    "train_dataloader = DataLoader(train_df, shuffle=True, batch_size=20)\n",
    "test_dataloader = DataLoader(test_df, batch_size=20)\n",
    "ev_dataloader = DataLoader(ev_df, batch_size=20)"
   ]
  },
  {
   "cell_type": "code",
   "execution_count": 30,
   "id": "0deed32f-eaf8-4e7e-b849-cf7e35c8999e",
   "metadata": {},
   "outputs": [
    {
     "name": "stdout",
     "output_type": "stream",
     "text": [
      "Training on GPU\n",
      "cuda:0\n"
     ]
    }
   ],
   "source": [
    "#initializing the gpu\n",
    "device = torch.device(\"cpu\")\n",
    "\n",
    "if torch.cuda.is_available():\n",
    "   print(\"Training on GPU\")\n",
    "   device = torch.device(\"cuda:0\")\n",
    "print(device)"
   ]
  },
  {
   "cell_type": "code",
   "execution_count": 31,
   "id": "d0cfa300-bf7a-4eb9-92d5-6fcf247f1737",
   "metadata": {},
   "outputs": [
    {
     "data": {
      "text/plain": [
       "'0.26.1'"
      ]
     },
     "execution_count": 31,
     "metadata": {},
     "output_type": "execute_result"
    }
   ],
   "source": [
    "from datasets import load_metric\n",
    "from transformers import EarlyStoppingCallback, IntervalStrategy\n",
    "import accelerate\n",
    "accelerate.__version__"
   ]
  },
  {
   "cell_type": "code",
   "execution_count": 32,
   "id": "ffb3b71c-2dea-43eb-8753-5dd49e1a3686",
   "metadata": {},
   "outputs": [],
   "source": [
    "def custom_metrics(eval_pred):\n",
    "    metric1 = load_metric(\"precision\")\n",
    "    metric2 = load_metric(\"recall\")\n",
    "    metric3 = load_metric(\"f1\")\n",
    "    metric4 = load_metric(\"accuracy\")\n",
    "\n",
    "    logits, labels = eval_pred\n",
    "    predictions = np.argmax(logits, axis=-1)\n",
    "\n",
    "    precision = metric1.compute(predictions=predictions, references=labels, average=\"weighted\")[\"precision\"]\n",
    "    recall = metric2.compute(predictions=predictions, references=labels, average=\"weighted\")[\"recall\"]\n",
    "    f1 = metric3.compute(predictions=predictions, references=labels, average=\"weighted\")[\"f1\"]\n",
    "    accuracy = metric4.compute(predictions=predictions, references=labels)[\"accuracy\"]\n",
    "\n",
    "    return {\"precision\": precision, \"recall\": recall, \"f1\": f1, \"accuracy\": accuracy}"
   ]
  },
  {
   "cell_type": "code",
   "execution_count": 33,
   "id": "cd828146-602b-4c52-a832-22e0fd302a3d",
   "metadata": {},
   "outputs": [],
   "source": [
    "training_args = TrainingArguments(\n",
    "   f\"training_with_callbacks\",\n",
    "   evaluation_strategy='epoch',\n",
    "   save_strategy='epoch',\n",
    "   num_train_epochs=10,\n",
    "   # total number of training epochs\n",
    "   learning_rate=1e-5,\n",
    "   per_device_train_batch_size=4,  # batch size per device during training\n",
    "   per_device_eval_batch_size=8,   # batch size for evaluation\n",
    "    warmup_steps=1000,                # number of warmup steps for learning rate\n",
    "    load_best_model_at_end= True,\n",
    "    weight_decay=0.01,               # strength of weight decay\n",
    "    logging_dir='./logs',            # directory for storing logs\n",
    "    logging_steps=20,\n",
    "\n",
    "   )"
   ]
  },
  {
   "cell_type": "code",
   "execution_count": 34,
   "id": "f6a0c535-d988-4874-9e8f-f847cef90a8d",
   "metadata": {},
   "outputs": [],
   "source": [
    "trainer = Trainer(\n",
    "    model=model,\n",
    "    args=training_args,\n",
    "    train_dataset=train_df,\n",
    "    eval_dataset=ev_df,\n",
    "    compute_metrics=custom_metrics,\n",
    "    callbacks = [EarlyStoppingCallback(early_stopping_patience=10)],\n",
    ")"
   ]
  },
  {
   "cell_type": "code",
   "execution_count": 35,
   "id": "bee01c70-9773-449d-8d69-7775307acee1",
   "metadata": {},
   "outputs": [
    {
     "data": {
      "text/html": [
       "\n",
       "    <div>\n",
       "      \n",
       "      <progress value='13290' max='13290' style='width:300px; height:20px; vertical-align: middle;'></progress>\n",
       "      [13290/13290 33:31, Epoch 10/10]\n",
       "    </div>\n",
       "    <table border=\"1\" class=\"dataframe\">\n",
       "  <thead>\n",
       " <tr style=\"text-align: left;\">\n",
       "      <th>Epoch</th>\n",
       "      <th>Training Loss</th>\n",
       "      <th>Validation Loss</th>\n",
       "      <th>Precision</th>\n",
       "      <th>Recall</th>\n",
       "      <th>F1</th>\n",
       "      <th>Accuracy</th>\n",
       "    </tr>\n",
       "  </thead>\n",
       "  <tbody>\n",
       "    <tr>\n",
       "      <td>1</td>\n",
       "      <td>0.000300</td>\n",
       "      <td>0.047811</td>\n",
       "      <td>0.993232</td>\n",
       "      <td>0.993232</td>\n",
       "      <td>0.993232</td>\n",
       "      <td>0.993232</td>\n",
       "    </tr>\n",
       "    <tr>\n",
       "      <td>2</td>\n",
       "      <td>0.001100</td>\n",
       "      <td>0.060357</td>\n",
       "      <td>0.991635</td>\n",
       "      <td>0.991540</td>\n",
       "      <td>0.991579</td>\n",
       "      <td>0.991540</td>\n",
       "    </tr>\n",
       "    <tr>\n",
       "      <td>3</td>\n",
       "      <td>0.000000</td>\n",
       "      <td>0.051221</td>\n",
       "      <td>0.994895</td>\n",
       "      <td>0.994924</td>\n",
       "      <td>0.994900</td>\n",
       "      <td>0.994924</td>\n",
       "    </tr>\n",
       "    <tr>\n",
       "      <td>4</td>\n",
       "      <td>0.000000</td>\n",
       "      <td>0.052304</td>\n",
       "      <td>0.994895</td>\n",
       "      <td>0.994924</td>\n",
       "      <td>0.994900</td>\n",
       "      <td>0.994924</td>\n",
       "    </tr>\n",
       "    <tr>\n",
       "      <td>5</td>\n",
       "      <td>0.130900</td>\n",
       "      <td>0.039810</td>\n",
       "      <td>0.994895</td>\n",
       "      <td>0.994924</td>\n",
       "      <td>0.994900</td>\n",
       "      <td>0.994924</td>\n",
       "    </tr>\n",
       "    <tr>\n",
       "      <td>6</td>\n",
       "      <td>0.000000</td>\n",
       "      <td>0.077901</td>\n",
       "      <td>0.993178</td>\n",
       "      <td>0.993232</td>\n",
       "      <td>0.993168</td>\n",
       "      <td>0.993232</td>\n",
       "    </tr>\n",
       "    <tr>\n",
       "      <td>7</td>\n",
       "      <td>0.000000</td>\n",
       "      <td>0.061080</td>\n",
       "      <td>0.993232</td>\n",
       "      <td>0.993232</td>\n",
       "      <td>0.993232</td>\n",
       "      <td>0.993232</td>\n",
       "    </tr>\n",
       "    <tr>\n",
       "      <td>8</td>\n",
       "      <td>0.000000</td>\n",
       "      <td>0.062987</td>\n",
       "      <td>0.993232</td>\n",
       "      <td>0.993232</td>\n",
       "      <td>0.993232</td>\n",
       "      <td>0.993232</td>\n",
       "    </tr>\n",
       "    <tr>\n",
       "      <td>9</td>\n",
       "      <td>0.000000</td>\n",
       "      <td>0.065226</td>\n",
       "      <td>0.993232</td>\n",
       "      <td>0.993232</td>\n",
       "      <td>0.993232</td>\n",
       "      <td>0.993232</td>\n",
       "    </tr>\n",
       "    <tr>\n",
       "      <td>10</td>\n",
       "      <td>0.000000</td>\n",
       "      <td>0.065929</td>\n",
       "      <td>0.993232</td>\n",
       "      <td>0.993232</td>\n",
       "      <td>0.993232</td>\n",
       "      <td>0.993232</td>\n",
       "    </tr>\n",
       "  </tbody>\n",
       "</table><p>"
      ],
      "text/plain": [
       "<IPython.core.display.HTML object>"
      ]
     },
     "metadata": {},
     "output_type": "display_data"
    },
    {
     "name": "stderr",
     "output_type": "stream",
     "text": [
      "/tmp/ipykernel_3953/3632433223.py:2: FutureWarning: load_metric is deprecated and will be removed in the next major version of datasets. Use 'evaluate.load' instead, from the new library 🤗 Evaluate: https://huggingface.co/docs/evaluate\n",
      "  metric1 = load_metric(\"precision\")\n"
     ]
    },
    {
     "data": {
      "application/vnd.jupyter.widget-view+json": {
       "model_id": "d3f0086d534a4f2090d7b294d4d0c1d0",
       "version_major": 2,
       "version_minor": 0
      },
      "text/plain": [
       "Downloading builder script:   0%|          | 0.00/2.58k [00:00<?, ?B/s]"
      ]
     },
     "metadata": {},
     "output_type": "display_data"
    },
    {
     "data": {
      "application/vnd.jupyter.widget-view+json": {
       "model_id": "0549107437c8412eab4f7728581201c9",
       "version_major": 2,
       "version_minor": 0
      },
      "text/plain": [
       "Downloading builder script:   0%|          | 0.00/2.52k [00:00<?, ?B/s]"
      ]
     },
     "metadata": {},
     "output_type": "display_data"
    },
    {
     "data": {
      "application/vnd.jupyter.widget-view+json": {
       "model_id": "71313d8569a2469c946495b54f9ce161",
       "version_major": 2,
       "version_minor": 0
      },
      "text/plain": [
       "Downloading builder script:   0%|          | 0.00/2.32k [00:00<?, ?B/s]"
      ]
     },
     "metadata": {},
     "output_type": "display_data"
    },
    {
     "data": {
      "application/vnd.jupyter.widget-view+json": {
       "model_id": "2f4593d7b15d47dea454d7b3d02801e6",
       "version_major": 2,
       "version_minor": 0
      },
      "text/plain": [
       "Downloading builder script:   0%|          | 0.00/1.65k [00:00<?, ?B/s]"
      ]
     },
     "metadata": {},
     "output_type": "display_data"
    },
    {
     "data": {
      "text/plain": [
       "TrainOutput(global_step=13290, training_loss=0.011602648074128606, metrics={'train_runtime': 2014.7355, 'train_samples_per_second': 26.386, 'train_steps_per_second': 6.596, 'total_flos': 1.39869837029376e+16, 'train_loss': 0.011602648074128606, 'epoch': 10.0})"
      ]
     },
     "execution_count": 35,
     "metadata": {},
     "output_type": "execute_result"
    }
   ],
   "source": [
    "#emptying the cache\n",
    "torch.cuda.empty_cache()\n",
    "#training the model\n",
    "trainer.train()"
   ]
  },
  {
   "cell_type": "code",
   "execution_count": 36,
   "id": "b93d1894-6a5b-4eb5-8603-e7d1227c65a8",
   "metadata": {},
   "outputs": [
    {
     "data": {
      "text/html": [
       "\n",
       "    <div>\n",
       "      \n",
       "      <progress value='152' max='152' style='width:300px; height:20px; vertical-align: middle;'></progress>\n",
       "      [152/152 00:10]\n",
       "    </div>\n",
       "    "
      ],
      "text/plain": [
       "<IPython.core.display.HTML object>"
      ]
     },
     "metadata": {},
     "output_type": "display_data"
    },
    {
     "data": {
      "text/plain": [
       "{'eval_loss': 0.009303835220634937,\n",
       " 'eval_precision': 0.9983514696647939,\n",
       " 'eval_recall': 0.9983484723369116,\n",
       " 'eval_f1': 0.9983417154055512,\n",
       " 'eval_accuracy': 0.9983484723369116,\n",
       " 'eval_runtime': 11.2317,\n",
       " 'eval_samples_per_second': 107.82,\n",
       " 'eval_steps_per_second': 13.533,\n",
       " 'epoch': 10.0}"
      ]
     },
     "execution_count": 36,
     "metadata": {},
     "output_type": "execute_result"
    }
   ],
   "source": [
    "trainer.evaluate(test_df)"
   ]
  },
  {
   "cell_type": "code",
   "execution_count": 37,
   "id": "168b4f62-8cfd-45d3-bce0-8fb260211af1",
   "metadata": {},
   "outputs": [],
   "source": [
    "folder = \"/home/yvvon_majala/llm-fast-api/model_saving\"\n",
    "tokenizer.save_pretrained(folder)\n",
    "model.save_pretrained(folder)\n"
   ]
  },
  {
   "cell_type": "code",
   "execution_count": null,
   "id": "ea390e30-e1d2-4955-9bb2-4075383be03d",
   "metadata": {},
   "outputs": [],
   "source": []
  }
 ],
 "metadata": {
  "kernelspec": {
   "display_name": "Python 3 (ipykernel)",
   "language": "python",
   "name": "python3"
  },
  "language_info": {
   "codemirror_mode": {
    "name": "ipython",
    "version": 3
   },
   "file_extension": ".py",
   "mimetype": "text/x-python",
   "name": "python",
   "nbconvert_exporter": "python",
   "pygments_lexer": "ipython3",
   "version": "3.11.5"
  }
 },
 "nbformat": 4,
 "nbformat_minor": 5
}
