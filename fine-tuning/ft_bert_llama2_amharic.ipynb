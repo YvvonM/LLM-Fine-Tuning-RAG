{
 "cells": [
  {
   "cell_type": "markdown",
   "metadata": {
    "colab_type": "text",
    "id": "view-in-github"
   },
   "source": [
    "<a href=\"https://colab.research.google.com/github/demekeendalie/Fine-tuning-bert-model-for-amharic-news-classification/blob/main/Amharic_news_classification.ipynb\" target=\"_parent\"><img src=\"https://colab.research.google.com/assets/colab-badge.svg\" alt=\"Open In Colab\"/></a>"
   ]
  },
  {
   "cell_type": "code",
   "execution_count": 130,
   "metadata": {},
   "outputs": [],
   "source": [
    "#!pip install -q openpyxl"
   ]
  },
  {
   "cell_type": "code",
   "execution_count": 2,
   "metadata": {
    "id": "My-hxiBonu0b"
   },
   "outputs": [],
   "source": [
    "import pandas as pd\n",
    "import numpy as np\n",
    "import os"
   ]
  },
  {
   "cell_type": "code",
   "execution_count": 131,
   "metadata": {
    "id": "5iIPewanpCAq"
   },
   "outputs": [],
   "source": [
    "df = pd.read_csv(\"labeled_data_final.csv\")"
   ]
  },
  {
   "cell_type": "code",
   "execution_count": 132,
   "metadata": {},
   "outputs": [
    {
     "data": {
      "text/html": [
       "<div>\n",
       "<style scoped>\n",
       "    .dataframe tbody tr th:only-of-type {\n",
       "        vertical-align: middle;\n",
       "    }\n",
       "\n",
       "    .dataframe tbody tr th {\n",
       "        vertical-align: top;\n",
       "    }\n",
       "\n",
       "    .dataframe thead th {\n",
       "        text-align: right;\n",
       "    }\n",
       "</style>\n",
       "<table border=\"1\" class=\"dataframe\">\n",
       "  <thead>\n",
       "    <tr style=\"text-align: right;\">\n",
       "      <th></th>\n",
       "      <th>text</th>\n",
       "      <th>label</th>\n",
       "    </tr>\n",
       "  </thead>\n",
       "  <tbody>\n",
       "    <tr>\n",
       "      <th>0</th>\n",
       "      <td>የሚከራይ ቤት አከባቢ ዋጋ: 120,000 በወር የቤት አይነት: መኝታ: 3...</td>\n",
       "      <td>real_estate</td>\n",
       "    </tr>\n",
       "    <tr>\n",
       "      <th>1</th>\n",
       "      <td>የሚከራይ ቤት 72 አከባቢ ዋጋ: 37,000 በወር የቤት አይነት: +2 መ...</td>\n",
       "      <td>real_estate</td>\n",
       "    </tr>\n",
       "    <tr>\n",
       "      <th>2</th>\n",
       "      <td>የሚከራይ ቤት አከባቢ ዋጋ: 35,000 በወር የቤት አይነት: መኝታ: 3 ...</td>\n",
       "      <td>real_estate</td>\n",
       "    </tr>\n",
       "    <tr>\n",
       "      <th>3</th>\n",
       "      <td>የሚከራይ ቤት አከባቢ ዋጋ: 28,000 በወር የቤት አይነት: 40/60 መ...</td>\n",
       "      <td>real_estate</td>\n",
       "    </tr>\n",
       "    <tr>\n",
       "      <th>4</th>\n",
       "      <td>የሚከራይ ቤት አከባቢ ዋጋ: 45,000 በወር የቤት አይነት: መኝታ: 2 ...</td>\n",
       "      <td>real_estate</td>\n",
       "    </tr>\n",
       "  </tbody>\n",
       "</table>\n",
       "</div>"
      ],
      "text/plain": [
       "                                                text        label\n",
       "0  የሚከራይ ቤት አከባቢ ዋጋ: 120,000 በወር የቤት አይነት: መኝታ: 3...  real_estate\n",
       "1  የሚከራይ ቤት 72 አከባቢ ዋጋ: 37,000 በወር የቤት አይነት: +2 መ...  real_estate\n",
       "2  የሚከራይ ቤት አከባቢ ዋጋ: 35,000 በወር የቤት አይነት: መኝታ: 3 ...  real_estate\n",
       "3  የሚከራይ ቤት አከባቢ ዋጋ: 28,000 በወር የቤት አይነት: 40/60 መ...  real_estate\n",
       "4  የሚከራይ ቤት አከባቢ ዋጋ: 45,000 በወር የቤት አይነት: መኝታ: 2 ...  real_estate"
      ]
     },
     "execution_count": 132,
     "metadata": {},
     "output_type": "execute_result"
    }
   ],
   "source": [
    "# Display the first 5 rows\n",
    "df.head()"
   ]
  },
  {
   "cell_type": "code",
   "execution_count": 133,
   "metadata": {},
   "outputs": [
    {
     "data": {
      "text/plain": [
       "(17189, 2)"
      ]
     },
     "execution_count": 133,
     "metadata": {},
     "output_type": "execute_result"
    }
   ],
   "source": [
    "df.shape"
   ]
  },
  {
   "cell_type": "code",
   "execution_count": null,
   "metadata": {},
   "outputs": [],
   "source": []
  },
  {
   "cell_type": "code",
   "execution_count": 134,
   "metadata": {
    "colab": {
     "base_uri": "https://localhost:8080/"
    },
    "id": "kIJDEsgl0a1o",
    "outputId": "ce1b9147-c246-44d9-93ed-a79488af0618"
   },
   "outputs": [
    {
     "data": {
      "text/plain": [
       "array(['real_estate', 'retail', 'sport', 'economy', 'politics',\n",
       "       'accident', 'agriculture', 'health', 'education', ' Education',\n",
       "       ' Financial services', ' Charity', ' CPG & consumer products',\n",
       "       ' Healthcare & Pharma', ' Travel', ' Telecom', ' Media',\n",
       "       ' Healthcare & pharma', ' Entertainment', ' Retail',\n",
       "       ' Computing products & consumer electronics', ' Gambling',\n",
       "       ' Technology', ' Automotive', ' Real Estate',\n",
       "       'advertisements - Computing products & consumer electronics',\n",
       "       ' Event & Entertainment', ' Financial Services',\n",
       "       ' Event Organizer', 'advertisement - Event Organizer',\n",
       "       'whether the data is an advertisements - Travel',\n",
       "       'whether the data is an advertisements - Retail', ' Services',\n",
       "       ' Computing Products & Consumer Electronics',\n",
       "       'advertisement - Real Estate', 'advertisements - Retail',\n",
       "       'advertisement - Travel', 'advertisement - Entertainment',\n",
       "       'advertisement - Healthcare & Pharma', 'advertisement - Services',\n",
       "       'Media', 'Softeware', 'Telocom', 'Healthcare & pharma:', 'Telecom',\n",
       "       'Healthcare & pharma', 'media', 'Retail', 'financial service',\n",
       "       'training', 'computong device', 'computing device',\n",
       "       'healthcare & pharma', 'compting device', 'healthcare &pharma',\n",
       "       'computing products', 'automotive', 'travel', 'consumer products',\n",
       "       'consumer procducts', 'software development', 'financial seervice',\n",
       "       'Entertainment', 'Other',\n",
       "       'Computing products & consumer  electronics', 'Financial',\n",
       "       'Financial ', 'Gambling', 'Realstate', 'Travel'], dtype=object)"
      ]
     },
     "execution_count": 134,
     "metadata": {},
     "output_type": "execute_result"
    }
   ],
   "source": [
    "# Different category\n",
    "df[\"label\"].unique()"
   ]
  },
  {
   "cell_type": "markdown",
   "metadata": {},
   "source": [
    "### changing label type to numeric"
   ]
  },
  {
   "cell_type": "code",
   "execution_count": 135,
   "metadata": {},
   "outputs": [
    {
     "name": "stdout",
     "output_type": "stream",
     "text": [
      "                                                    text        label  \\\n",
      "0      የሚከራይ ቤት አከባቢ ዋጋ: 120,000 በወር የቤት አይነት: መኝታ: 3...  real_estate   \n",
      "1      የሚከራይ ቤት 72 አከባቢ ዋጋ: 37,000 በወር የቤት አይነት: +2 መ...  real_estate   \n",
      "2      የሚከራይ ቤት አከባቢ ዋጋ: 35,000 በወር የቤት አይነት: መኝታ: 3 ...  real_estate   \n",
      "3      የሚከራይ ቤት አከባቢ ዋጋ: 28,000 በወር የቤት አይነት: 40/60 መ...  real_estate   \n",
      "4      የሚከራይ ቤት አከባቢ ዋጋ: 45,000 በወር የቤት አይነት: መኝታ: 2 ...  real_estate   \n",
      "...                                                  ...          ...   \n",
      "17184  ከች ብለናል ከሳፋሪኮም! ዘወትር ቅዳሜ ከሰዓት በEBS TV ላይ! ሰሞነኛ...      Telecom   \n",
      "17185  አዲሱን ያልተገደበ የኢንተርኔት ጥቅላችንን እንደልብ እየተጠቀምን የእረፍት...      Telecom   \n",
      "17186  ከዚህ ሁሉ የተረክ በM PESA ሽልማት አይን ጨፍናችሁ ብትዘግኑ አንድ አ...      Telecom   \n",
      "17187  መልካም ሰኞ! ያልተገደበ የኢንተርኔት አገልግሎታችንን በM PESA App ...      Telecom   \n",
      "17188  ኢንተርኔት እንደልብ መሆኑን ሰምታችኋል?! በ999 ብር ብቻ ያልተገደበ ወ...      Telecom   \n",
      "\n",
      "       label_value  \n",
      "0               62  \n",
      "1               62  \n",
      "2               62  \n",
      "3               62  \n",
      "4               62  \n",
      "...            ...  \n",
      "17184           33  \n",
      "17185           33  \n",
      "17186           33  \n",
      "17187           33  \n",
      "17188           33  \n",
      "\n",
      "[17189 rows x 3 columns]\n"
     ]
    }
   ],
   "source": [
    "\n",
    "label_value = pd.Categorical(df[\"label\"]).codes \n",
    "label_value = pd.DataFrame(label_value)\n",
    "df[\"label_value\"] = label_value\n",
    "print(df)"
   ]
  },
  {
   "cell_type": "code",
   "execution_count": 136,
   "metadata": {},
   "outputs": [
    {
     "data": {
      "text/plain": [
       "70"
      ]
     },
     "execution_count": 136,
     "metadata": {},
     "output_type": "execute_result"
    }
   ],
   "source": [
    "df[\"label_value\"].nunique()"
   ]
  },
  {
   "cell_type": "markdown",
   "metadata": {},
   "source": [
    "#### Make a copy before deleting the category feature"
   ]
  },
  {
   "cell_type": "code",
   "execution_count": 137,
   "metadata": {
    "colab": {
     "base_uri": "https://localhost:8080/"
    },
    "id": "w4tJMKIv_jw4",
    "outputId": "673db33e-d779-4eea-9a98-7f940fa2b1bb"
   },
   "outputs": [
    {
     "data": {
      "text/html": [
       "<div>\n",
       "<style scoped>\n",
       "    .dataframe tbody tr th:only-of-type {\n",
       "        vertical-align: middle;\n",
       "    }\n",
       "\n",
       "    .dataframe tbody tr th {\n",
       "        vertical-align: top;\n",
       "    }\n",
       "\n",
       "    .dataframe thead th {\n",
       "        text-align: right;\n",
       "    }\n",
       "</style>\n",
       "<table border=\"1\" class=\"dataframe\">\n",
       "  <thead>\n",
       "    <tr style=\"text-align: right;\">\n",
       "      <th></th>\n",
       "      <th>text</th>\n",
       "      <th>label</th>\n",
       "      <th>label_value</th>\n",
       "    </tr>\n",
       "  </thead>\n",
       "  <tbody>\n",
       "    <tr>\n",
       "      <th>0</th>\n",
       "      <td>የሚከራይ ቤት አከባቢ ዋጋ: 120,000 በወር የቤት አይነት: መኝታ: 3...</td>\n",
       "      <td>real_estate</td>\n",
       "      <td>62</td>\n",
       "    </tr>\n",
       "    <tr>\n",
       "      <th>1</th>\n",
       "      <td>የሚከራይ ቤት 72 አከባቢ ዋጋ: 37,000 በወር የቤት አይነት: +2 መ...</td>\n",
       "      <td>real_estate</td>\n",
       "      <td>62</td>\n",
       "    </tr>\n",
       "    <tr>\n",
       "      <th>2</th>\n",
       "      <td>የሚከራይ ቤት አከባቢ ዋጋ: 35,000 በወር የቤት አይነት: መኝታ: 3 ...</td>\n",
       "      <td>real_estate</td>\n",
       "      <td>62</td>\n",
       "    </tr>\n",
       "  </tbody>\n",
       "</table>\n",
       "</div>"
      ],
      "text/plain": [
       "                                                text        label  label_value\n",
       "0  የሚከራይ ቤት አከባቢ ዋጋ: 120,000 በወር የቤት አይነት: መኝታ: 3...  real_estate           62\n",
       "1  የሚከራይ ቤት 72 አከባቢ ዋጋ: 37,000 በወር የቤት አይነት: +2 መ...  real_estate           62\n",
       "2  የሚከራይ ቤት አከባቢ ዋጋ: 35,000 በወር የቤት አይነት: መኝታ: 3 ...  real_estate           62"
      ]
     },
     "execution_count": 137,
     "metadata": {},
     "output_type": "execute_result"
    }
   ],
   "source": [
    "data = df.copy()\n",
    "data.head(3)"
   ]
  },
  {
   "cell_type": "code",
   "execution_count": 138,
   "metadata": {
    "id": "ZX3Ol-Kt_6TZ"
   },
   "outputs": [
    {
     "name": "stdout",
     "output_type": "stream",
     "text": [
      "                                                    text  label_value\n",
      "0      የሚከራይ ቤት አከባቢ ዋጋ: 120,000 በወር የቤት አይነት: መኝታ: 3...           62\n",
      "1      የሚከራይ ቤት 72 አከባቢ ዋጋ: 37,000 በወር የቤት አይነት: +2 መ...           62\n",
      "2      የሚከራይ ቤት አከባቢ ዋጋ: 35,000 በወር የቤት አይነት: መኝታ: 3 ...           62\n",
      "3      የሚከራይ ቤት አከባቢ ዋጋ: 28,000 በወር የቤት አይነት: 40/60 መ...           62\n",
      "4      የሚከራይ ቤት አከባቢ ዋጋ: 45,000 በወር የቤት አይነት: መኝታ: 2 ...           62\n",
      "...                                                  ...          ...\n",
      "17184  ከች ብለናል ከሳፋሪኮም! ዘወትር ቅዳሜ ከሰዓት በEBS TV ላይ! ሰሞነኛ...           33\n",
      "17185  አዲሱን ያልተገደበ የኢንተርኔት ጥቅላችንን እንደልብ እየተጠቀምን የእረፍት...           33\n",
      "17186  ከዚህ ሁሉ የተረክ በM PESA ሽልማት አይን ጨፍናችሁ ብትዘግኑ አንድ አ...           33\n",
      "17187  መልካም ሰኞ! ያልተገደበ የኢንተርኔት አገልግሎታችንን በM PESA App ...           33\n",
      "17188  ኢንተርኔት እንደልብ መሆኑን ሰምታችኋል?! በ999 ብር ብቻ ያልተገደበ ወ...           33\n",
      "\n",
      "[17189 rows x 2 columns]\n"
     ]
    }
   ],
   "source": [
    "# remove label category\n",
    "\n",
    "del data[\"label\"]\n",
    "print(data)"
   ]
  },
  {
   "cell_type": "code",
   "execution_count": 139,
   "metadata": {},
   "outputs": [
    {
     "data": {
      "text/html": [
       "<div>\n",
       "<style scoped>\n",
       "    .dataframe tbody tr th:only-of-type {\n",
       "        vertical-align: middle;\n",
       "    }\n",
       "\n",
       "    .dataframe tbody tr th {\n",
       "        vertical-align: top;\n",
       "    }\n",
       "\n",
       "    .dataframe thead th {\n",
       "        text-align: right;\n",
       "    }\n",
       "</style>\n",
       "<table border=\"1\" class=\"dataframe\">\n",
       "  <thead>\n",
       "    <tr style=\"text-align: right;\">\n",
       "      <th></th>\n",
       "      <th>text</th>\n",
       "      <th>label_value</th>\n",
       "    </tr>\n",
       "  </thead>\n",
       "  <tbody>\n",
       "    <tr>\n",
       "      <th>635</th>\n",
       "      <td>የሚከራይ ቤት 72 አከባቢ ዋጋ: 9,000 በወር የቤት አይነት: መኝታ: ...</td>\n",
       "      <td>62</td>\n",
       "    </tr>\n",
       "    <tr>\n",
       "      <th>3547</th>\n",
       "      <td>Fashion SHOE Size: 43 44 Made in Vietnam Price...</td>\n",
       "      <td>63</td>\n",
       "    </tr>\n",
       "    <tr>\n",
       "      <th>12579</th>\n",
       "      <td>Fashion SHOE Size: 43 44 Made in Vietnam Price...</td>\n",
       "      <td>63</td>\n",
       "    </tr>\n",
       "    <tr>\n",
       "      <th>5170</th>\n",
       "      <td>Adidas Duramo 9 Size: 40 41 42 43 Made in Viet...</td>\n",
       "      <td>63</td>\n",
       "    </tr>\n",
       "    <tr>\n",
       "      <th>12172</th>\n",
       "      <td>የሚከራይ ቤት 49 ዋጋ: 25,000 በወር የቤት አይነት: መኝታ: 2 መታ...</td>\n",
       "      <td>62</td>\n",
       "    </tr>\n",
       "  </tbody>\n",
       "</table>\n",
       "</div>"
      ],
      "text/plain": [
       "                                                    text  label_value\n",
       "635    የሚከራይ ቤት 72 አከባቢ ዋጋ: 9,000 በወር የቤት አይነት: መኝታ: ...           62\n",
       "3547   Fashion SHOE Size: 43 44 Made in Vietnam Price...           63\n",
       "12579  Fashion SHOE Size: 43 44 Made in Vietnam Price...           63\n",
       "5170   Adidas Duramo 9 Size: 40 41 42 43 Made in Viet...           63\n",
       "12172  የሚከራይ ቤት 49 ዋጋ: 25,000 በወር የቤት አይነት: መኝታ: 2 መታ...           62"
      ]
     },
     "execution_count": 139,
     "metadata": {},
     "output_type": "execute_result"
    }
   ],
   "source": [
    "# mixing each category and their labels. \n",
    "data = data.sample(frac=1)\n",
    "data.head()"
   ]
  },
  {
   "cell_type": "code",
   "execution_count": 140,
   "metadata": {
    "id": "7MeWz9GdqHcA"
   },
   "outputs": [
    {
     "data": {
      "text/plain": [
       "74.27290709174473"
      ]
     },
     "execution_count": 140,
     "metadata": {},
     "output_type": "execute_result"
    }
   ],
   "source": [
    "# creating word_len feature where we count the length of each text\n",
    "data[\"text_len\"] = data[\"text\"].str.split().str.len()\n",
    "# mean of articles length\n",
    "data[\"text_len\"].mean() "
   ]
  },
  {
   "cell_type": "code",
   "execution_count": 141,
   "metadata": {
    "colab": {
     "base_uri": "https://localhost:8080/"
    },
    "id": "5qEDKJjqjutp",
    "outputId": "ad63fc23-3f82-43c2-e2ee-135338b0856a"
   },
   "outputs": [
    {
     "data": {
      "text/html": [
       "<div>\n",
       "<style scoped>\n",
       "    .dataframe tbody tr th:only-of-type {\n",
       "        vertical-align: middle;\n",
       "    }\n",
       "\n",
       "    .dataframe tbody tr th {\n",
       "        vertical-align: top;\n",
       "    }\n",
       "\n",
       "    .dataframe thead th {\n",
       "        text-align: right;\n",
       "    }\n",
       "</style>\n",
       "<table border=\"1\" class=\"dataframe\">\n",
       "  <thead>\n",
       "    <tr style=\"text-align: right;\">\n",
       "      <th></th>\n",
       "      <th>text</th>\n",
       "      <th>label_value</th>\n",
       "      <th>text_len</th>\n",
       "    </tr>\n",
       "  </thead>\n",
       "  <tbody>\n",
       "    <tr>\n",
       "      <th>635</th>\n",
       "      <td>የሚከራይ ቤት 72 አከባቢ ዋጋ: 9,000 በወር የቤት አይነት: መኝታ: ...</td>\n",
       "      <td>62</td>\n",
       "      <td>25</td>\n",
       "    </tr>\n",
       "    <tr>\n",
       "      <th>3547</th>\n",
       "      <td>Fashion SHOE Size: 43 44 Made in Vietnam Price...</td>\n",
       "      <td>63</td>\n",
       "      <td>22</td>\n",
       "    </tr>\n",
       "    <tr>\n",
       "      <th>12579</th>\n",
       "      <td>Fashion SHOE Size: 43 44 Made in Vietnam Price...</td>\n",
       "      <td>63</td>\n",
       "      <td>22</td>\n",
       "    </tr>\n",
       "  </tbody>\n",
       "</table>\n",
       "</div>"
      ],
      "text/plain": [
       "                                                    text  label_value  \\\n",
       "635    የሚከራይ ቤት 72 አከባቢ ዋጋ: 9,000 በወር የቤት አይነት: መኝታ: ...           62   \n",
       "3547   Fashion SHOE Size: 43 44 Made in Vietnam Price...           63   \n",
       "12579  Fashion SHOE Size: 43 44 Made in Vietnam Price...           63   \n",
       "\n",
       "       text_len  \n",
       "635          25  \n",
       "3547         22  \n",
       "12579        22  "
      ]
     },
     "execution_count": 141,
     "metadata": {},
     "output_type": "execute_result"
    }
   ],
   "source": [
    "data.head(3)"
   ]
  },
  {
   "cell_type": "code",
   "execution_count": 142,
   "metadata": {
    "id": "PdzL8ZMy12iu"
   },
   "outputs": [],
   "source": [
    "#number of news under each categories\n",
    "#accident=dataframe[dataframe['category']=='accident']\n",
    "#agir=dataframe[dataframe['category']=='agriculture']\n",
    "#health=dataframe[dataframe['category']=='health']\n",
    "#education=dataframe[dataframe['category']=='education']\n",
    "#economy=dataframe[dataframe['category']=='economy']\n",
    "#politics=dataframe[dataframe['category']=='politics']\n",
    "#sport=dataframe[dataframe['category']=='sport']\n",
    "#print(accident.shape)\n",
    "#print(agir.shape)\n",
    "#print(health.shape)\n",
    "#print(education.shape)\n",
    "#print(economy.shape)\n",
    "#print(politics.shape)\n",
    "#print(sport.shape)"
   ]
  },
  {
   "cell_type": "code",
   "execution_count": 143,
   "metadata": {
    "id": "tZ40OBPWrp63"
   },
   "outputs": [],
   "source": [
    "#normalizarion\n",
    "import re\n",
    "#method to normalize character level missmatch such as ጸሀይ and ፀሐይ\n",
    "def normalization(input_token):\n",
    "    rep1=re.sub('[ሃኅኃሐሓኻ]','ሀ',input_token)\n",
    "    rep2=re.sub('[ሑኁዅ]','ሁ',rep1)\n",
    "    rep3=re.sub('[ኂሒኺ]','ሂ',rep2)\n",
    "    rep4=re.sub('[ኌሔዄ]','ሄ',rep3)\n",
    "    rep5=re.sub('[ሕኅ]','ህ',rep4)\n",
    "    rep6=re.sub('[ኆሖኾ]','ሆ',rep5)\n",
    "    rep7=re.sub('[ሠ]','ሰ',rep6)\n",
    "    rep8=re.sub('[ሡ]','ሱ',rep7)\n",
    "    rep9=re.sub('[ሢ]','ሲ',rep8)\n",
    "    rep10=re.sub('[ሣ]','ሳ',rep9)\n",
    "    rep11=re.sub('[ሤ]','ሴ',rep10)\n",
    "    rep12=re.sub('[ሥ]','ስ',rep11)\n",
    "    rep13=re.sub('[ሦ]','ሶ',rep12)\n",
    "    rep14=re.sub('[ዓኣዐ]','አ',rep13)\n",
    "    rep15=re.sub('[ዑ]','ኡ',rep14)\n",
    "    rep16=re.sub('[ዒ]','ኢ',rep15)\n",
    "    rep17=re.sub('[ዔ]','ኤ',rep16)\n",
    "    rep18=re.sub('[ዕ]','እ',rep17)\n",
    "    rep19=re.sub('[ዖ]','ኦ',rep18)\n",
    "    rep20=re.sub('[ጸ]','ፀ',rep19)\n",
    "    rep21=re.sub('[ጹ]','ፁ',rep20)\n",
    "    rep22=re.sub('[ጺ]','ፂ',rep21)\n",
    "    rep23=re.sub('[ጻ]','ፃ',rep22)\n",
    "    rep24=re.sub('[ጼ]','ፄ',rep23)\n",
    "    rep25=re.sub('[ጽ]','ፅ',rep24)\n",
    "    rep26=re.sub('[ጾ]','ፆ',rep25)\n",
    "    rep27=re.sub('(ሉ[ዋአ])','ሏ',rep26)\n",
    "    rep28=re.sub('(ሙ[ዋአ])','ሟ',rep27)\n",
    "    rep29=re.sub('(ቱ[ዋአ])','ቷ',rep28)\n",
    "    rep30=re.sub('(ሩ[ዋአ])','ሯ',rep29)\n",
    "    rep31=re.sub('(ሱ[ዋአ])','ሷ',rep30)\n",
    "    rep32=re.sub('(ሹ[ዋአ])','ሿ',rep31)\n",
    "    rep33=re.sub('(ቁ[ዋአ])','ቋ',rep32)\n",
    "    rep34=re.sub('(ቡ[ዋአ])','ቧ',rep33)\n",
    "    rep35=re.sub('(ቹ[ዋአ])','ቿ',rep34)\n",
    "    rep36=re.sub('(ሁ[ዋአ])','ኋ',rep35)\n",
    "    rep37=re.sub('(ኑ[ዋአ])','ኗ',rep36)\n",
    "    rep38=re.sub('(ኙ[ዋአ])','ኟ',rep37)\n",
    "    rep39=re.sub('(ኩ[ዋአ])','ኳ',rep38)\n",
    "    rep40=re.sub('(ዙ[ዋአ])','ዟ',rep39)\n",
    "    rep41=re.sub('(ጉ[ዋአ])','ጓ',rep40)\n",
    "    rep42=re.sub('(ደ[ዋአ])','ዷ',rep41)\n",
    "    rep43=re.sub('(ጡ[ዋአ])','ጧ',rep42)\n",
    "    rep44=re.sub('(ጩ[ዋአ])','ጯ',rep43)\n",
    "    rep45=re.sub('(ጹ[ዋአ])','ጿ',rep44)\n",
    "    rep46=re.sub('(ፉ[ዋአ])','ፏ',rep45)\n",
    "    rep47=re.sub('[ቊ]','ቁ',rep46) #ቁ can be written as ቊ\n",
    "    rep48=re.sub('[ኵ]','ኩ',rep47) #ኩ can be also written as ኵ\n",
    "    return rep48"
   ]
  },
  {
   "cell_type": "markdown",
   "metadata": {},
   "source": [
    "#### clean the text"
   ]
  },
  {
   "cell_type": "code",
   "execution_count": 144,
   "metadata": {},
   "outputs": [],
   "source": [
    "# apply normalizaton to text\n",
    "data[\"text\"] = data[\"text\"].apply(lambda x: normalization(x))"
   ]
  },
  {
   "cell_type": "code",
   "execution_count": 145,
   "metadata": {},
   "outputs": [],
   "source": [
    "# remove special characters\n",
    "data[\"text\"] = data[\"text\"].str.replace(\"[^\\w\\s]\", \"\", regex=True)"
   ]
  },
  {
   "cell_type": "code",
   "execution_count": 146,
   "metadata": {},
   "outputs": [],
   "source": [
    "# remove digits from the dataset\n",
    "data[\"text\"] = data[\"text\"].str.replace(\"\\d+\", \"\", regex= True)"
   ]
  },
  {
   "cell_type": "code",
   "execution_count": 147,
   "metadata": {},
   "outputs": [
    {
     "name": "stdout",
     "output_type": "stream",
     "text": [
      "                                                    text  label_value  \\\n",
      "635    የሚከራይ ቤት  አከባቢ ዋጋ  በወር የቤት አይነት መኝታ  መታጠቢያ  ደረ...           62   \n",
      "3547   Fashion SHOE Size   Made in Vietnam Price Br  ...           63   \n",
      "12579  Fashion SHOE Size   Made in Vietnam Price Br  ...           63   \n",
      "5170   Adidas Duramo  Size     Made in Vietnam Price ...           63   \n",
      "12172  የሚከራይ ቤት  ዋጋ  በወር የቤት አይነት መኝታ  መታጠቢያ  ደረጃ th ...           62   \n",
      "...                                                  ...          ...   \n",
      "11284  የሚከራይ ቤት አከባቢ ዋጋ  በወር የቤት አይነት መኝታ  መታጠቢያ  ደረጃ...           62   \n",
      "11964  Bapesta Sneaker Size     Made in Vietnam Price...           63   \n",
      "5390   Dental White ጥርስ ማንጫ    ፈገግታወን ልንመልስ ሀጫ በረዶ የመ...           63   \n",
      "860    LV TRAINER SNEAKER Size     Made in Italy Pric...           63   \n",
      "15795  ADVERTISEMENT ለኢንጅነሮች እና ኢንጂነሪንግ ተማሪዎች  የኮንስትራ...           60   \n",
      "\n",
      "       text_len  \n",
      "635          25  \n",
      "3547         22  \n",
      "12579        22  \n",
      "5170         25  \n",
      "12172        33  \n",
      "...         ...  \n",
      "11284        31  \n",
      "11964        22  \n",
      "5390         93  \n",
      "860          23  \n",
      "15795        72  \n",
      "\n",
      "[17189 rows x 3 columns]\n"
     ]
    }
   ],
   "source": [
    "# display our clean data.\n",
    "print(data)"
   ]
  },
  {
   "cell_type": "markdown",
   "metadata": {
    "id": "HMvQcXLzq9pA"
   },
   "source": [
    "#### Train and Test datasets"
   ]
  },
  {
   "cell_type": "code",
   "execution_count": 148,
   "metadata": {},
   "outputs": [
    {
     "name": "stderr",
     "output_type": "stream",
     "text": [
      "huggingface/tokenizers: The current process just got forked, after parallelism has already been used. Disabling parallelism to avoid deadlocks...\n",
      "To disable this warning, you can either:\n",
      "\t- Avoid using `tokenizers` before the fork if possible\n",
      "\t- Explicitly set the environment variable TOKENIZERS_PARALLELISM=(true | false)\n"
     ]
    },
    {
     "name": "stdout",
     "output_type": "stream",
     "text": [
      "\u001b[33mWARNING: Ignoring invalid distribution ~ransformers (/opt/miniconda/lib/python3.11/site-packages)\u001b[0m\u001b[33m\n",
      "\u001b[0m\u001b[33mWARNING: Ignoring invalid distribution ~ransformers (/opt/miniconda/lib/python3.11/site-packages)\u001b[0m\u001b[33m\n",
      "\u001b[0m\u001b[33mWARNING: Ignoring invalid distribution ~ransformers (/opt/miniconda/lib/python3.11/site-packages)\u001b[0m\u001b[33m\n",
      "\u001b[0m\u001b[33mWARNING: Ignoring invalid distribution ~ransformers (/opt/miniconda/lib/python3.11/site-packages)\u001b[0m\u001b[33m\n",
      "\u001b[0m\u001b[33mWARNING: Ignoring invalid distribution ~ransformers (/opt/miniconda/lib/python3.11/site-packages)\u001b[0m\u001b[33m\n",
      "\u001b[0m\u001b[33mWARNING: Ignoring invalid distribution ~ransformers (/opt/miniconda/lib/python3.11/site-packages)\u001b[0m\u001b[33m\n",
      "\u001b[0m"
     ]
    }
   ],
   "source": [
    "!pip install -q scikit-learn"
   ]
  },
  {
   "cell_type": "code",
   "execution_count": 149,
   "metadata": {
    "id": "BXSXVyLMsb30"
   },
   "outputs": [
    {
     "name": "stdout",
     "output_type": "stream",
     "text": [
      "Tranining dataset shape: (12375, 3)\n",
      "Testing dataset shape: (3438, 3)\n",
      "Evaluation dataset shape: (1376, 3)\n"
     ]
    }
   ],
   "source": [
    "from sklearn.model_selection import train_test_split\n",
    "\n",
    "train_evaluation_dataset, test_dataset = train_test_split(data, test_size=0.20, random_state=42) \n",
    "train_dataset, evaluation_dataset = train_test_split(train_evaluation_dataset, test_size=0.10, random_state=42)\n",
    "print(f\"Tranining dataset shape: {train_dataset.shape}\")\n",
    "print(f\"Testing dataset shape: {test_dataset.shape}\")\n",
    "print(f\"Evaluation dataset shape: {evaluation_dataset.shape}\")\n"
   ]
  },
  {
   "cell_type": "code",
   "execution_count": 150,
   "metadata": {},
   "outputs": [],
   "source": [
    "# Another way to split your train and test datasets\n",
    "\n",
    "# msk = np.random.rand(len(data))< 0.8\n",
    "# train_dataset = data[msk]\n",
    "# test_dataset = data[~msk]"
   ]
  },
  {
   "cell_type": "code",
   "execution_count": null,
   "metadata": {
    "colab": {
     "base_uri": "https://localhost:8080/"
    },
    "id": "ICjbXhCUY2Vc",
    "outputId": "da59b34b-d103-4e9c-ff32-5c8ddbc0fbed"
   },
   "outputs": [],
   "source": []
  },
  {
   "cell_type": "markdown",
   "metadata": {},
   "source": [
    "#### Prepare a datasets from pandas dataframe"
   ]
  },
  {
   "cell_type": "code",
   "execution_count": 151,
   "metadata": {},
   "outputs": [
    {
     "name": "stderr",
     "output_type": "stream",
     "text": [
      "huggingface/tokenizers: The current process just got forked, after parallelism has already been used. Disabling parallelism to avoid deadlocks...\n",
      "To disable this warning, you can either:\n",
      "\t- Avoid using `tokenizers` before the fork if possible\n",
      "\t- Explicitly set the environment variable TOKENIZERS_PARALLELISM=(true | false)\n"
     ]
    },
    {
     "name": "stdout",
     "output_type": "stream",
     "text": [
      "\u001b[33mWARNING: Ignoring invalid distribution ~ransformers (/opt/miniconda/lib/python3.11/site-packages)\u001b[0m\u001b[33m\n",
      "\u001b[0m\u001b[33mWARNING: Ignoring invalid distribution ~ransformers (/opt/miniconda/lib/python3.11/site-packages)\u001b[0m\u001b[33m\n",
      "\u001b[0m\u001b[33mWARNING: Ignoring invalid distribution ~ransformers (/opt/miniconda/lib/python3.11/site-packages)\u001b[0m\u001b[33m\n",
      "\u001b[0m\u001b[33mWARNING: Ignoring invalid distribution ~ransformers (/opt/miniconda/lib/python3.11/site-packages)\u001b[0m\u001b[33m\n",
      "\u001b[0m\u001b[33mWARNING: Ignoring invalid distribution ~ransformers (/opt/miniconda/lib/python3.11/site-packages)\u001b[0m\u001b[33m\n",
      "\u001b[0m\u001b[33mWARNING: Ignoring invalid distribution ~ransformers (/opt/miniconda/lib/python3.11/site-packages)\u001b[0m\u001b[33m\n",
      "\u001b[0m"
     ]
    }
   ],
   "source": [
    "!pip install -q datasets"
   ]
  },
  {
   "cell_type": "code",
   "execution_count": 152,
   "metadata": {
    "id": "b82LS7YFYrIt"
   },
   "outputs": [],
   "source": [
    "from datasets import Dataset"
   ]
  },
  {
   "cell_type": "code",
   "execution_count": 153,
   "metadata": {},
   "outputs": [
    {
     "data": {
      "text/plain": [
       "Dataset({\n",
       "    features: ['text', 'label_value', 'text_len', '__index_level_0__'],\n",
       "    num_rows: 12375\n",
       "})"
      ]
     },
     "execution_count": 153,
     "metadata": {},
     "output_type": "execute_result"
    }
   ],
   "source": [
    "# converting the pandas format of our data into HuggingFace Dataset format\n",
    "\n",
    "train_dataset = Dataset.from_pandas(train_dataset)\n",
    "train_dataset"
   ]
  },
  {
   "cell_type": "code",
   "execution_count": 154,
   "metadata": {},
   "outputs": [
    {
     "data": {
      "text/plain": [
       "Dataset({\n",
       "    features: ['text', 'label_value', 'text_len', '__index_level_0__'],\n",
       "    num_rows: 3438\n",
       "})"
      ]
     },
     "execution_count": 154,
     "metadata": {},
     "output_type": "execute_result"
    }
   ],
   "source": [
    "test_dataset = Dataset.from_pandas(test_dataset)\n",
    "test_dataset"
   ]
  },
  {
   "cell_type": "code",
   "execution_count": 155,
   "metadata": {
    "id": "YTy_1jvXzHI0"
   },
   "outputs": [
    {
     "data": {
      "text/plain": [
       "Dataset({\n",
       "    features: ['text', 'label_value', 'text_len', '__index_level_0__'],\n",
       "    num_rows: 1376\n",
       "})"
      ]
     },
     "execution_count": 155,
     "metadata": {},
     "output_type": "execute_result"
    }
   ],
   "source": [
    "evaluation_dataset = Dataset.from_pandas(evaluation_dataset)\n",
    "evaluation_dataset"
   ]
  },
  {
   "cell_type": "code",
   "execution_count": 157,
   "metadata": {
    "id": "-zTOH16jZdvj"
   },
   "outputs": [
    {
     "name": "stdout",
     "output_type": "stream",
     "text": [
      "[33, 63, 65, 63, 36, 63, 63, 63, 48, 62, 63, 63, 63, 63, 63, 63, 36, 63, 54, 62, 65, 63, 63, 63, 33, 63, 62, 33, 63, 45, 63, 63, 63, 63, 63, 63, 62, 63, 62, 63, 62, 63, 63, 63, 36, 63, 63, 63, 63, 63, 62, 63, 63, 63, 63, 63, 63, 63, 54, 63, 63, 58, 63, 63, 63, 63, 63, 63, 62, 63, 45, 62, 54, 63, 63, 63, 63, 63, 63, 63, 56, 63, 63, 63, 63, 63, 63, 63, 30, 63, 63, 63, 63, 63, 63, 63, 63, 63, 63, 63, 63, 63, 63, 63, 61, 63, 45, 63, 58, 63, 63, 63, 62, 63, 63, 63, 63, 61, 63, 63, 62, 63, 62, 63, 63, 56, 63, 63, 63, 63, 63, 62, 63, 63, 63, 51, 63, 58, 62, 63, 63, 63, 63, 57, 63, 63, 63, 63, 63, 62, 63, 63, 63, 63, 63, 63, 63, 60, 63, 59, 53, 62, 63, 63, 63, 62, 63, 63, 63, 63, 63, 63, 63, 63, 62, 65, 54, 63, 53, 63, 63, 63, 63, 63, 33, 63, 63, 63, 63, 62, 63, 63, 63, 63, 63, 63, 63, 33, 62, 62, 63, 61, 45, 63, 63, 63, 63, 63, 62, 63, 63, 63, 63, 63, 63, 65, 63, 62, 63, 63, 63, 63, 63, 63, 63, 63, 63, 63, 63, 63, 57, 62, 63, 63, 63, 63, 63, 63, 61, 63, 63, 61, 62, 63, 57, 63, 65, 63, 63, 63, 63, 63, 63, 63, 61, 63, 63, 63, 63, 63, 63, 63, 63, 63, 63, 63, 63, 63, 63, 53, 63, 33, 33, 63, 56, 63, 36, 63, 63, 63, 63, 63, 63, 63, 63, 65, 63, 63, 63, 63, 36, 63, 28, 63, 63, 63, 63, 63, 63, 63, 63, 63, 62, 63, 63, 63, 63, 63, 62, 45, 31, 57, 63, 63, 63, 63, 63, 63, 62, 62, 63, 63, 63, 63, 63, 63, 63, 63, 63, 63, 63, 61, 63, 65, 63, 63, 63, 33, 63, 63, 63, 63, 63, 12, 63, 63, 63, 63, 62, 63, 36, 63, 62, 63, 63, 56, 63, 63, 63, 63, 63, 63, 63, 63, 63, 63, 45, 63, 63, 63, 63, 63, 56, 63, 63, 63, 63, 63, 63, 63, 63, 63, 63, 62, 63, 63, 63, 62, 63, 63, 33, 45, 63, 63, 63, 63, 63, 63, 63, 63, 62, 33, 45, 63, 62, 63, 63, 63, 63, 62, 63, 63, 63, 61, 63, 63, 63, 63, 63, 63, 63, 63, 63, 63, 63, 62, 63, 62, 62, 61, 63, 53, 63, 63, 63, 63, 63, 63, 33, 53, 63, 63, 63, 63, 33, 65, 63, 63, 63, 63, 45, 62, 63, 63, 61, 62, 63, 54, 63, 63, 33, 63, 63, 63, 63, 53, 45, 63, 63, 63, 63, 65, 63, 63, 63, 63, 63, 63, 63, 63, 63, 53, 56, 63, 63, 63, 63, 63, 63, 63, 65, 63, 45, 63, 63, 33, 63, 63, 63, 63, 63, 63, 63, 63, 63, 63, 61, 63, 63, 63, 63, 33, 63, 63, 53, 63, 63, 65, 63, 63, 63, 63, 63, 63, 63, 63, 63, 63, 63, 63, 62, 62, 29, 63, 63, 63, 63, 57, 63, 63, 62, 65, 63, 63, 63, 63, 36, 63, 63, 63, 62, 54, 63, 63, 33, 59, 33, 63, 33, 62, 63, 62, 63, 63, 63, 54, 63, 63, 63, 63, 63, 66, 65, 63, 53, 63, 54, 63, 63, 23, 63, 62, 63, 63, 57, 63, 63, 63, 63, 63, 63, 63, 36, 63, 63, 63, 63, 62, 57, 63, 63, 63, 63, 63, 63, 56, 63, 63, 63, 65, 63, 63, 63, 59, 63, 63, 63, 63, 63, 63, 63, 63, 62, 3, 63, 63, 63, 45, 63, 63, 63, 63, 63, 63, 63, 62, 36, 61, 54, 33, 63, 63, 63, 63, 63, 63, 63, 61, 63, 63, 63, 63, 62, 63, 63, 63, 59, 63, 63, 63, 36, 62, 63, 63, 62, 29, 63, 63, 62, 63, 29, 63, 63, 63, 63, 63, 63, 62, 63, 59, 63, 63, 63, 63, 62, 63, 63, 63, 63, 33, 63, 63, 63, 62, 63, 33, 62, 63, 63, 62, 63, 63, 63, 63, 53, 63, 63, 63, 63, 63, 63, 63, 63, 56, 63, 63, 63, 63, 53, 45, 63, 63, 54, 63, 61, 63, 63, 63, 63, 45, 53, 63, 53, 63, 45, 22, 63, 63, 63, 63, 63, 62, 63, 62, 36, 63, 63, 63, 63, 63, 62, 63, 59, 68, 63, 63, 22, 30, 63, 63, 63, 33, 63, 63, 63, 63, 63, 63, 63, 63, 63, 63, 63, 53, 63, 63, 63, 63, 63, 63, 63, 59, 63, 63, 54, 63, 63, 30, 63, 63, 63, 63, 63, 63, 63, 60, 63, 42, 45, 54, 29, 63, 63, 63, 63, 63, 63, 28, 63, 63, 56, 63, 63, 63, 63, 63, 63, 63, 63, 63, 63, 63, 63, 63, 61, 63, 63, 63, 63, 63, 63, 63, 63, 63, 63, 63, 63, 63, 62, 63, 63, 63, 63, 63, 61, 62, 61, 63, 63, 63, 63, 63, 63, 63, 63, 61, 33, 63, 63, 63, 63, 63, 59, 63, 63, 63, 63, 63, 63, 63, 63, 63, 63, 63, 63, 63, 63, 63, 62, 63, 29, 63, 63, 63, 63, 63, 58, 63, 63, 63, 63, 63, 28, 63, 63, 63, 63, 63, 63, 62, 63, 23, 63, 63, 63, 63, 63, 29, 33, 58, 63, 63, 63, 63, 63, 45, 63, 61, 63, 63, 63, 63, 63, 62, 54, 63, 56, 63, 63, 63, 63, 63, 63, 63, 62, 63, 63, 56, 63, 63, 63, 63, 63, 63, 63, 63, 63, 63, 63, 63, 63, 45, 63, 63, 63, 63, 63, 63, 63, 45, 63, 22, 63, 33, 63, 62, 63, 63, 63, 63, 63, 63, 28, 65, 63, 63, 63, 63, 63, 63, 63, 62, 63, 63, 54, 33, 62, 57, 63, 63, 63, 63, 63, 63, 63, 63, 33, 62, 63, 63, 36, 63, 63, 63, 62, 63, 63, 40, 60, 63, 63, 63, 62, 63, 57, 63, 58, 63, 62, 63, 63, 63, 62, 63, 63, 63, 63, 45, 56, 63, 63, 63, 63, 63, 36, 63, 63, 63, 63, 63, 65, 63, 62, 63, 62, 63, 63, 54, 63, 63, 63, 63, 63, 59, 63, 62, 63, 63, 63, 61, 62, 36, 54, 63, 63, 63, 63, 63, 63, 63, 63, 63, 33, 63, 62, 57, 63, 63, 62, 63, 63, 63, 63, 63, 63, 63, 62, 63, 63, 63, 63, 63, 63, 62, 63, 10, 63, 33, 63, 63, 63, 63, 63, 33, 54, 63, 61, 26, 63, 65, 62, 63, 63, 63, 63, 63, 65, 63, 63, 63, 63, 63, 63, 63, 63, 63, 63, 63, 5, 63, 63, 63, 63, 63, 61, 63, 63, 63, 62, 63, 62, 63, 60, 63, 63, 63, 63, 63, 67, 63, 63, 63, 54, 23, 63, 33, 63, 63, 63, 65, 63, 63, 63, 63, 63, 63, 36, 9, 63, 63, 61, 63, 63, 62, 63, 36, 63, 63, 63, 63, 63, 63, 63, 63, 63, 56, 63, 63, 63, 63, 63, 63, 63, 56, 63, 63, 63, 63, 63, 59, 63, 63, 53, 63, 63, 63, 63, 63, 63, 63, 62, 63, 63, 63, 54, 63, 63, 63, 63, 63, 62, 63, 63, 63, 63, 61, 54, 63, 33, 36, 63, 63, 63, 63, 59, 63, 63, 63, 63, 63, 63, 63, 63, 63, 63, 63, 63, 63, 63, 63, 62, 63, 63, 9, 63, 63, 63, 63, 63, 54, 63, 63, 63, 63, 65, 63, 62, 63, 36, 63, 63, 62, 63, 63, 63, 63, 65, 63, 33, 63, 63, 63, 63, 63, 62, 63, 63, 63, 63, 63, 63, 63, 58, 63, 63, 65, 62, 33, 63, 62, 63, 63, 62, 63, 63, 63, 63, 61, 36, 63, 63, 62, 63, 63, 45, 63, 63, 63, 63, 54, 63, 63, 63, 63, 63, 63, 63, 63, 62, 29, 63, 65, 63, 63, 63, 63, 63, 63, 63, 63, 63, 63, 58, 63, 63, 63, 63, 63, 57, 62, 63, 63, 33, 63, 63, 63, 63, 63, 63, 63, 63, 63, 63, 63, 54, 63, 63, 63, 63, 63, 53, 63, 63, 54, 33, 62, 63, 63, 63, 62, 63, 63, 63, 63, 36, 63, 30, 63, 63, 63, 63, 63, 63, 63, 63, 63, 63, 63, 63, 63, 58, 63, 63, 53, 63, 63, 63, 62, 63, 62, 63, 63, 63, 60, 63, 57, 56, 63, 63, 63, 63, 63, 63, 63, 63, 63, 63, 53, 63, 63, 63, 65, 63, 63, 63, 63, 63, 63, 63, 63, 62, 63, 63, 62, 63, 63, 63, 63, 63, 63, 63, 63, 63, 33, 63, 63, 63, 62, 63, 63, 63, 63, 63, 63, 63, 62, 63, 63, 63, 63, 63, 63, 63, 63, 54, 63, 63, 63, 63, 63, 63, 63, 33, 56, 59, 63, 63, 63, 63, 63, 63, 63, 62, 57, 62, 63, 62, 63, 59, 57, 63, 63, 63, 63, 63, 65, 63, 63, 63, 63, 63, 63, 63, 63, 45, 63, 63, 63, 63, 57, 33, 53, 63, 63, 63, 63, 63, 63, 63, 63, 63, 63, 63, 63, 62, 63, 63, 63, 63, 63, 63, 63, 63, 53, 57, 63, 36, 62, 63, 63, 63, 63, 63, 30, 63, 63, 63, 62, 65, 63, 63, 63, 63, 62, 63, 63, 63, 63, 63, 63, 54, 63, 30, 63, 63, 63, 63, 66, 33, 63, 62, 63, 63, 63, 63, 63, 63, 61, 62, 63, 62, 63, 63, 63, 63, 62, 63, 63, 63, 63, 36, 63, 62, 63, 63, 63, 63, 63, 63, 63, 63, 63, 62, 63, 63, 63, 45, 19, 63, 63, 62, 63, 63, 59, 63, 63, 63, 63, 63, 63, 63, 63, 54, 63, 63, 27, 63, 63, 63, 63, 63, 63, 63, 63, 63, 63, 63, 63, 63, 63, 33, 62, 63, 63, 63, 63, 63, 62, 63, 63, 63, 63, 61, 63, 63, 33, 63, 63, 63, 63, 63, 63, 63, 62, 63, 63, 63, 63, 63, 63, 63, 63, 63, 63, 63, 63, 59, 63, 63, 33, 63, 63, 63, 63, 61, 63, 33, 63, 63, 61, 56, 63, 63, 63, 63, 63, 63, 63, 63, 62, 63, 45, 62, 63, 63, 62, 63, 63, 63, 61, 63, 63, 63, 63, 63, 63, 63, 54, 63, 63, 63, 63, 63, 63, 63, 63, 62, 63, 63, 63, 63, 36, 63, 63, 33, 63, 53, 53, 63, 63, 63, 63, 63, 63, 63, 57, 63, 63, 63, 63, 63, 63, 63, 63, 63, 63, 63, 63, 63, 63, 63, 63, 63, 63, 63, 63, 63, 63, 63, 63, 62, 63, 63, 65, 63, 61, 61, 63, 63, 33, 63, 63, 60, 63, 63, 62, 63, 53, 63, 63, 63, 63, 63, 63, 63, 63, 63, 63, 60, 61, 63, 65, 36, 63, 63, 63, 63, 63, 63, 63, 62, 63, 63, 57, 63, 63, 33, 57, 63, 63, 63, 63, 63, 63, 63, 63, 63, 63, 63, 63, 62, 63, 63, 63, 63, 62, 63, 63, 63, 63, 63, 63, 63, 63, 63, 63, 62, 54, 63, 63, 62, 33, 63, 63, 63, 63, 63, 63, 62, 63, 28, 63, 63, 63, 63, 63, 63, 53, 62, 63, 63, 63, 63, 45, 63, 63, 63, 63, 63, 63, 63, 62, 63, 63, 63, 63, 45, 63, 63, 63, 62, 63, 63, 63, 63, 63, 62, 63, 63, 63, 63, 62, 57, 63, 57, 19, 63, 63, 28, 62, 45, 63, 63, 63, 45, 63, 63, 63, 63, 62, 63, 62, 63, 36, 63, 63, 61, 63, 63, 63, 56, 63, 57, 63, 63, 63, 63, 63, 57, 63, 56, 63, 63, 63, 30, 63, 63, 62, 63, 63, 62, 54, 63, 63, 63, 63, 59, 63, 63, 63, 63, 45, 62, 33, 62, 63, 63, 63, 63, 63, 62, 62, 63, 63, 63, 63, 63, 63, 59, 63, 33, 63, 26, 63, 63, 63, 62, 19, 63, 63, 63, 63, 53, 63, 61, 63, 63, 63, 43, 36, 62, 63, 63, 63, 63, 63, 36, 63, 63, 63, 63, 63, 63, 63, 63, 63, 63, 63, 63, 63, 63, 62, 45, 63, 63, 63, 63, 62, 63, 33, 62, 54, 63, 40, 63, 63, 63, 63, 63, 59, 63, 36, 63, 63, 57, 63, 63, 63, 63, 63, 63, 63, 63, 33, 63, 63, 63, 63, 62, 36, 63, 57, 30, 63, 63, 54, 63, 63, 65, 62, 63, 63, 62, 63, 63, 63, 59, 63, 63, 62, 63, 63, 63, 63, 62, 63, 63, 63, 63, 63, 63, 63, 63, 63, 63, 66, 63, 63, 63, 63, 63, 63, 63, 63, 62, 63, 63, 63, 63, 63, 53, 63, 36, 63, 63, 63, 63, 63, 63, 36, 63, 63, 63, 62, 63, 63, 63, 63, 63, 45, 63, 63, 63, 54, 54, 63, 63, 62, 63, 63, 63, 63, 61, 56, 63, 63, 63, 63, 63, 59, 53, 63, 63, 33, 48, 63, 59, 63, 63, 22, 63, 63, 63, 63, 63, 63, 45, 33, 54, 62, 53, 63, 63, 62, 63, 63, 63, 63, 63, 62, 63, 63, 63, 63, 63, 63, 63, 63, 62, 63, 63, 63, 62, 29, 63, 63, 63, 63, 58, 62, 63, 61, 63, 63, 14, 57, 33, 63, 63, 63, 63, 63, 63, 63, 63, 53, 63, 63, 63, 63, 63, 56, 36, 63, 63, 63, 63, 62, 53, 63, 63, 62, 53, 63, 63, 63, 62, 36, 63, 63, 63, 63, 63, 63, 62, 63, 63, 63, 63, 63, 63, 62, 63, 62, 63, 63, 62, 63, 63, 53, 63, 63, 63, 63, 63, 63, 63, 63, 63, 63, 62, 62, 65, 63, 65, 63, 63, 63, 63, 63, 63, 63, 53, 63, 63, 63, 36, 63, 62, 63, 63, 62, 63, 56, 56, 63, 63, 62, 62, 63, 63, 59, 63, 63, 63, 63, 63, 63, 63, 62, 65, 63, 63, 63, 63, 59, 63, 63, 56, 63, 63, 63, 63, 63, 63, 63, 63, 63, 63, 57, 63, 63, 59, 63, 63, 63, 63, 63, 63, 63, 63, 63, 63, 63, 63, 63, 63, 63, 63, 63, 63, 63, 63, 58, 59, 33, 63, 63, 63, 63, 63, 59, 63, 63, 63, 63, 63, 63, 63, 63, 63, 63, 63, 33, 63, 45, 63, 63, 62, 63, 63, 63, 63, 63, 63, 63, 63, 63, 63, 57, 63, 63, 62, 62, 63, 63, 63, 63, 63, 62, 63, 63, 61, 63, 63, 63, 63, 63, 63, 63, 63, 63, 63, 62, 65, 63, 63, 63, 63, 63, 63, 63, 63, 63, 33, 63, 62, 63, 63, 63, 61, 62, 62, 63, 62, 63, 63, 63, 63, 63, 63, 63, 63, 62, 63, 62, 62, 63, 61, 63, 62, 63, 33, 63, 63, 63, 63, 63, 62, 63, 63, 63, 36, 63, 63, 63, 63, 54, 63, 63, 63, 63, 63, 33, 63, 61, 63, 63, 63, 62, 63, 63, 63, 63, 63, 63, 35, 63, 62, 63, 33, 63, 62, 63, 63, 62, 63, 36, 63, 45, 63, 63, 62, 63, 62, 63, 63, 63, 63, 63, 62, 63, 63, 63, 63, 63, 63, 63, 63, 63, 63, 63, 63, 63, 63, 63, 36, 62, 63, 33, 57, 63, 63, 63, 63, 63, 63, 63, 63, 53, 63, 62, 30, 61, 63, 59, 63, 63, 63, 59, 63, 63, 63, 33, 63, 57, 65, 63, 63, 63, 63, 63, 63, 63, 63, 57, 62, 63, 63, 30, 63, 59, 63, 63, 63, 33, 63, 62, 63, 63, 63, 63, 63, 53, 63, 63, 45, 63, 63, 62, 63, 63, 54, 63, 63, 63, 63, 63, 30, 63, 63, 63, 36, 63, 63, 63, 63, 46, 59, 63, 63, 63, 33, 63, 57, 63, 63, 53, 63, 63, 63, 63, 63, 63, 62, 63, 33, 58, 63, 33, 63, 28, 65, 63, 63, 63, 63, 63, 63, 63, 33, 63, 63, 63, 63, 57, 63, 57, 63, 45, 63, 57, 63, 63, 63, 33, 63, 62, 63, 45, 63, 63, 63, 63, 63, 6, 63, 63, 63, 63, 63, 63, 63, 63, 63, 63, 63, 63, 63, 63, 63, 33, 63, 63, 62, 63, 33, 62, 63, 63, 63, 63, 52, 63, 65, 63, 63, 56, 63, 45, 63, 63, 63, 62, 57, 33, 62, 61, 63, 63, 63, 33, 63, 63, 63, 63, 63, 45, 63, 36, 63, 63, 33, 63, 63, 63, 23, 63, 63, 4, 63, 63, 63, 63, 63, 63, 63, 33, 63, 63, 6, 63, 63, 63, 63, 63, 63, 63, 63, 63, 63, 63, 63, 63, 62, 63, 63, 62, 62, 63, 63, 63, 63, 63, 59, 36, 63, 63, 63, 63, 63, 63, 63, 63, 63, 62, 63, 66, 56, 63, 62, 63, 63, 63, 63, 63, 63, 53, 63, 63, 63, 63, 63, 63, 63, 63, 63, 63, 63, 63, 63, 63, 33, 63, 63, 63, 63, 63, 63, 29, 63, 63, 62, 63, 63, 63, 63, 63, 63, 63, 63, 57, 63, 63, 63, 63, 62, 63, 63, 63, 63, 63, 62, 63, 53, 59, 63, 63, 33, 63, 63, 63, 63, 63, 33, 8, 63, 63, 63, 63, 63, 63, 63, 62, 63, 63, 63, 62, 33, 63, 62, 33, 56, 63, 63, 63, 63, 63, 63, 63, 63, 63, 62, 63, 33, 62, 54, 63, 45, 62, 63, 63, 63, 63, 63, 63, 63, 63, 63, 63, 63, 62, 63, 62, 63, 63, 63, 23, 63, 62, 62, 63, 63, 63, 63, 63, 63, 63, 63, 63, 63, 62, 63, 33, 63, 33, 63, 63, 63, 63, 28, 63, 61, 63, 63, 33, 63, 63, 63, 63, 63, 63, 63, 63, 63, 63, 60, 63, 63, 63, 62, 63, 63, 65, 63, 63, 63, 54, 63, 63, 63, 53, 63, 63, 63, 63, 62, 63, 63, 54, 63, 63, 62, 63, 63, 63, 63, 62, 33, 63, 65, 62, 30, 33, 63, 63, 57, 63, 63, 65, 63, 65, 63, 63, 63, 63, 63, 63, 63, 62, 63, 63, 63, 63, 63, 61, 28, 63, 63, 63, 63, 63, 33, 63, 66, 56, 62, 63, 63, 52, 63, 63, 63, 63, 63, 63, 33, 63, 63, 63, 63, 63, 30, 62, 33, 63, 59, 63, 63, 63, 63, 62, 63, 63, 63, 62, 63, 62, 63, 63, 62, 63, 62, 63, 63, 63, 62, 63, 63, 10, 62, 36, 63, 63, 63, 63, 63, 58, 36, 63, 63, 63, 63, 63, 63, 63, 63, 56, 63, 33, 63, 65, 63, 19, 63, 63, 63, 63, 63, 62, 56, 63, 63, 63, 63, 63, 63, 63, 63, 63, 63, 59, 63, 63, 30, 63, 63, 63, 53, 53, 62, 63, 63, 63, 63, 63, 63, 62, 63, 63, 63, 63, 63, 63, 63, 64, 63, 63, 63, 63, 63, 63, 63, 30, 59, 63, 63, 63, 63, 62, 57, 63, 63, 63, 63, 33, 63, 62, 63, 63, 63, 63, 63, 63, 63, 62, 63, 63, 63, 63, 63, 63, 36, 63, 63, 63, 63, 65, 63, 63, 62, 33, 56, 63, 56, 63, 63, 63, 63, 63, 63, 63, 63, 63, 63, 63, 63, 61, 63, 62, 62, 33, 63, 63, 63, 61, 63, 63, 63, 63, 63, 63, 63, 62, 63, 63, 63, 63, 63, 63, 63, 26, 63, 63, 63, 63, 63, 63, 63, 63, 63, 63, 33, 62, 63, 63, 63, 63, 63, 29, 63, 59, 62, 63, 63, 63, 63, 53, 63, 63, 63, 65, 63, 63, 35, 63, 63, 63, 63, 63, 63, 63, 62, 63, 53, 63, 63, 62, 57, 63, 62, 63, 63, 63, 63, 63, 63, 63, 59, 53, 63, 63, 62, 6, 63, 65, 63, 63, 63, 63, 63, 63, 63, 63, 63, 63, 54, 63, 61, 63, 62, 33, 63, 63, 63, 63, 59, 63, 62, 63, 63, 63, 63, 63, 63, 63, 63, 62, 63, 63, 63, 63, 63, 62, 63, 33, 63, 63, 63, 63, 63, 63, 63, 63, 63, 63, 63, 63, 63, 62, 62, 63, 66, 63, 63, 63, 63, 63, 63, 53, 63, 33, 63, 62, 63, 62, 63, 63, 63, 63, 63, 62, 63, 63, 63, 63, 66, 63, 63, 63, 63, 63, 63, 63, 63, 63, 33, 63, 63, 54, 63, 63, 63, 63, 63, 56, 63, 59, 63, 63, 63, 63, 63, 45, 63, 63, 63, 33, 63, 63, 63, 63, 63, 63, 36, 63, 63, 63, 33, 63, 63, 63, 63, 63, 62, 63, 63, 63, 63, 63, 63, 63, 66, 63, 63, 63, 33, 63, 63, 62, 63, 63, 63, 63, 63, 63, 63, 53, 63, 63, 63, 63, 33, 63, 62, 63, 63, 56]\n"
     ]
    }
   ],
   "source": [
    "print(test_dataset[\"label_value\"])"
   ]
  },
  {
   "cell_type": "code",
   "execution_count": 158,
   "metadata": {
    "colab": {
     "base_uri": "https://localhost:8080/"
    },
    "id": "VuTwLGIvZfyQ",
    "outputId": "cd072ed1-565f-4a05-de16-c72c2b314caa"
   },
   "outputs": [],
   "source": [
    "# Remove unnecessary column\n",
    "\n",
    "train_dataset = train_dataset.remove_columns(\"__index_level_0__\")\n",
    "test_dataset = test_dataset.remove_columns(\"__index_level_0__\")\n",
    "evaluation_dataset = evaluation_dataset.remove_columns(\"__index_level_0__\")"
   ]
  },
  {
   "cell_type": "code",
   "execution_count": 159,
   "metadata": {
    "colab": {
     "base_uri": "https://localhost:8080/"
    },
    "id": "Y3443EDnvNVr",
    "outputId": "5ab8a8b5-efed-4b4f-af4c-1583ca763f8e"
   },
   "outputs": [
    {
     "data": {
      "text/plain": [
       "Dataset({\n",
       "    features: ['text', 'label_value', 'text_len'],\n",
       "    num_rows: 12375\n",
       "})"
      ]
     },
     "execution_count": 159,
     "metadata": {},
     "output_type": "execute_result"
    }
   ],
   "source": [
    "train_dataset"
   ]
  },
  {
   "cell_type": "code",
   "execution_count": 160,
   "metadata": {},
   "outputs": [],
   "source": [
    "# combine the train_dataset, test_dataset, and evaluation_dataset into one dataset\n",
    "\n",
    "import datasets\n",
    "\n",
    "main_dataset = datasets.DatasetDict(\n",
    "    {'train': train_dataset,\n",
    "     'test': test_dataset,\n",
    "     'evaluation': evaluation_dataset\n",
    "    }\n",
    ")"
   ]
  },
  {
   "cell_type": "code",
   "execution_count": 161,
   "metadata": {},
   "outputs": [
    {
     "data": {
      "text/plain": [
       "DatasetDict({\n",
       "    train: Dataset({\n",
       "        features: ['text', 'label_value', 'text_len'],\n",
       "        num_rows: 12375\n",
       "    })\n",
       "    test: Dataset({\n",
       "        features: ['text', 'label_value', 'text_len'],\n",
       "        num_rows: 3438\n",
       "    })\n",
       "    evaluation: Dataset({\n",
       "        features: ['text', 'label_value', 'text_len'],\n",
       "        num_rows: 1376\n",
       "    })\n",
       "})"
      ]
     },
     "execution_count": 161,
     "metadata": {},
     "output_type": "execute_result"
    }
   ],
   "source": [
    "# Display the main_dataset, which is the Dataset dictionary of train, test, and evaluation datasets\n",
    "\n",
    "main_dataset"
   ]
  },
  {
   "cell_type": "code",
   "execution_count": 162,
   "metadata": {
    "id": "bbZKmJvaufy8"
   },
   "outputs": [],
   "source": [
    "# training, testing, and evaluation dataset size (number of rows)\n",
    "\n",
    "train_data_size = main_dataset['train'].num_rows\n",
    "test_data_size = main_dataset['test'].num_rows\n",
    "evaluation_data_size = main_dataset['evaluation'].num_rows"
   ]
  },
  {
   "cell_type": "code",
   "execution_count": 163,
   "metadata": {},
   "outputs": [
    {
     "data": {
      "text/plain": [
       "(12375, 3438, 1376)"
      ]
     },
     "execution_count": 163,
     "metadata": {},
     "output_type": "execute_result"
    }
   ],
   "source": [
    "train_data_size, test_data_size, evaluation_data_size"
   ]
  },
  {
   "cell_type": "code",
   "execution_count": 164,
   "metadata": {
    "colab": {
     "base_uri": "https://localhost:8080/"
    },
    "id": "uYp-2NE8vN__",
    "outputId": "979d46dd-c75c-4665-8729-8d742c582217"
   },
   "outputs": [
    {
     "data": {
      "text/plain": [
       "17189"
      ]
     },
     "execution_count": 164,
     "metadata": {},
     "output_type": "execute_result"
    }
   ],
   "source": [
    "train_data_size + test_data_size + evaluation_data_size"
   ]
  },
  {
   "cell_type": "markdown",
   "metadata": {
    "id": "impTGnkvK3S4"
   },
   "source": [
    "#### Tokenization"
   ]
  },
  {
   "cell_type": "code",
   "execution_count": 36,
   "metadata": {
    "id": "1KxZq3lFm2dH"
   },
   "outputs": [],
   "source": [
    "from transformers import AutoTokenizer"
   ]
  },
  {
   "cell_type": "code",
   "execution_count": 168,
   "metadata": {},
   "outputs": [],
   "source": [
    "model_base_name = \"Davlan/bert-base-multilingual-cased-finetuned-amharic\"\n",
    "\n",
    "model_llama2_name = \"meta-llama/Llama-2-7b-hf\"\n",
    "model_garri_name = \"iocuydi/llama-2-amharic-3784m\" "
   ]
  },
  {
   "cell_type": "markdown",
   "metadata": {},
   "source": [
    "#### Loading a tokenizer from the pretrained model"
   ]
  },
  {
   "cell_type": "code",
   "execution_count": 169,
   "metadata": {
    "id": "i-8wkRmq4JxN"
   },
   "outputs": [],
   "source": [
    "#loading a tokenizer from the pretrained model\n",
    "\n",
    "tokenizer = AutoTokenizer.from_pretrained(model_base_name)\n",
    "\n",
    "tokenizer_llama2 = AutoTokenizer.from_pretrained(model_llama2_name)\n",
    "tokenizer_garri = AutoTokenizer.from_pretrained(model_garri_name)"
   ]
  },
  {
   "cell_type": "code",
   "execution_count": 170,
   "metadata": {},
   "outputs": [],
   "source": [
    "# have a tokenizer function that use the tokenizer\n",
    "\n",
    "def tokenize_function(data):\n",
    "    return tokenizer(data[\"text\"], padding=\"max_length\", truncation = True)\n",
    "    \n",
    "def tokenize_function_llama2(data):\n",
    "    return tokenizer_llama2(data[\"text\"], padding=\"max_length\", truncation = True)\n",
    "\n",
    "def tokenize_function_garri(data):\n",
    "    return tokenizer_garri(data[\"text\"], padding=\"max_length\", truncation = True)\n",
    "    "
   ]
  },
  {
   "cell_type": "code",
   "execution_count": 171,
   "metadata": {
    "scrolled": true
   },
   "outputs": [
    {
     "data": {
      "application/vnd.jupyter.widget-view+json": {
       "model_id": "",
       "version_major": 2,
       "version_minor": 0
      },
      "text/plain": [
       "Map:   0%|          | 0/12375 [00:00<?, ? examples/s]"
      ]
     },
     "metadata": {},
     "output_type": "display_data"
    },
    {
     "data": {
      "application/vnd.jupyter.widget-view+json": {
       "model_id": "",
       "version_major": 2,
       "version_minor": 0
      },
      "text/plain": [
       "Map:   0%|          | 0/3438 [00:00<?, ? examples/s]"
      ]
     },
     "metadata": {},
     "output_type": "display_data"
    },
    {
     "data": {
      "application/vnd.jupyter.widget-view+json": {
       "model_id": "",
       "version_major": 2,
       "version_minor": 0
      },
      "text/plain": [
       "Map:   0%|          | 0/1376 [00:00<?, ? examples/s]"
      ]
     },
     "metadata": {},
     "output_type": "display_data"
    },
    {
     "data": {
      "application/vnd.jupyter.widget-view+json": {
       "model_id": "",
       "version_major": 2,
       "version_minor": 0
      },
      "text/plain": [
       "Map:   0%|          | 0/12375 [00:00<?, ? examples/s]"
      ]
     },
     "metadata": {},
     "output_type": "display_data"
    },
    {
     "name": "stderr",
     "output_type": "stream",
     "text": [
      "Asking to pad to max_length but no maximum length is provided and the model has no predefined maximum length. Default to no padding.\n",
      "Asking to truncate to max_length but no maximum length is provided and the model has no predefined maximum length. Default to no truncation.\n"
     ]
    },
    {
     "data": {
      "application/vnd.jupyter.widget-view+json": {
       "model_id": "",
       "version_major": 2,
       "version_minor": 0
      },
      "text/plain": [
       "Map:   0%|          | 0/3438 [00:00<?, ? examples/s]"
      ]
     },
     "metadata": {},
     "output_type": "display_data"
    },
    {
     "data": {
      "application/vnd.jupyter.widget-view+json": {
       "model_id": "",
       "version_major": 2,
       "version_minor": 0
      },
      "text/plain": [
       "Map:   0%|          | 0/1376 [00:00<?, ? examples/s]"
      ]
     },
     "metadata": {},
     "output_type": "display_data"
    },
    {
     "data": {
      "application/vnd.jupyter.widget-view+json": {
       "model_id": "",
       "version_major": 2,
       "version_minor": 0
      },
      "text/plain": [
       "Map:   0%|          | 0/12375 [00:00<?, ? examples/s]"
      ]
     },
     "metadata": {},
     "output_type": "display_data"
    },
    {
     "name": "stderr",
     "output_type": "stream",
     "text": [
      "Asking to pad to max_length but no maximum length is provided and the model has no predefined maximum length. Default to no padding.\n",
      "Asking to truncate to max_length but no maximum length is provided and the model has no predefined maximum length. Default to no truncation.\n"
     ]
    },
    {
     "data": {
      "application/vnd.jupyter.widget-view+json": {
       "model_id": "",
       "version_major": 2,
       "version_minor": 0
      },
      "text/plain": [
       "Map:   0%|          | 0/3438 [00:00<?, ? examples/s]"
      ]
     },
     "metadata": {},
     "output_type": "display_data"
    },
    {
     "data": {
      "application/vnd.jupyter.widget-view+json": {
       "model_id": "",
       "version_major": 2,
       "version_minor": 0
      },
      "text/plain": [
       "Map:   0%|          | 0/1376 [00:00<?, ? examples/s]"
      ]
     },
     "metadata": {},
     "output_type": "display_data"
    }
   ],
   "source": [
    "# Tokenize all the data using ther mapping functionality\n",
    "\n",
    "tokenized_dataset = main_dataset.map(tokenize_function)\n",
    "\n",
    "tokenized_dataset_llama2 = main_dataset.map(tokenize_function_llama2)\n",
    "tokenized_dataset_garri = main_dataset.map(tokenize_function_garri)"
   ]
  },
  {
   "cell_type": "code",
   "execution_count": 172,
   "metadata": {},
   "outputs": [
    {
     "data": {
      "text/plain": [
       "DatasetDict({\n",
       "    train: Dataset({\n",
       "        features: ['text', 'label_value', 'text_len', 'input_ids', 'token_type_ids', 'attention_mask'],\n",
       "        num_rows: 12375\n",
       "    })\n",
       "    test: Dataset({\n",
       "        features: ['text', 'label_value', 'text_len', 'input_ids', 'token_type_ids', 'attention_mask'],\n",
       "        num_rows: 3438\n",
       "    })\n",
       "    evaluation: Dataset({\n",
       "        features: ['text', 'label_value', 'text_len', 'input_ids', 'token_type_ids', 'attention_mask'],\n",
       "        num_rows: 1376\n",
       "    })\n",
       "})"
      ]
     },
     "execution_count": 172,
     "metadata": {},
     "output_type": "execute_result"
    }
   ],
   "source": [
    "tokenized_dataset"
   ]
  },
  {
   "cell_type": "code",
   "execution_count": 173,
   "metadata": {},
   "outputs": [],
   "source": [
    "# remove the column text as it is no longer needed\n",
    "\n",
    "tokenized_dataset = tokenized_dataset.remove_columns([\"text\"])\n",
    "\n",
    "tokenized_dataset_llama2 = tokenized_dataset_llama2.remove_columns([\"text\"])\n",
    "tokenized_dataset_garri = tokenized_dataset_garri.remove_columns([\"text\"])"
   ]
  },
  {
   "cell_type": "code",
   "execution_count": 174,
   "metadata": {
    "colab": {
     "base_uri": "https://localhost:8080/",
     "height": 113,
     "referenced_widgets": [
      "e9c55b8c95304ad3b1b782a3f8826921",
      "ed52f945d036467b9e8dd2731cfdc1d4",
      "ed08beddd4d34391aaa7841d1fc2ca7e",
      "f023f5ff073c4f3bafe904d245d88c54",
      "8bbac2fcc3da4dddab5d06f23d8445c2",
      "56f6e333d22243af8cf44fa3e0464c52",
      "05852123893e4ad1838d2da6a033bc9b",
      "940cb370890a48d585ccf03b3c0f6461",
      "83beb6fc1d184a78916e64fa2a94420b",
      "ae734a8d61b14c2a84dcf2ab7ca9fe46",
      "56a9834ffe654976969a5b92f63c4001",
      "19d38a32bfce49e399f6edb732db7bce",
      "52ff44985c8c41b7acf6ce266e6234b6",
      "6830713ccd8b45639496c535419669f8",
      "aeb13ac0f9f0436ea0e2db0a1ad6a50a",
      "1d86b16dd7ad42a2a0b1a17176d27e5a",
      "052abed7b3e0438881e8d679befe1d82",
      "5f31752a0f3f45de8c5107d3a2a4e7f7",
      "144e7e407fe94f62baba32721462a271",
      "699339c2a9ae4a0bb13327279326ca09",
      "357d7e8bf0df4902a1fb668187b536d3",
      "171d121dc6f547cdb3f2a198b0ffbcac",
      "11d9b164e2a34cf19503987f29feba4e",
      "b59560b20efc4b8aa195a0a20e862afb",
      "e643925ea2c445bc919f523afbce7eb1",
      "4846efe91eaa4db785982effed7decd2",
      "b5d0cad0452e45078ffe3474f71cedb8",
      "af867de0948649af91336a42f81d2782",
      "4506e2a3b6bc4bc691681190315cc6c3",
      "2bcef538a4df4b7dbea62c087783f74e",
      "07ee787087b1450293587e4f7d5afa9e",
      "e32a0920d72c428cacf53a7ba46ef045",
      "980ea6d96b104712a7dfe12999b79d53"
     ]
    },
    "id": "wa91pCq-bQXl",
    "outputId": "56bc479d-fa8a-41a8-dc6e-7e3850b64bc7"
   },
   "outputs": [
    {
     "data": {
      "text/plain": [
       "DatasetDict({\n",
       "    train: Dataset({\n",
       "        features: ['label_value', 'text_len', 'input_ids', 'attention_mask'],\n",
       "        num_rows: 12375\n",
       "    })\n",
       "    test: Dataset({\n",
       "        features: ['label_value', 'text_len', 'input_ids', 'attention_mask'],\n",
       "        num_rows: 3438\n",
       "    })\n",
       "    evaluation: Dataset({\n",
       "        features: ['label_value', 'text_len', 'input_ids', 'attention_mask'],\n",
       "        num_rows: 1376\n",
       "    })\n",
       "})"
      ]
     },
     "execution_count": 174,
     "metadata": {},
     "output_type": "execute_result"
    }
   ],
   "source": [
    "tokenized_dataset_llama2 "
   ]
  },
  {
   "cell_type": "code",
   "execution_count": 175,
   "metadata": {
    "id": "le6-VKgSbzH9"
   },
   "outputs": [],
   "source": [
    "# import torch\n",
    "import torch\n",
    "# import DataLoader from torch\n",
    "from torch.utils.data import DataLoader\n",
    "# import an Adam optimizer from torch\n",
    "from torch.optim import AdamW\n",
    "# import tqdm for a bar progress\n",
    "from tqdm.auto import tqdm"
   ]
  },
  {
   "cell_type": "code",
   "execution_count": 176,
   "metadata": {
    "id": "H5z34a8Ob5W1"
   },
   "outputs": [],
   "source": [
    "# changing the format of the tokenized dataset to torch\n",
    "\n",
    "tokenized_dataset.set_format(\"torch\")\n",
    "\n",
    "tokenized_dataset_llama2.set_format(\"torch\")\n",
    "tokenized_dataset_garri.set_format(\"torch\")"
   ]
  },
  {
   "cell_type": "code",
   "execution_count": 177,
   "metadata": {
    "id": "qySNkYRPcKBY"
   },
   "outputs": [
    {
     "data": {
      "text/plain": [
       "DatasetDict({\n",
       "    train: Dataset({\n",
       "        features: ['label_value', 'text_len', 'input_ids', 'token_type_ids', 'attention_mask'],\n",
       "        num_rows: 12375\n",
       "    })\n",
       "    test: Dataset({\n",
       "        features: ['label_value', 'text_len', 'input_ids', 'token_type_ids', 'attention_mask'],\n",
       "        num_rows: 3438\n",
       "    })\n",
       "    evaluation: Dataset({\n",
       "        features: ['label_value', 'text_len', 'input_ids', 'token_type_ids', 'attention_mask'],\n",
       "        num_rows: 1376\n",
       "    })\n",
       "})"
      ]
     },
     "execution_count": 177,
     "metadata": {},
     "output_type": "execute_result"
    }
   ],
   "source": [
    "tokenized_dataset"
   ]
  },
  {
   "cell_type": "markdown",
   "metadata": {},
   "source": [
    "#### Shuffeling and selecting the neededd size of dataset for training and evaluating the model"
   ]
  },
  {
   "cell_type": "code",
   "execution_count": 178,
   "metadata": {},
   "outputs": [],
   "source": [
    "\n",
    "# with model_base dataset\n",
    "train_tokenized_dataset = tokenized_dataset[\"train\"].shuffle(seed=42).select(range(train_data_size))\n",
    "test_tokenized_dataset = tokenized_dataset[\"test\"].shuffle(seed=42).select(range(test_data_size))\n",
    "evaluation_tokenized_dataset = tokenized_dataset[\"evaluation\"].shuffle(seed=42).select(range(evaluation_data_size)) \n"
   ]
  },
  {
   "cell_type": "code",
   "execution_count": 179,
   "metadata": {},
   "outputs": [],
   "source": [
    "# with model_llama2 dataset\n",
    "train_tokenized_dataset_llama2 = tokenized_dataset_llama2[\"train\"].shuffle(seed=42).select(range(train_data_size))\n",
    "test_tokenized_dataset_llama2 = tokenized_dataset_llama2[\"test\"].shuffle(seed=42).select(range(test_data_size))\n",
    "evaluation_tokenized_dataset_llama2 = tokenized_dataset_llama2[\"evaluation\"].shuffle(seed=42).select(range(evaluation_data_size)) \n"
   ]
  },
  {
   "cell_type": "code",
   "execution_count": 180,
   "metadata": {},
   "outputs": [],
   "source": [
    "\n",
    "# with model_Garri dataset\n",
    "train_tokenized_dataset_garri = tokenized_dataset_garri[\"train\"].shuffle(seed=42).select(range(train_data_size))\n",
    "test_tokenized_dataset_garri = tokenized_dataset_garri[\"test\"].shuffle(seed=42).select(range(test_data_size))\n",
    "evaluation_tokenized_dataset_garri = tokenized_dataset_garri[\"evaluation\"].shuffle(seed=42).select(range(evaluation_data_size)) \n"
   ]
  },
  {
   "cell_type": "code",
   "execution_count": 181,
   "metadata": {
    "id": "O-QVp6q7ceuF"
   },
   "outputs": [
    {
     "data": {
      "text/plain": [
       "Dataset({\n",
       "    features: ['label_value', 'text_len', 'input_ids', 'token_type_ids', 'attention_mask'],\n",
       "    num_rows: 12375\n",
       "})"
      ]
     },
     "execution_count": 181,
     "metadata": {},
     "output_type": "execute_result"
    }
   ],
   "source": [
    "train_tokenized_dataset"
   ]
  },
  {
   "cell_type": "code",
   "execution_count": 182,
   "metadata": {},
   "outputs": [
    {
     "data": {
      "text/plain": [
       "Dataset({\n",
       "    features: ['label_value', 'text_len', 'input_ids', 'token_type_ids', 'attention_mask'],\n",
       "    num_rows: 3438\n",
       "})"
      ]
     },
     "execution_count": 182,
     "metadata": {},
     "output_type": "execute_result"
    }
   ],
   "source": [
    "test_tokenized_dataset"
   ]
  },
  {
   "cell_type": "markdown",
   "metadata": {},
   "source": [
    "#### Load with DataLoader"
   ]
  },
  {
   "cell_type": "code",
   "execution_count": 183,
   "metadata": {},
   "outputs": [],
   "source": [
    "# Load with DataLoader\n",
    "train_dataloader = DataLoader(train_tokenized_dataset, shuffle=True, batch_size=4)\n",
    "test_dataloader = DataLoader(test_tokenized_dataset, shuffle= True, batch_size=4)\n",
    "evaluation_dataloader = DataLoader(evaluation_tokenized_dataset, shuffle= True, batch_size=4)"
   ]
  },
  {
   "cell_type": "code",
   "execution_count": null,
   "metadata": {},
   "outputs": [],
   "source": []
  },
  {
   "cell_type": "code",
   "execution_count": 184,
   "metadata": {},
   "outputs": [],
   "source": [
    "# llama2a\n",
    "train_dataloader_llama2 = DataLoader(train_tokenized_dataset_llama2, shuffle=True, batch_size=4)\n",
    "test_dataloader_llama2 = DataLoader(test_tokenized_dataset_llama2, shuffle= True, batch_size=4)\n",
    "evaluation_dataloader_llama2 = DataLoader(evaluation_tokenized_dataset_llama2, shuffle= True, batch_size=4)\n"
   ]
  },
  {
   "cell_type": "code",
   "execution_count": 185,
   "metadata": {
    "colab": {
     "base_uri": "https://localhost:8080/"
    },
    "id": "2ViNnQwIciUy",
    "outputId": "d317ab38-4ee4-4d03-a127-5526819782c1"
   },
   "outputs": [],
   "source": [
    "\n",
    "# Garri\n",
    "train_dataloader_garri = DataLoader(train_tokenized_dataset_garri, shuffle=True, batch_size=4)\n",
    "test_dataloader_garri = DataLoader(test_tokenized_dataset_garri, shuffle= True, batch_size=4)\n",
    "evaluation_dataloader_garri = DataLoader(evaluation_tokenized_dataset_garri, shuffle= True, batch_size=4)"
   ]
  },
  {
   "cell_type": "markdown",
   "metadata": {},
   "source": [
    "#### Load AutoModelForSequenceClassification, AutoModelForCausalLMa from the pretrained model from transformers"
   ]
  },
  {
   "cell_type": "code",
   "execution_count": null,
   "metadata": {},
   "outputs": [],
   "source": []
  },
  {
   "cell_type": "code",
   "execution_count": 186,
   "metadata": {
    "id": "zGyiz-arcsxK",
    "scrolled": true
   },
   "outputs": [],
   "source": [
    "from transformers import AutoModelForSequenceClassification\n",
    "from transformers import AutoModelForCausalLM\n",
    "from huggingface_hub import notebook_login\n",
    "\n",
    "import warnings\n",
    "warnings.filterwarnings('ignore', category=UserWarning, message='TypedStorage is deprecated')"
   ]
  },
  {
   "cell_type": "code",
   "execution_count": 70,
   "metadata": {},
   "outputs": [
    {
     "data": {
      "application/vnd.jupyter.widget-view+json": {
       "model_id": "999266f9a6c2489db92c17109796b7fb",
       "version_major": 2,
       "version_minor": 0
      },
      "text/plain": [
       "VBox(children=(HTML(value='<center> <img\\nsrc=https://huggingface.co/front/assets/huggingface_logo-noborder.sv…"
      ]
     },
     "metadata": {},
     "output_type": "display_data"
    }
   ],
   "source": [
    "notebook_login()"
   ]
  },
  {
   "cell_type": "code",
   "execution_count": 187,
   "metadata": {},
   "outputs": [],
   "source": [
    "# from transformers import AutoModel\n",
    "\n",
    "# # Load the model\n",
    "# model = AutoModel.from_pretrained('iocuydi/llama-2-amharic-3784m')\n",
    "\n",
    "# # Generate the config.json file\n",
    "# model.config.to_json_file(\"config.json\")\n"
   ]
  },
  {
   "cell_type": "markdown",
   "metadata": {},
   "source": [
    "#### Function  to download LLaMA 2 model and its tokenizer. It requires a bitsandbytes configuration"
   ]
  },
  {
   "cell_type": "code",
   "execution_count": 188,
   "metadata": {},
   "outputs": [],
   "source": [
    "def load_model(model_name, bnb_config):\n",
    "    n_gpus = torch.cuda.device_count()\n",
    "    max_memory = f'{40960}MB'\n",
    "\n",
    "#method from the Hugging Face Transformers library to load a pre-trained language model\n",
    "    model = AutoModelForCausalLM.from_pretrained(\n",
    "        model_name,\n",
    "        quantization_config=bnb_config,\n",
    "        device_map=\"auto\", # dispatch efficiently the model on the available ressources\n",
    "        max_memory = {i: max_memory for i in range(n_gpus)},\n",
    "    )\n",
    "    tokenizer = AutoTokenizer.from_pretrained(model_name, use_auth_token=True)\n",
    "\n",
    "    # Needed for LLaMA tokenizer\n",
    "    tokenizer.pad_token = tokenizer.eos_token\n",
    "\n",
    "    return model, tokenizer"
   ]
  },
  {
   "cell_type": "code",
   "execution_count": 189,
   "metadata": {},
   "outputs": [],
   "source": [
    "from transformers import AutoModelForCausalLM, AutoTokenizer, set_seed, Trainer, TrainingArguments, BitsAndBytesConfig, \\\n",
    "    DataCollatorForLanguageModeling, Trainer, TrainingArguments\n",
    "\n",
    "def create_bnb_config():\n",
    "    bnb_config = BitsAndBytesConfig(\n",
    "        load_in_4bit=True,\n",
    "        bnb_4bit_use_double_quant=True,\n",
    "        bnb_4bit_quant_type=\"nf4\",\n",
    "        bnb_4bit_compute_dtype=torch.bfloat16,\n",
    "    )\n",
    "\n",
    "    return bnb_config\n",
    "    "
   ]
  },
  {
   "cell_type": "code",
   "execution_count": 190,
   "metadata": {},
   "outputs": [],
   "source": [
    "bnb_config = create_bnb_config()"
   ]
  },
  {
   "cell_type": "code",
   "execution_count": null,
   "metadata": {},
   "outputs": [],
   "source": []
  },
  {
   "cell_type": "code",
   "execution_count": 66,
   "metadata": {
    "scrolled": true
   },
   "outputs": [],
   "source": [
    "# Bert model\n",
    "# model_b, tokenizer_b = load_model(model_base_name, bnb_config)"
   ]
  },
  {
   "cell_type": "code",
   "execution_count": 64,
   "metadata": {
    "scrolled": true
   },
   "outputs": [
    {
     "data": {
      "application/vnd.jupyter.widget-view+json": {
       "model_id": "db1c3c75b219418a8389bffeb5378645",
       "version_major": 2,
       "version_minor": 0
      },
      "text/plain": [
       "Loading checkpoint shards:   0%|          | 0/2 [00:00<?, ?it/s]"
      ]
     },
     "metadata": {},
     "output_type": "display_data"
    },
    {
     "name": "stderr",
     "output_type": "stream",
     "text": [
      "/opt/miniconda/lib/python3.11/site-packages/transformers/models/auto/tokenization_auto.py:711: FutureWarning: The `use_auth_token` argument is deprecated and will be removed in v5 of Transformers. Please use `token` instead.\n",
      "  warnings.warn(\n"
     ]
    }
   ],
   "source": [
    "# Llama2 model\n",
    "model_l, tokenizer_l = load_model(model_llama2_name, bnb_config)"
   ]
  },
  {
   "cell_type": "code",
   "execution_count": 75,
   "metadata": {},
   "outputs": [],
   "source": [
    "# model_l"
   ]
  },
  {
   "cell_type": "code",
   "execution_count": 68,
   "metadata": {},
   "outputs": [],
   "source": [
    "# Garri model\n",
    "# model_g, tokenizer_g = load_model(model_garri_name, bnb_config)"
   ]
  },
  {
   "cell_type": "code",
   "execution_count": null,
   "metadata": {},
   "outputs": [],
   "source": []
  },
  {
   "cell_type": "code",
   "execution_count": 191,
   "metadata": {},
   "outputs": [
    {
     "name": "stderr",
     "output_type": "stream",
     "text": [
      "Some weights of BertForSequenceClassification were not initialized from the model checkpoint at Davlan/bert-base-multilingual-cased-finetuned-amharic and are newly initialized: ['bert.pooler.dense.bias', 'bert.pooler.dense.weight', 'classifier.bias', 'classifier.weight']\n",
      "You should probably TRAIN this model on a down-stream task to be able to use it for predictions and inference.\n"
     ]
    }
   ],
   "source": [
    "model_b = AutoModelForSequenceClassification.from_pretrained(\"Davlan/bert-base-multilingual-cased-finetuned-amharic\", num_labels=7)"
   ]
  },
  {
   "cell_type": "code",
   "execution_count": 192,
   "metadata": {},
   "outputs": [
    {
     "name": "stderr",
     "output_type": "stream",
     "text": [
      "Some weights of BertForSequenceClassification were not initialized from the model checkpoint at Davlan/bert-base-multilingual-cased-finetuned-amharic and are newly initialized: ['bert.pooler.dense.bias', 'bert.pooler.dense.weight', 'classifier.bias', 'classifier.weight']\n",
      "You should probably TRAIN this model on a down-stream task to be able to use it for predictions and inference.\n"
     ]
    }
   ],
   "source": [
    "# create an instance of AutoModelForSequenceClassification for each LLM\n",
    "\n",
    "model = AutoModelForSequenceClassification.from_pretrained(model_base_name, num_labels=7)"
   ]
  },
  {
   "cell_type": "code",
   "execution_count": 194,
   "metadata": {},
   "outputs": [],
   "source": [
    "# model"
   ]
  },
  {
   "cell_type": "code",
   "execution_count": 195,
   "metadata": {
    "scrolled": true
   },
   "outputs": [
    {
     "data": {
      "application/vnd.jupyter.widget-view+json": {
       "model_id": "92e29fef259f48d9bf82b288e35e5f9e",
       "version_major": 2,
       "version_minor": 0
      },
      "text/plain": [
       "Loading checkpoint shards:   0%|          | 0/2 [00:00<?, ?it/s]"
      ]
     },
     "metadata": {},
     "output_type": "display_data"
    },
    {
     "name": "stderr",
     "output_type": "stream",
     "text": [
      "Some weights of LlamaForSequenceClassification were not initialized from the model checkpoint at meta-llama/Llama-2-7b-hf and are newly initialized: ['score.weight']\n",
      "You should probably TRAIN this model on a down-stream task to be able to use it for predictions and inference.\n"
     ]
    }
   ],
   "source": [
    "model_llama2 = AutoModelForSequenceClassification.from_pretrained(model_llama2_name)"
   ]
  },
  {
   "cell_type": "code",
   "execution_count": 196,
   "metadata": {},
   "outputs": [],
   "source": [
    "# model_llama2"
   ]
  },
  {
   "cell_type": "code",
   "execution_count": null,
   "metadata": {},
   "outputs": [],
   "source": []
  },
  {
   "cell_type": "code",
   "execution_count": 197,
   "metadata": {
    "colab": {
     "base_uri": "https://localhost:8080/"
    },
    "id": "O5fOf7rzdE58",
    "outputId": "247a2433-7bab-4926-f0bc-eabd80bc1d06"
   },
   "outputs": [],
   "source": [
    "# model_garri = AutoModelForSequenceClassification.from_pretrained(model_garri_name, cache_dir=\"/home/rodolphe_segbedji/.cache\")"
   ]
  },
  {
   "cell_type": "code",
   "execution_count": null,
   "metadata": {},
   "outputs": [],
   "source": []
  },
  {
   "cell_type": "code",
   "execution_count": 198,
   "metadata": {},
   "outputs": [
    {
     "name": "stdout",
     "output_type": "stream",
     "text": [
      "Training on GPU\n",
      "cuda:0\n"
     ]
    }
   ],
   "source": [
    "device = torch.device(\"cpu\")\n",
    "if torch.cuda.is_available():\n",
    "    print(\"Training on GPU\")\n",
    "    device = torch.device(\"cuda:0\")\n",
    "print(device)"
   ]
  },
  {
   "cell_type": "code",
   "execution_count": 199,
   "metadata": {},
   "outputs": [],
   "source": [
    "import numpy as np\n",
    "from datasets import load_metric\n",
    "#metric = load_metric(\"f1\", \"accuracy\")"
   ]
  },
  {
   "cell_type": "code",
   "execution_count": 200,
   "metadata": {
    "id": "_yNQ4Lxodl5o"
   },
   "outputs": [],
   "source": [
    "\n",
    "#def compute_metrics(eval_pred):\n",
    " #   logits, labels = eval_pred\n",
    "#    predictions = np.argmax(logits, axis=-1)\n",
    " #   return metric.compute(predictions=predictions, references=labels, average=\"weighted\")"
   ]
  },
  {
   "cell_type": "code",
   "execution_count": 202,
   "metadata": {
    "colab": {
     "base_uri": "https://localhost:8080/"
    },
    "id": "nHxTNtNJf_gF",
    "outputId": "4051e9cc-ddaf-447c-f870-4375f87b5869"
   },
   "outputs": [],
   "source": [
    "# ! pip install -U accelerate\n",
    "# ! pip install -U transformers"
   ]
  },
  {
   "cell_type": "code",
   "execution_count": 203,
   "metadata": {
    "id": "0yUwjNCqjC1P"
   },
   "outputs": [],
   "source": [
    "# #load an optimizer\n",
    "# optimizer = AdamW(model.parameters(), lr=5e-5)\n",
    "from transformers import TrainingArguments\n",
    "\n",
    "training_args = TrainingArguments(output_dir=\"test_trainer\")"
   ]
  },
  {
   "cell_type": "code",
   "execution_count": 204,
   "metadata": {
    "colab": {
     "base_uri": "https://localhost:8080/",
     "height": 35
    },
    "id": "TTVlT1I9vqm4",
    "outputId": "47a2fd42-9586-4853-a83b-0f96b73014b6"
   },
   "outputs": [
    {
     "data": {
      "text/plain": [
       "'0.26.1'"
      ]
     },
     "execution_count": 204,
     "metadata": {},
     "output_type": "execute_result"
    }
   ],
   "source": [
    "import accelerate\n",
    "accelerate.__version__"
   ]
  },
  {
   "cell_type": "code",
   "execution_count": 205,
   "metadata": {
    "id": "lKqpO25FwBEa"
   },
   "outputs": [],
   "source": [
    "from transformers import TrainingArguments, Trainer\n",
    "from transformers import EarlyStoppingCallback, IntervalStrategy"
   ]
  },
  {
   "cell_type": "code",
   "execution_count": 206,
   "metadata": {
    "id": "ebJWpYe1yBPr"
   },
   "outputs": [],
   "source": [
    "def custom_metrics(eval_pred):\n",
    "    metric1 = load_metric(\"precision\")\n",
    "    metric2 = load_metric(\"recall\")\n",
    "    metric3 = load_metric(\"f1\")\n",
    "    metric4 = load_metric(\"accuracy\")\n",
    "\n",
    "    logits, labels = eval_pred\n",
    "    predictions = np.argmax(logits, axis=-1)\n",
    "\n",
    "    precision = metric1.compute(predictions=predictions, references=labels, average=\"weighted\")[\"precision\"]\n",
    "    recall = metric2.compute(predictions=predictions, references=labels, average=\"weighted\")[\"recall\"]\n",
    "    f1 = metric3.compute(predictions=predictions, references=labels, average=\"weighted\")[\"f1\"]\n",
    "    accuracy = metric4.compute(predictions=predictions, references=labels)[\"accuracy\"]\n",
    "\n",
    "    return {\"precision\": precision, \"recall\": recall, \"f1\": f1, \"accuracy\": accuracy}"
   ]
  },
  {
   "cell_type": "code",
   "execution_count": 207,
   "metadata": {},
   "outputs": [
    {
     "data": {
      "text/plain": [
       "Dataset({\n",
       "    features: ['label_value', 'text_len', 'input_ids', 'token_type_ids', 'attention_mask'],\n",
       "    num_rows: 12375\n",
       "})"
      ]
     },
     "execution_count": 207,
     "metadata": {},
     "output_type": "execute_result"
    }
   ],
   "source": [
    "# label_names=['text']\n",
    "train_tokenized_dataset"
   ]
  },
  {
   "cell_type": "code",
   "execution_count": 220,
   "metadata": {
    "id": "uB2S0wyydvmG"
   },
   "outputs": [],
   "source": [
    "# #load an optimizer\n",
    "# optimizer = AdamW(model.parameters(), lr=5e-5)\n",
    "training_args = TrainingArguments(\n",
    "   f\"training_with_callbacks\",\n",
    "   evaluation_strategy='epoch',\n",
    "   save_strategy='epoch',\n",
    "   num_train_epochs=10,\n",
    "   # total number of training epochs\n",
    "   learning_rate=1e-5,\n",
    "   per_device_train_batch_size=64,  # batch size per device during training\n",
    "   per_device_eval_batch_size=32,   # batch size for evaluation\n",
    "    warmup_steps=1000,                # number of warmup steps for learning rate\n",
    "    load_best_model_at_end= True,\n",
    "    weight_decay=0.01,               # strength of weight decay\n",
    "    logging_dir='./logs',            # directory for storing logs\n",
    "    logging_steps=20,\n",
    "\n",
    "   )"
   ]
  },
  {
   "cell_type": "code",
   "execution_count": 221,
   "metadata": {
    "id": "nGrZ8XQAwzz_",
    "scrolled": true
   },
   "outputs": [
    {
     "ename": "OutOfMemoryError",
     "evalue": "CUDA out of memory. Tried to allocate 176.00 MiB. GPU 0 has a total capacty of 22.02 GiB of which 56.25 MiB is free. Including non-PyTorch memory, this process has 8.91 GiB memory in use. Process 3953 has 6.62 GiB memory in use. Process 8094 has 6.44 GiB memory in use. Of the allocated memory 7.77 GiB is allocated by PyTorch, and 109.22 MiB is reserved by PyTorch but unallocated. If reserved but unallocated memory is large try setting max_split_size_mb to avoid fragmentation.  See documentation for Memory Management and PYTORCH_CUDA_ALLOC_CONF",
     "output_type": "error",
     "traceback": [
      "\u001b[0;31m---------------------------------------------------------------------------\u001b[0m",
      "\u001b[0;31mOutOfMemoryError\u001b[0m                          Traceback (most recent call last)",
      "Cell \u001b[0;32mIn[221], line 1\u001b[0m\n\u001b[0;32m----> 1\u001b[0m trainer \u001b[38;5;241m=\u001b[39m Trainer(\n\u001b[1;32m      2\u001b[0m     model\u001b[38;5;241m=\u001b[39mmodel_b,\n\u001b[1;32m      3\u001b[0m     args\u001b[38;5;241m=\u001b[39mtraining_args,\n\u001b[1;32m      4\u001b[0m     train_dataset\u001b[38;5;241m=\u001b[39mtrain_tokenized_dataset,\n\u001b[1;32m      5\u001b[0m     eval_dataset\u001b[38;5;241m=\u001b[39mevaluation_tokenized_dataset,\n\u001b[1;32m      6\u001b[0m     compute_metrics\u001b[38;5;241m=\u001b[39mcustom_metrics,\n\u001b[1;32m      7\u001b[0m     callbacks \u001b[38;5;241m=\u001b[39m [EarlyStoppingCallback(early_stopping_patience\u001b[38;5;241m=\u001b[39m\u001b[38;5;241m10\u001b[39m, )],\n\u001b[1;32m      8\u001b[0m )\n",
      "File \u001b[0;32m/opt/miniconda/lib/python3.11/site-packages/transformers/trainer.py:459\u001b[0m, in \u001b[0;36mTrainer.__init__\u001b[0;34m(self, model, args, data_collator, train_dataset, eval_dataset, tokenizer, model_init, compute_metrics, callbacks, optimizers, preprocess_logits_for_metrics)\u001b[0m\n\u001b[1;32m    454\u001b[0m \u001b[38;5;66;03m# Bnb Quantized models doesn't support `.to` operation.\u001b[39;00m\n\u001b[1;32m    455\u001b[0m \u001b[38;5;28;01mif\u001b[39;00m (\n\u001b[1;32m    456\u001b[0m     \u001b[38;5;28mself\u001b[39m\u001b[38;5;241m.\u001b[39mplace_model_on_device\n\u001b[1;32m    457\u001b[0m     \u001b[38;5;129;01mand\u001b[39;00m \u001b[38;5;129;01mnot\u001b[39;00m \u001b[38;5;28mgetattr\u001b[39m(model, \u001b[38;5;124m\"\u001b[39m\u001b[38;5;124mquantization_method\u001b[39m\u001b[38;5;124m\"\u001b[39m, \u001b[38;5;28;01mNone\u001b[39;00m) \u001b[38;5;241m==\u001b[39m QuantizationMethod\u001b[38;5;241m.\u001b[39mBITS_AND_BYTES\n\u001b[1;32m    458\u001b[0m ):\n\u001b[0;32m--> 459\u001b[0m     \u001b[38;5;28mself\u001b[39m\u001b[38;5;241m.\u001b[39m_move_model_to_device(model, args\u001b[38;5;241m.\u001b[39mdevice)\n\u001b[1;32m    461\u001b[0m \u001b[38;5;66;03m# Force n_gpu to 1 to avoid DataParallel as MP will manage the GPUs\u001b[39;00m\n\u001b[1;32m    462\u001b[0m \u001b[38;5;28;01mif\u001b[39;00m \u001b[38;5;28mself\u001b[39m\u001b[38;5;241m.\u001b[39mis_model_parallel:\n",
      "File \u001b[0;32m/opt/miniconda/lib/python3.11/site-packages/transformers/trainer.py:693\u001b[0m, in \u001b[0;36mTrainer._move_model_to_device\u001b[0;34m(self, model, device)\u001b[0m\n\u001b[1;32m    692\u001b[0m \u001b[38;5;28;01mdef\u001b[39;00m \u001b[38;5;21m_move_model_to_device\u001b[39m(\u001b[38;5;28mself\u001b[39m, model, device):\n\u001b[0;32m--> 693\u001b[0m     model \u001b[38;5;241m=\u001b[39m model\u001b[38;5;241m.\u001b[39mto(device)\n\u001b[1;32m    694\u001b[0m     \u001b[38;5;66;03m# Moving a model to an XLA device disconnects the tied weights, so we have to retie them.\u001b[39;00m\n\u001b[1;32m    695\u001b[0m     \u001b[38;5;28;01mif\u001b[39;00m \u001b[38;5;28mself\u001b[39m\u001b[38;5;241m.\u001b[39margs\u001b[38;5;241m.\u001b[39mparallel_mode \u001b[38;5;241m==\u001b[39m ParallelMode\u001b[38;5;241m.\u001b[39mTPU \u001b[38;5;129;01mand\u001b[39;00m \u001b[38;5;28mhasattr\u001b[39m(model, \u001b[38;5;124m\"\u001b[39m\u001b[38;5;124mtie_weights\u001b[39m\u001b[38;5;124m\"\u001b[39m):\n",
      "File \u001b[0;32m/opt/miniconda/lib/python3.11/site-packages/transformers/modeling_utils.py:2595\u001b[0m, in \u001b[0;36mPreTrainedModel.to\u001b[0;34m(self, *args, **kwargs)\u001b[0m\n\u001b[1;32m   2590\u001b[0m     \u001b[38;5;28;01mif\u001b[39;00m dtype_present_in_args:\n\u001b[1;32m   2591\u001b[0m         \u001b[38;5;28;01mraise\u001b[39;00m \u001b[38;5;167;01mValueError\u001b[39;00m(\n\u001b[1;32m   2592\u001b[0m             \u001b[38;5;124m\"\u001b[39m\u001b[38;5;124mYou cannot cast a GPTQ model in a new `dtype`. Make sure to load the model using `from_pretrained` using the desired\u001b[39m\u001b[38;5;124m\"\u001b[39m\n\u001b[1;32m   2593\u001b[0m             \u001b[38;5;124m\"\u001b[39m\u001b[38;5;124m `dtype` by passing the correct `torch_dtype` argument.\u001b[39m\u001b[38;5;124m\"\u001b[39m\n\u001b[1;32m   2594\u001b[0m         )\n\u001b[0;32m-> 2595\u001b[0m \u001b[38;5;28;01mreturn\u001b[39;00m \u001b[38;5;28msuper\u001b[39m()\u001b[38;5;241m.\u001b[39mto(\u001b[38;5;241m*\u001b[39margs, \u001b[38;5;241m*\u001b[39m\u001b[38;5;241m*\u001b[39mkwargs)\n",
      "File \u001b[0;32m/opt/miniconda/lib/python3.11/site-packages/torch/nn/modules/module.py:1160\u001b[0m, in \u001b[0;36mModule.to\u001b[0;34m(self, *args, **kwargs)\u001b[0m\n\u001b[1;32m   1156\u001b[0m         \u001b[38;5;28;01mreturn\u001b[39;00m t\u001b[38;5;241m.\u001b[39mto(device, dtype \u001b[38;5;28;01mif\u001b[39;00m t\u001b[38;5;241m.\u001b[39mis_floating_point() \u001b[38;5;129;01mor\u001b[39;00m t\u001b[38;5;241m.\u001b[39mis_complex() \u001b[38;5;28;01melse\u001b[39;00m \u001b[38;5;28;01mNone\u001b[39;00m,\n\u001b[1;32m   1157\u001b[0m                     non_blocking, memory_format\u001b[38;5;241m=\u001b[39mconvert_to_format)\n\u001b[1;32m   1158\u001b[0m     \u001b[38;5;28;01mreturn\u001b[39;00m t\u001b[38;5;241m.\u001b[39mto(device, dtype \u001b[38;5;28;01mif\u001b[39;00m t\u001b[38;5;241m.\u001b[39mis_floating_point() \u001b[38;5;129;01mor\u001b[39;00m t\u001b[38;5;241m.\u001b[39mis_complex() \u001b[38;5;28;01melse\u001b[39;00m \u001b[38;5;28;01mNone\u001b[39;00m, non_blocking)\n\u001b[0;32m-> 1160\u001b[0m \u001b[38;5;28;01mreturn\u001b[39;00m \u001b[38;5;28mself\u001b[39m\u001b[38;5;241m.\u001b[39m_apply(convert)\n",
      "File \u001b[0;32m/opt/miniconda/lib/python3.11/site-packages/torch/nn/modules/module.py:810\u001b[0m, in \u001b[0;36mModule._apply\u001b[0;34m(self, fn, recurse)\u001b[0m\n\u001b[1;32m    808\u001b[0m \u001b[38;5;28;01mif\u001b[39;00m recurse:\n\u001b[1;32m    809\u001b[0m     \u001b[38;5;28;01mfor\u001b[39;00m module \u001b[38;5;129;01min\u001b[39;00m \u001b[38;5;28mself\u001b[39m\u001b[38;5;241m.\u001b[39mchildren():\n\u001b[0;32m--> 810\u001b[0m         module\u001b[38;5;241m.\u001b[39m_apply(fn)\n\u001b[1;32m    812\u001b[0m \u001b[38;5;28;01mdef\u001b[39;00m \u001b[38;5;21mcompute_should_use_set_data\u001b[39m(tensor, tensor_applied):\n\u001b[1;32m    813\u001b[0m     \u001b[38;5;28;01mif\u001b[39;00m torch\u001b[38;5;241m.\u001b[39m_has_compatible_shallow_copy_type(tensor, tensor_applied):\n\u001b[1;32m    814\u001b[0m         \u001b[38;5;66;03m# If the new tensor has compatible tensor type as the existing tensor,\u001b[39;00m\n\u001b[1;32m    815\u001b[0m         \u001b[38;5;66;03m# the current behavior is to change the tensor in-place using `.data =`,\u001b[39;00m\n\u001b[0;32m   (...)\u001b[0m\n\u001b[1;32m    820\u001b[0m         \u001b[38;5;66;03m# global flag to let the user control whether they want the future\u001b[39;00m\n\u001b[1;32m    821\u001b[0m         \u001b[38;5;66;03m# behavior of overwriting the existing tensor or not.\u001b[39;00m\n",
      "File \u001b[0;32m/opt/miniconda/lib/python3.11/site-packages/torch/nn/modules/module.py:810\u001b[0m, in \u001b[0;36mModule._apply\u001b[0;34m(self, fn, recurse)\u001b[0m\n\u001b[1;32m    808\u001b[0m \u001b[38;5;28;01mif\u001b[39;00m recurse:\n\u001b[1;32m    809\u001b[0m     \u001b[38;5;28;01mfor\u001b[39;00m module \u001b[38;5;129;01min\u001b[39;00m \u001b[38;5;28mself\u001b[39m\u001b[38;5;241m.\u001b[39mchildren():\n\u001b[0;32m--> 810\u001b[0m         module\u001b[38;5;241m.\u001b[39m_apply(fn)\n\u001b[1;32m    812\u001b[0m \u001b[38;5;28;01mdef\u001b[39;00m \u001b[38;5;21mcompute_should_use_set_data\u001b[39m(tensor, tensor_applied):\n\u001b[1;32m    813\u001b[0m     \u001b[38;5;28;01mif\u001b[39;00m torch\u001b[38;5;241m.\u001b[39m_has_compatible_shallow_copy_type(tensor, tensor_applied):\n\u001b[1;32m    814\u001b[0m         \u001b[38;5;66;03m# If the new tensor has compatible tensor type as the existing tensor,\u001b[39;00m\n\u001b[1;32m    815\u001b[0m         \u001b[38;5;66;03m# the current behavior is to change the tensor in-place using `.data =`,\u001b[39;00m\n\u001b[0;32m   (...)\u001b[0m\n\u001b[1;32m    820\u001b[0m         \u001b[38;5;66;03m# global flag to let the user control whether they want the future\u001b[39;00m\n\u001b[1;32m    821\u001b[0m         \u001b[38;5;66;03m# behavior of overwriting the existing tensor or not.\u001b[39;00m\n",
      "File \u001b[0;32m/opt/miniconda/lib/python3.11/site-packages/torch/nn/modules/module.py:810\u001b[0m, in \u001b[0;36mModule._apply\u001b[0;34m(self, fn, recurse)\u001b[0m\n\u001b[1;32m    808\u001b[0m \u001b[38;5;28;01mif\u001b[39;00m recurse:\n\u001b[1;32m    809\u001b[0m     \u001b[38;5;28;01mfor\u001b[39;00m module \u001b[38;5;129;01min\u001b[39;00m \u001b[38;5;28mself\u001b[39m\u001b[38;5;241m.\u001b[39mchildren():\n\u001b[0;32m--> 810\u001b[0m         module\u001b[38;5;241m.\u001b[39m_apply(fn)\n\u001b[1;32m    812\u001b[0m \u001b[38;5;28;01mdef\u001b[39;00m \u001b[38;5;21mcompute_should_use_set_data\u001b[39m(tensor, tensor_applied):\n\u001b[1;32m    813\u001b[0m     \u001b[38;5;28;01mif\u001b[39;00m torch\u001b[38;5;241m.\u001b[39m_has_compatible_shallow_copy_type(tensor, tensor_applied):\n\u001b[1;32m    814\u001b[0m         \u001b[38;5;66;03m# If the new tensor has compatible tensor type as the existing tensor,\u001b[39;00m\n\u001b[1;32m    815\u001b[0m         \u001b[38;5;66;03m# the current behavior is to change the tensor in-place using `.data =`,\u001b[39;00m\n\u001b[0;32m   (...)\u001b[0m\n\u001b[1;32m    820\u001b[0m         \u001b[38;5;66;03m# global flag to let the user control whether they want the future\u001b[39;00m\n\u001b[1;32m    821\u001b[0m         \u001b[38;5;66;03m# behavior of overwriting the existing tensor or not.\u001b[39;00m\n",
      "File \u001b[0;32m/opt/miniconda/lib/python3.11/site-packages/torch/nn/modules/module.py:833\u001b[0m, in \u001b[0;36mModule._apply\u001b[0;34m(self, fn, recurse)\u001b[0m\n\u001b[1;32m    829\u001b[0m \u001b[38;5;66;03m# Tensors stored in modules are graph leaves, and we don't want to\u001b[39;00m\n\u001b[1;32m    830\u001b[0m \u001b[38;5;66;03m# track autograd history of `param_applied`, so we have to use\u001b[39;00m\n\u001b[1;32m    831\u001b[0m \u001b[38;5;66;03m# `with torch.no_grad():`\u001b[39;00m\n\u001b[1;32m    832\u001b[0m \u001b[38;5;28;01mwith\u001b[39;00m torch\u001b[38;5;241m.\u001b[39mno_grad():\n\u001b[0;32m--> 833\u001b[0m     param_applied \u001b[38;5;241m=\u001b[39m fn(param)\n\u001b[1;32m    834\u001b[0m should_use_set_data \u001b[38;5;241m=\u001b[39m compute_should_use_set_data(param, param_applied)\n\u001b[1;32m    835\u001b[0m \u001b[38;5;28;01mif\u001b[39;00m should_use_set_data:\n",
      "File \u001b[0;32m/opt/miniconda/lib/python3.11/site-packages/torch/nn/modules/module.py:1158\u001b[0m, in \u001b[0;36mModule.to.<locals>.convert\u001b[0;34m(t)\u001b[0m\n\u001b[1;32m   1155\u001b[0m \u001b[38;5;28;01mif\u001b[39;00m convert_to_format \u001b[38;5;129;01mis\u001b[39;00m \u001b[38;5;129;01mnot\u001b[39;00m \u001b[38;5;28;01mNone\u001b[39;00m \u001b[38;5;129;01mand\u001b[39;00m t\u001b[38;5;241m.\u001b[39mdim() \u001b[38;5;129;01min\u001b[39;00m (\u001b[38;5;241m4\u001b[39m, \u001b[38;5;241m5\u001b[39m):\n\u001b[1;32m   1156\u001b[0m     \u001b[38;5;28;01mreturn\u001b[39;00m t\u001b[38;5;241m.\u001b[39mto(device, dtype \u001b[38;5;28;01mif\u001b[39;00m t\u001b[38;5;241m.\u001b[39mis_floating_point() \u001b[38;5;129;01mor\u001b[39;00m t\u001b[38;5;241m.\u001b[39mis_complex() \u001b[38;5;28;01melse\u001b[39;00m \u001b[38;5;28;01mNone\u001b[39;00m,\n\u001b[1;32m   1157\u001b[0m                 non_blocking, memory_format\u001b[38;5;241m=\u001b[39mconvert_to_format)\n\u001b[0;32m-> 1158\u001b[0m \u001b[38;5;28;01mreturn\u001b[39;00m t\u001b[38;5;241m.\u001b[39mto(device, dtype \u001b[38;5;28;01mif\u001b[39;00m t\u001b[38;5;241m.\u001b[39mis_floating_point() \u001b[38;5;129;01mor\u001b[39;00m t\u001b[38;5;241m.\u001b[39mis_complex() \u001b[38;5;28;01melse\u001b[39;00m \u001b[38;5;28;01mNone\u001b[39;00m, non_blocking)\n",
      "\u001b[0;31mOutOfMemoryError\u001b[0m: CUDA out of memory. Tried to allocate 176.00 MiB. GPU 0 has a total capacty of 22.02 GiB of which 56.25 MiB is free. Including non-PyTorch memory, this process has 8.91 GiB memory in use. Process 3953 has 6.62 GiB memory in use. Process 8094 has 6.44 GiB memory in use. Of the allocated memory 7.77 GiB is allocated by PyTorch, and 109.22 MiB is reserved by PyTorch but unallocated. If reserved but unallocated memory is large try setting max_split_size_mb to avoid fragmentation.  See documentation for Memory Management and PYTORCH_CUDA_ALLOC_CONF"
     ]
    }
   ],
   "source": [
    "trainer = Trainer(\n",
    "    model=model_b,\n",
    "    args=training_args,\n",
    "    train_dataset=train_tokenized_dataset,\n",
    "    eval_dataset=evaluation_tokenized_dataset,\n",
    "    compute_metrics=custom_metrics,\n",
    "    callbacks = [EarlyStoppingCallback(early_stopping_patience=10, )],\n",
    ")"
   ]
  },
  {
   "cell_type": "code",
   "execution_count": null,
   "metadata": {},
   "outputs": [],
   "source": []
  },
  {
   "cell_type": "code",
   "execution_count": null,
   "metadata": {},
   "outputs": [],
   "source": [
    "\n",
    "# with model_base dataset\n",
    "train_tokenized_dataset = tokenized_dataset[\"train\"].shuffle(seed=42).select(range(train_data_size))\n",
    "test_tokenized_dataset = tokenized_dataset[\"test\"].shuffle(seed=42).select(range(test_data_size))\n",
    "evaluation_tokenized_dataset = tokenized_dataset[\"evaluation\"].shuffle(seed=42).select(range(evaluation_data_size)) \n"
   ]
  },
  {
   "cell_type": "code",
   "execution_count": 216,
   "metadata": {
    "id": "JQp_8yZE2o3O"
   },
   "outputs": [],
   "source": [
    "import torch\n",
    "torch.cuda.empty_cache()\n"
   ]
  },
  {
   "cell_type": "code",
   "execution_count": 217,
   "metadata": {
    "colab": {
     "base_uri": "https://localhost:8080/",
     "height": 658,
     "referenced_widgets": [
      "d0ddba094aa54391bd850d6b1c44ece4",
      "c8d0113d00104edfa373e300a61cd1f5",
      "092312cf06be4deaa899d9bf6a484ffe",
      "b8860dbe5df84996aea5930b39c7ec70",
      "506a07e89e2447ab8757482b8269b86f",
      "22991a23b19b43ecb7a474a7feae13f9",
      "4695f3c4d36f4257acb1f611583d8492",
      "e243a9f26dce44df844abca0b57badd0",
      "64e4ef62b9fd46718340952087feffb9",
      "2aec810880bb4fa29691b584eff0c2df",
      "1fa0139b04bf4aecaafe1b82c54e1e96",
      "5a4785c29a5445d6bdd21f587b7f37d9",
      "93f5efba07a749b4bc02d4b438771de8",
      "fe782ea0beb5453bbc76daeaebbb0cbc",
      "902546e6a82a4b96ad3287b918d7ba34",
      "576234d9200243619e6ab1d7659ee30d",
      "f27c6224c20943efb23c39816cedb590",
      "b0640db8eb5a47afb5e4dba42d138bd6",
      "b9423773c5d94e7fa69f5b4c285cda4a",
      "5c637f68cabd4c108f01df0256bc3ec5",
      "cce5564fc89b4f7383943327fbd74f69",
      "ddbc9d2dc526431b9616d8f972c6850d",
      "e1b6fc401c8e413ba841adf15fa500ca",
      "3efc592efbf7444ba898996a7a4a1232",
      "ca6370c11aa24db2a849e77e3f706bef",
      "ab74fb77887b4812bdda214d881b2228",
      "8afe111d2ec0417dbe75d833c25d5a27",
      "f8530039eaad4758b74707ff8ab87d1d",
      "48f079a84f43424bb707eed30e412017",
      "99a7feba52b44134a48002d4ae0067a0",
      "870231392f324254a2d1bae912cde465",
      "361ef6de555a433aac3380e0ef0beb31",
      "608191c3e1364143846b3d795a2bf2ce",
      "f748910e2e0e42d5b02e6b564542ab86",
      "ea652fdc95c549f598aa44e92c22dae2",
      "ff4d280531164521adbc147f06aca660",
      "ee566735e48743539cfd0e2fdfc9c422",
      "0c13fece9df048e5b7ee80eca8aed8c6",
      "555db953de3a420bb9578735e8b5526d",
      "745c84bfd0fd4425ba7e64c2d75e0b26",
      "e483d63811eb4dd1817b885d0f9e0696",
      "f2da146dd44c4a1e8e296ba2fbcb7865",
      "c7c0045884fe4ce999e3de4ffef26fa1",
      "6f1afc1ba7364e0c8a768ee96dc6cd9b"
     ]
    },
    "id": "jwv8aL2oxM9a",
    "outputId": "98fc0627-0f88-483d-c760-650576caa44d"
   },
   "outputs": [
    {
     "ename": "AssertionError",
     "evalue": "EarlyStoppingCallback requires load_best_model_at_end = True",
     "output_type": "error",
     "traceback": [
      "\u001b[0;31m---------------------------------------------------------------------------\u001b[0m",
      "\u001b[0;31mAssertionError\u001b[0m                            Traceback (most recent call last)",
      "Cell \u001b[0;32mIn[217], line 1\u001b[0m\n\u001b[0;32m----> 1\u001b[0m trainer\u001b[38;5;241m.\u001b[39mtrain()\n",
      "File \u001b[0;32m/opt/miniconda/lib/python3.11/site-packages/transformers/trainer.py:1539\u001b[0m, in \u001b[0;36mTrainer.train\u001b[0;34m(self, resume_from_checkpoint, trial, ignore_keys_for_eval, **kwargs)\u001b[0m\n\u001b[1;32m   1537\u001b[0m         hf_hub_utils\u001b[38;5;241m.\u001b[39menable_progress_bars()\n\u001b[1;32m   1538\u001b[0m \u001b[38;5;28;01melse\u001b[39;00m:\n\u001b[0;32m-> 1539\u001b[0m     \u001b[38;5;28;01mreturn\u001b[39;00m inner_training_loop(\n\u001b[1;32m   1540\u001b[0m         args\u001b[38;5;241m=\u001b[39margs,\n\u001b[1;32m   1541\u001b[0m         resume_from_checkpoint\u001b[38;5;241m=\u001b[39mresume_from_checkpoint,\n\u001b[1;32m   1542\u001b[0m         trial\u001b[38;5;241m=\u001b[39mtrial,\n\u001b[1;32m   1543\u001b[0m         ignore_keys_for_eval\u001b[38;5;241m=\u001b[39mignore_keys_for_eval,\n\u001b[1;32m   1544\u001b[0m     )\n",
      "File \u001b[0;32m/opt/miniconda/lib/python3.11/site-packages/transformers/trainer.py:1787\u001b[0m, in \u001b[0;36mTrainer._inner_training_loop\u001b[0;34m(self, batch_size, args, resume_from_checkpoint, trial, ignore_keys_for_eval)\u001b[0m\n\u001b[1;32m   1784\u001b[0m \u001b[38;5;28mself\u001b[39m\u001b[38;5;241m.\u001b[39m_globalstep_last_logged \u001b[38;5;241m=\u001b[39m \u001b[38;5;28mself\u001b[39m\u001b[38;5;241m.\u001b[39mstate\u001b[38;5;241m.\u001b[39mglobal_step\n\u001b[1;32m   1785\u001b[0m model\u001b[38;5;241m.\u001b[39mzero_grad()\n\u001b[0;32m-> 1787\u001b[0m \u001b[38;5;28mself\u001b[39m\u001b[38;5;241m.\u001b[39mcontrol \u001b[38;5;241m=\u001b[39m \u001b[38;5;28mself\u001b[39m\u001b[38;5;241m.\u001b[39mcallback_handler\u001b[38;5;241m.\u001b[39mon_train_begin(args, \u001b[38;5;28mself\u001b[39m\u001b[38;5;241m.\u001b[39mstate, \u001b[38;5;28mself\u001b[39m\u001b[38;5;241m.\u001b[39mcontrol)\n\u001b[1;32m   1789\u001b[0m \u001b[38;5;66;03m# Skip the first epochs_trained epochs to get the random state of the dataloader at the right point.\u001b[39;00m\n\u001b[1;32m   1790\u001b[0m \u001b[38;5;28;01mif\u001b[39;00m \u001b[38;5;129;01mnot\u001b[39;00m args\u001b[38;5;241m.\u001b[39mignore_data_skip:\n",
      "File \u001b[0;32m/opt/miniconda/lib/python3.11/site-packages/transformers/trainer_callback.py:370\u001b[0m, in \u001b[0;36mCallbackHandler.on_train_begin\u001b[0;34m(self, args, state, control)\u001b[0m\n\u001b[1;32m    368\u001b[0m \u001b[38;5;28;01mdef\u001b[39;00m \u001b[38;5;21mon_train_begin\u001b[39m(\u001b[38;5;28mself\u001b[39m, args: TrainingArguments, state: TrainerState, control: TrainerControl):\n\u001b[1;32m    369\u001b[0m     control\u001b[38;5;241m.\u001b[39mshould_training_stop \u001b[38;5;241m=\u001b[39m \u001b[38;5;28;01mFalse\u001b[39;00m\n\u001b[0;32m--> 370\u001b[0m     \u001b[38;5;28;01mreturn\u001b[39;00m \u001b[38;5;28mself\u001b[39m\u001b[38;5;241m.\u001b[39mcall_event(\u001b[38;5;124m\"\u001b[39m\u001b[38;5;124mon_train_begin\u001b[39m\u001b[38;5;124m\"\u001b[39m, args, state, control)\n",
      "File \u001b[0;32m/opt/miniconda/lib/python3.11/site-packages/transformers/trainer_callback.py:414\u001b[0m, in \u001b[0;36mCallbackHandler.call_event\u001b[0;34m(self, event, args, state, control, **kwargs)\u001b[0m\n\u001b[1;32m    412\u001b[0m \u001b[38;5;28;01mdef\u001b[39;00m \u001b[38;5;21mcall_event\u001b[39m(\u001b[38;5;28mself\u001b[39m, event, args, state, control, \u001b[38;5;241m*\u001b[39m\u001b[38;5;241m*\u001b[39mkwargs):\n\u001b[1;32m    413\u001b[0m     \u001b[38;5;28;01mfor\u001b[39;00m callback \u001b[38;5;129;01min\u001b[39;00m \u001b[38;5;28mself\u001b[39m\u001b[38;5;241m.\u001b[39mcallbacks:\n\u001b[0;32m--> 414\u001b[0m         result \u001b[38;5;241m=\u001b[39m \u001b[38;5;28mgetattr\u001b[39m(callback, event)(\n\u001b[1;32m    415\u001b[0m             args,\n\u001b[1;32m    416\u001b[0m             state,\n\u001b[1;32m    417\u001b[0m             control,\n\u001b[1;32m    418\u001b[0m             model\u001b[38;5;241m=\u001b[39m\u001b[38;5;28mself\u001b[39m\u001b[38;5;241m.\u001b[39mmodel,\n\u001b[1;32m    419\u001b[0m             tokenizer\u001b[38;5;241m=\u001b[39m\u001b[38;5;28mself\u001b[39m\u001b[38;5;241m.\u001b[39mtokenizer,\n\u001b[1;32m    420\u001b[0m             optimizer\u001b[38;5;241m=\u001b[39m\u001b[38;5;28mself\u001b[39m\u001b[38;5;241m.\u001b[39moptimizer,\n\u001b[1;32m    421\u001b[0m             lr_scheduler\u001b[38;5;241m=\u001b[39m\u001b[38;5;28mself\u001b[39m\u001b[38;5;241m.\u001b[39mlr_scheduler,\n\u001b[1;32m    422\u001b[0m             train_dataloader\u001b[38;5;241m=\u001b[39m\u001b[38;5;28mself\u001b[39m\u001b[38;5;241m.\u001b[39mtrain_dataloader,\n\u001b[1;32m    423\u001b[0m             eval_dataloader\u001b[38;5;241m=\u001b[39m\u001b[38;5;28mself\u001b[39m\u001b[38;5;241m.\u001b[39meval_dataloader,\n\u001b[1;32m    424\u001b[0m             \u001b[38;5;241m*\u001b[39m\u001b[38;5;241m*\u001b[39mkwargs,\n\u001b[1;32m    425\u001b[0m         )\n\u001b[1;32m    426\u001b[0m         \u001b[38;5;66;03m# A Callback can skip the return of `control` if it doesn't change it.\u001b[39;00m\n\u001b[1;32m    427\u001b[0m         \u001b[38;5;28;01mif\u001b[39;00m result \u001b[38;5;129;01mis\u001b[39;00m \u001b[38;5;129;01mnot\u001b[39;00m \u001b[38;5;28;01mNone\u001b[39;00m:\n",
      "File \u001b[0;32m/opt/miniconda/lib/python3.11/site-packages/transformers/trainer_callback.py:578\u001b[0m, in \u001b[0;36mEarlyStoppingCallback.on_train_begin\u001b[0;34m(self, args, state, control, **kwargs)\u001b[0m\n\u001b[1;32m    577\u001b[0m \u001b[38;5;28;01mdef\u001b[39;00m \u001b[38;5;21mon_train_begin\u001b[39m(\u001b[38;5;28mself\u001b[39m, args, state, control, \u001b[38;5;241m*\u001b[39m\u001b[38;5;241m*\u001b[39mkwargs):\n\u001b[0;32m--> 578\u001b[0m     \u001b[38;5;28;01massert\u001b[39;00m args\u001b[38;5;241m.\u001b[39mload_best_model_at_end, \u001b[38;5;124m\"\u001b[39m\u001b[38;5;124mEarlyStoppingCallback requires load_best_model_at_end = True\u001b[39m\u001b[38;5;124m\"\u001b[39m\n\u001b[1;32m    579\u001b[0m     \u001b[38;5;28;01massert\u001b[39;00m (\n\u001b[1;32m    580\u001b[0m         args\u001b[38;5;241m.\u001b[39mmetric_for_best_model \u001b[38;5;129;01mis\u001b[39;00m \u001b[38;5;129;01mnot\u001b[39;00m \u001b[38;5;28;01mNone\u001b[39;00m\n\u001b[1;32m    581\u001b[0m     ), \u001b[38;5;124m\"\u001b[39m\u001b[38;5;124mEarlyStoppingCallback requires metric_for_best_model is defined\u001b[39m\u001b[38;5;124m\"\u001b[39m\n\u001b[1;32m    582\u001b[0m     \u001b[38;5;28;01massert\u001b[39;00m (\n\u001b[1;32m    583\u001b[0m         args\u001b[38;5;241m.\u001b[39mevaluation_strategy \u001b[38;5;241m!=\u001b[39m IntervalStrategy\u001b[38;5;241m.\u001b[39mNO\n\u001b[1;32m    584\u001b[0m     ), \u001b[38;5;124m\"\u001b[39m\u001b[38;5;124mEarlyStoppingCallback requires IntervalStrategy of steps or epoch\u001b[39m\u001b[38;5;124m\"\u001b[39m\n",
      "\u001b[0;31mAssertionError\u001b[0m: EarlyStoppingCallback requires load_best_model_at_end = True"
     ]
    }
   ],
   "source": [
    "trainer.train()"
   ]
  },
  {
   "cell_type": "code",
   "execution_count": 59,
   "metadata": {
    "colab": {
     "base_uri": "https://localhost:8080/",
     "height": 193
    },
    "id": "ueMmTxw41Ppl",
    "outputId": "7ed9728f-71f8-438c-bb82-f8b06baac9a2"
   },
   "outputs": [
    {
     "data": {
      "text/html": [
       "\n",
       "    <div>\n",
       "      \n",
       "      <progress value='53' max='53' style='width:300px; height:20px; vertical-align: middle;'></progress>\n",
       "      [53/53 00:13]\n",
       "    </div>\n",
       "    "
      ],
      "text/plain": [
       "<IPython.core.display.HTML object>"
      ]
     },
     "metadata": {},
     "output_type": "display_data"
    },
    {
     "data": {
      "text/plain": [
       "{'eval_loss': 0.5854920148849487,\n",
       " 'eval_precision': 0.8868186633457501,\n",
       " 'eval_recall': 0.8865248226950354,\n",
       " 'eval_f1': 0.8857048967267599,\n",
       " 'eval_accuracy': 0.8865248226950354,\n",
       " 'eval_runtime': 15.3671,\n",
       " 'eval_samples_per_second': 27.526,\n",
       " 'eval_steps_per_second': 3.449,\n",
       " 'epoch': 10.0}"
      ]
     },
     "execution_count": 59,
     "metadata": {},
     "output_type": "execute_result"
    }
   ],
   "source": [
    "trainer.evaluate(test_dataloader)"
   ]
  },
  {
   "cell_type": "code",
   "execution_count": 59,
   "metadata": {
    "id": "Z1KzHbtGNhm0"
   },
   "outputs": [],
   "source": [
    "pt_save_directory = \"./pt_save_pretrained\"\n",
    "tokenizer.save_pretrained(pt_save_directory)\n",
    "model.save_pretrained(pt_save_directory)\n"
   ]
  },
  {
   "cell_type": "code",
   "execution_count": 60,
   "metadata": {
    "id": "44lnnFistW3J"
   },
   "outputs": [],
   "source": [
    "\n",
    "pt_model = AutoModelForSequenceClassification.from_pretrained(\"rpt_save_pretrained\")"
   ]
  },
  {
   "cell_type": "code",
   "execution_count": 62,
   "metadata": {
    "colab": {
     "base_uri": "https://localhost:8080/"
    },
    "id": "d0Jf5vtitoiI",
    "outputId": "fcb4075a-abf3-46e6-fbd2-b0c1c69a97e6"
   },
   "outputs": [
    {
     "data": {
      "text/plain": [
       "[{'label': 'LABEL_3', 'score': 0.15869218111038208}]"
      ]
     },
     "execution_count": 62,
     "metadata": {},
     "output_type": "execute_result"
    }
   ],
   "source": [
    "from transformers import pipeline\n",
    "\n",
    "classifier = pipeline('text-classification', model=\"/content/transformer/pt_save_pretrained\")\n",
    "classifier(\"የቱርክ እግር ኳስ ፌዴሬሽን ሰኞ ዕለት አንድ የእግር ኳስ ክለብ ኃላፊ ዳኛ መመታቸውን ተከትሎ የከፍተኛው ሊግ እግር ኳስ ሙሉ በሙሉ እንዲቋረጥ አዟል። አንካራጉጁ የተባለው ክለብ ፕሬዝደንት ፋሩክ ኮቻ የመሐል ዳኛው ሐሊል መሙት ሜለርን በቡጢ መትተዋል። ፕሬዝደንቱ ይህን ድርጊት የፈፀሙት ቡድናቸው 1-0 እየመራ በ97ኛው ደቂቃ በተቀናቃኙ ክለብ ሪዜስፖር አንድ ጎል ከተቆጠረበት በኋላ ነው።\")"
   ]
  },
  {
   "cell_type": "markdown",
   "metadata": {
    "id": "ZxacSQllog4C"
   },
   "source": [
    "# New Section"
   ]
  }
 ],
 "metadata": {
  "accelerator": "GPU",
  "colab": {
   "authorship_tag": "ABX9TyMQyoTCu0+Q/i30tj1O/Frb",
   "gpuType": "T4",
   "include_colab_link": true,
   "provenance": []
  },
  "kernelspec": {
   "display_name": "Python 3 (ipykernel)",
   "language": "python",
   "name": "python3"
  },
  "language_info": {
   "codemirror_mode": {
    "name": "ipython",
    "version": 3
   },
   "file_extension": ".py",
   "mimetype": "text/x-python",
   "name": "python",
   "nbconvert_exporter": "python",
   "pygments_lexer": "ipython3",
   "version": "3.11.5"
  },
  "widgets": {
   "application/vnd.jupyter.widget-state+json": {
    "052abed7b3e0438881e8d679befe1d82": {
     "model_module": "@jupyter-widgets/base",
     "model_module_version": "1.2.0",
     "model_name": "LayoutModel",
     "state": {
      "_model_module": "@jupyter-widgets/base",
      "_model_module_version": "1.2.0",
      "_model_name": "LayoutModel",
      "_view_count": null,
      "_view_module": "@jupyter-widgets/base",
      "_view_module_version": "1.2.0",
      "_view_name": "LayoutView",
      "align_content": null,
      "align_items": null,
      "align_self": null,
      "border": null,
      "bottom": null,
      "display": null,
      "flex": null,
      "flex_flow": null,
      "grid_area": null,
      "grid_auto_columns": null,
      "grid_auto_flow": null,
      "grid_auto_rows": null,
      "grid_column": null,
      "grid_gap": null,
      "grid_row": null,
      "grid_template_areas": null,
      "grid_template_columns": null,
      "grid_template_rows": null,
      "height": null,
      "justify_content": null,
      "justify_items": null,
      "left": null,
      "margin": null,
      "max_height": null,
      "max_width": null,
      "min_height": null,
      "min_width": null,
      "object_fit": null,
      "object_position": null,
      "order": null,
      "overflow": null,
      "overflow_x": null,
      "overflow_y": null,
      "padding": null,
      "right": null,
      "top": null,
      "visibility": null,
      "width": null
     }
    },
    "05852123893e4ad1838d2da6a033bc9b": {
     "model_module": "@jupyter-widgets/controls",
     "model_module_version": "1.5.0",
     "model_name": "DescriptionStyleModel",
     "state": {
      "_model_module": "@jupyter-widgets/controls",
      "_model_module_version": "1.5.0",
      "_model_name": "DescriptionStyleModel",
      "_view_count": null,
      "_view_module": "@jupyter-widgets/base",
      "_view_module_version": "1.2.0",
      "_view_name": "StyleView",
      "description_width": ""
     }
    },
    "07ee787087b1450293587e4f7d5afa9e": {
     "model_module": "@jupyter-widgets/controls",
     "model_module_version": "1.5.0",
     "model_name": "ProgressStyleModel",
     "state": {
      "_model_module": "@jupyter-widgets/controls",
      "_model_module_version": "1.5.0",
      "_model_name": "ProgressStyleModel",
      "_view_count": null,
      "_view_module": "@jupyter-widgets/base",
      "_view_module_version": "1.2.0",
      "_view_name": "StyleView",
      "bar_color": null,
      "description_width": ""
     }
    },
    "092312cf06be4deaa899d9bf6a484ffe": {
     "model_module": "@jupyter-widgets/controls",
     "model_module_version": "1.5.0",
     "model_name": "FloatProgressModel",
     "state": {
      "_dom_classes": [],
      "_model_module": "@jupyter-widgets/controls",
      "_model_module_version": "1.5.0",
      "_model_name": "FloatProgressModel",
      "_view_count": null,
      "_view_module": "@jupyter-widgets/controls",
      "_view_module_version": "1.5.0",
      "_view_name": "ProgressView",
      "bar_style": "success",
      "description": "",
      "description_tooltip": null,
      "layout": "IPY_MODEL_e243a9f26dce44df844abca0b57badd0",
      "max": 2575,
      "min": 0,
      "orientation": "horizontal",
      "style": "IPY_MODEL_64e4ef62b9fd46718340952087feffb9",
      "value": 2575
     }
    },
    "0c13fece9df048e5b7ee80eca8aed8c6": {
     "model_module": "@jupyter-widgets/base",
     "model_module_version": "1.2.0",
     "model_name": "LayoutModel",
     "state": {
      "_model_module": "@jupyter-widgets/base",
      "_model_module_version": "1.2.0",
      "_model_name": "LayoutModel",
      "_view_count": null,
      "_view_module": "@jupyter-widgets/base",
      "_view_module_version": "1.2.0",
      "_view_name": "LayoutView",
      "align_content": null,
      "align_items": null,
      "align_self": null,
      "border": null,
      "bottom": null,
      "display": null,
      "flex": null,
      "flex_flow": null,
      "grid_area": null,
      "grid_auto_columns": null,
      "grid_auto_flow": null,
      "grid_auto_rows": null,
      "grid_column": null,
      "grid_gap": null,
      "grid_row": null,
      "grid_template_areas": null,
      "grid_template_columns": null,
      "grid_template_rows": null,
      "height": null,
      "justify_content": null,
      "justify_items": null,
      "left": null,
      "margin": null,
      "max_height": null,
      "max_width": null,
      "min_height": null,
      "min_width": null,
      "object_fit": null,
      "object_position": null,
      "order": null,
      "overflow": null,
      "overflow_x": null,
      "overflow_y": null,
      "padding": null,
      "right": null,
      "top": null,
      "visibility": null,
      "width": null
     }
    },
    "11d9b164e2a34cf19503987f29feba4e": {
     "model_module": "@jupyter-widgets/controls",
     "model_module_version": "1.5.0",
     "model_name": "HBoxModel",
     "state": {
      "_dom_classes": [],
      "_model_module": "@jupyter-widgets/controls",
      "_model_module_version": "1.5.0",
      "_model_name": "HBoxModel",
      "_view_count": null,
      "_view_module": "@jupyter-widgets/controls",
      "_view_module_version": "1.5.0",
      "_view_name": "HBoxView",
      "box_style": "",
      "children": [
       "IPY_MODEL_b59560b20efc4b8aa195a0a20e862afb",
       "IPY_MODEL_e643925ea2c445bc919f523afbce7eb1",
       "IPY_MODEL_4846efe91eaa4db785982effed7decd2"
      ],
      "layout": "IPY_MODEL_b5d0cad0452e45078ffe3474f71cedb8"
     }
    },
    "144e7e407fe94f62baba32721462a271": {
     "model_module": "@jupyter-widgets/base",
     "model_module_version": "1.2.0",
     "model_name": "LayoutModel",
     "state": {
      "_model_module": "@jupyter-widgets/base",
      "_model_module_version": "1.2.0",
      "_model_name": "LayoutModel",
      "_view_count": null,
      "_view_module": "@jupyter-widgets/base",
      "_view_module_version": "1.2.0",
      "_view_name": "LayoutView",
      "align_content": null,
      "align_items": null,
      "align_self": null,
      "border": null,
      "bottom": null,
      "display": null,
      "flex": null,
      "flex_flow": null,
      "grid_area": null,
      "grid_auto_columns": null,
      "grid_auto_flow": null,
      "grid_auto_rows": null,
      "grid_column": null,
      "grid_gap": null,
      "grid_row": null,
      "grid_template_areas": null,
      "grid_template_columns": null,
      "grid_template_rows": null,
      "height": null,
      "justify_content": null,
      "justify_items": null,
      "left": null,
      "margin": null,
      "max_height": null,
      "max_width": null,
      "min_height": null,
      "min_width": null,
      "object_fit": null,
      "object_position": null,
      "order": null,
      "overflow": null,
      "overflow_x": null,
      "overflow_y": null,
      "padding": null,
      "right": null,
      "top": null,
      "visibility": null,
      "width": null
     }
    },
    "171d121dc6f547cdb3f2a198b0ffbcac": {
     "model_module": "@jupyter-widgets/controls",
     "model_module_version": "1.5.0",
     "model_name": "DescriptionStyleModel",
     "state": {
      "_model_module": "@jupyter-widgets/controls",
      "_model_module_version": "1.5.0",
      "_model_name": "DescriptionStyleModel",
      "_view_count": null,
      "_view_module": "@jupyter-widgets/base",
      "_view_module_version": "1.2.0",
      "_view_name": "StyleView",
      "description_width": ""
     }
    },
    "19d38a32bfce49e399f6edb732db7bce": {
     "model_module": "@jupyter-widgets/controls",
     "model_module_version": "1.5.0",
     "model_name": "HBoxModel",
     "state": {
      "_dom_classes": [],
      "_model_module": "@jupyter-widgets/controls",
      "_model_module_version": "1.5.0",
      "_model_name": "HBoxModel",
      "_view_count": null,
      "_view_module": "@jupyter-widgets/controls",
      "_view_module_version": "1.5.0",
      "_view_name": "HBoxView",
      "box_style": "",
      "children": [
       "IPY_MODEL_52ff44985c8c41b7acf6ce266e6234b6",
       "IPY_MODEL_6830713ccd8b45639496c535419669f8",
       "IPY_MODEL_aeb13ac0f9f0436ea0e2db0a1ad6a50a"
      ],
      "layout": "IPY_MODEL_1d86b16dd7ad42a2a0b1a17176d27e5a"
     }
    },
    "1d86b16dd7ad42a2a0b1a17176d27e5a": {
     "model_module": "@jupyter-widgets/base",
     "model_module_version": "1.2.0",
     "model_name": "LayoutModel",
     "state": {
      "_model_module": "@jupyter-widgets/base",
      "_model_module_version": "1.2.0",
      "_model_name": "LayoutModel",
      "_view_count": null,
      "_view_module": "@jupyter-widgets/base",
      "_view_module_version": "1.2.0",
      "_view_name": "LayoutView",
      "align_content": null,
      "align_items": null,
      "align_self": null,
      "border": null,
      "bottom": null,
      "display": null,
      "flex": null,
      "flex_flow": null,
      "grid_area": null,
      "grid_auto_columns": null,
      "grid_auto_flow": null,
      "grid_auto_rows": null,
      "grid_column": null,
      "grid_gap": null,
      "grid_row": null,
      "grid_template_areas": null,
      "grid_template_columns": null,
      "grid_template_rows": null,
      "height": null,
      "justify_content": null,
      "justify_items": null,
      "left": null,
      "margin": null,
      "max_height": null,
      "max_width": null,
      "min_height": null,
      "min_width": null,
      "object_fit": null,
      "object_position": null,
      "order": null,
      "overflow": null,
      "overflow_x": null,
      "overflow_y": null,
      "padding": null,
      "right": null,
      "top": null,
      "visibility": null,
      "width": null
     }
    },
    "1fa0139b04bf4aecaafe1b82c54e1e96": {
     "model_module": "@jupyter-widgets/controls",
     "model_module_version": "1.5.0",
     "model_name": "DescriptionStyleModel",
     "state": {
      "_model_module": "@jupyter-widgets/controls",
      "_model_module_version": "1.5.0",
      "_model_name": "DescriptionStyleModel",
      "_view_count": null,
      "_view_module": "@jupyter-widgets/base",
      "_view_module_version": "1.2.0",
      "_view_name": "StyleView",
      "description_width": ""
     }
    },
    "22991a23b19b43ecb7a474a7feae13f9": {
     "model_module": "@jupyter-widgets/base",
     "model_module_version": "1.2.0",
     "model_name": "LayoutModel",
     "state": {
      "_model_module": "@jupyter-widgets/base",
      "_model_module_version": "1.2.0",
      "_model_name": "LayoutModel",
      "_view_count": null,
      "_view_module": "@jupyter-widgets/base",
      "_view_module_version": "1.2.0",
      "_view_name": "LayoutView",
      "align_content": null,
      "align_items": null,
      "align_self": null,
      "border": null,
      "bottom": null,
      "display": null,
      "flex": null,
      "flex_flow": null,
      "grid_area": null,
      "grid_auto_columns": null,
      "grid_auto_flow": null,
      "grid_auto_rows": null,
      "grid_column": null,
      "grid_gap": null,
      "grid_row": null,
      "grid_template_areas": null,
      "grid_template_columns": null,
      "grid_template_rows": null,
      "height": null,
      "justify_content": null,
      "justify_items": null,
      "left": null,
      "margin": null,
      "max_height": null,
      "max_width": null,
      "min_height": null,
      "min_width": null,
      "object_fit": null,
      "object_position": null,
      "order": null,
      "overflow": null,
      "overflow_x": null,
      "overflow_y": null,
      "padding": null,
      "right": null,
      "top": null,
      "visibility": null,
      "width": null
     }
    },
    "2aec810880bb4fa29691b584eff0c2df": {
     "model_module": "@jupyter-widgets/base",
     "model_module_version": "1.2.0",
     "model_name": "LayoutModel",
     "state": {
      "_model_module": "@jupyter-widgets/base",
      "_model_module_version": "1.2.0",
      "_model_name": "LayoutModel",
      "_view_count": null,
      "_view_module": "@jupyter-widgets/base",
      "_view_module_version": "1.2.0",
      "_view_name": "LayoutView",
      "align_content": null,
      "align_items": null,
      "align_self": null,
      "border": null,
      "bottom": null,
      "display": null,
      "flex": null,
      "flex_flow": null,
      "grid_area": null,
      "grid_auto_columns": null,
      "grid_auto_flow": null,
      "grid_auto_rows": null,
      "grid_column": null,
      "grid_gap": null,
      "grid_row": null,
      "grid_template_areas": null,
      "grid_template_columns": null,
      "grid_template_rows": null,
      "height": null,
      "justify_content": null,
      "justify_items": null,
      "left": null,
      "margin": null,
      "max_height": null,
      "max_width": null,
      "min_height": null,
      "min_width": null,
      "object_fit": null,
      "object_position": null,
      "order": null,
      "overflow": null,
      "overflow_x": null,
      "overflow_y": null,
      "padding": null,
      "right": null,
      "top": null,
      "visibility": null,
      "width": null
     }
    },
    "2bcef538a4df4b7dbea62c087783f74e": {
     "model_module": "@jupyter-widgets/base",
     "model_module_version": "1.2.0",
     "model_name": "LayoutModel",
     "state": {
      "_model_module": "@jupyter-widgets/base",
      "_model_module_version": "1.2.0",
      "_model_name": "LayoutModel",
      "_view_count": null,
      "_view_module": "@jupyter-widgets/base",
      "_view_module_version": "1.2.0",
      "_view_name": "LayoutView",
      "align_content": null,
      "align_items": null,
      "align_self": null,
      "border": null,
      "bottom": null,
      "display": null,
      "flex": null,
      "flex_flow": null,
      "grid_area": null,
      "grid_auto_columns": null,
      "grid_auto_flow": null,
      "grid_auto_rows": null,
      "grid_column": null,
      "grid_gap": null,
      "grid_row": null,
      "grid_template_areas": null,
      "grid_template_columns": null,
      "grid_template_rows": null,
      "height": null,
      "justify_content": null,
      "justify_items": null,
      "left": null,
      "margin": null,
      "max_height": null,
      "max_width": null,
      "min_height": null,
      "min_width": null,
      "object_fit": null,
      "object_position": null,
      "order": null,
      "overflow": null,
      "overflow_x": null,
      "overflow_y": null,
      "padding": null,
      "right": null,
      "top": null,
      "visibility": null,
      "width": null
     }
    },
    "357d7e8bf0df4902a1fb668187b536d3": {
     "model_module": "@jupyter-widgets/base",
     "model_module_version": "1.2.0",
     "model_name": "LayoutModel",
     "state": {
      "_model_module": "@jupyter-widgets/base",
      "_model_module_version": "1.2.0",
      "_model_name": "LayoutModel",
      "_view_count": null,
      "_view_module": "@jupyter-widgets/base",
      "_view_module_version": "1.2.0",
      "_view_name": "LayoutView",
      "align_content": null,
      "align_items": null,
      "align_self": null,
      "border": null,
      "bottom": null,
      "display": null,
      "flex": null,
      "flex_flow": null,
      "grid_area": null,
      "grid_auto_columns": null,
      "grid_auto_flow": null,
      "grid_auto_rows": null,
      "grid_column": null,
      "grid_gap": null,
      "grid_row": null,
      "grid_template_areas": null,
      "grid_template_columns": null,
      "grid_template_rows": null,
      "height": null,
      "justify_content": null,
      "justify_items": null,
      "left": null,
      "margin": null,
      "max_height": null,
      "max_width": null,
      "min_height": null,
      "min_width": null,
      "object_fit": null,
      "object_position": null,
      "order": null,
      "overflow": null,
      "overflow_x": null,
      "overflow_y": null,
      "padding": null,
      "right": null,
      "top": null,
      "visibility": null,
      "width": null
     }
    },
    "361ef6de555a433aac3380e0ef0beb31": {
     "model_module": "@jupyter-widgets/base",
     "model_module_version": "1.2.0",
     "model_name": "LayoutModel",
     "state": {
      "_model_module": "@jupyter-widgets/base",
      "_model_module_version": "1.2.0",
      "_model_name": "LayoutModel",
      "_view_count": null,
      "_view_module": "@jupyter-widgets/base",
      "_view_module_version": "1.2.0",
      "_view_name": "LayoutView",
      "align_content": null,
      "align_items": null,
      "align_self": null,
      "border": null,
      "bottom": null,
      "display": null,
      "flex": null,
      "flex_flow": null,
      "grid_area": null,
      "grid_auto_columns": null,
      "grid_auto_flow": null,
      "grid_auto_rows": null,
      "grid_column": null,
      "grid_gap": null,
      "grid_row": null,
      "grid_template_areas": null,
      "grid_template_columns": null,
      "grid_template_rows": null,
      "height": null,
      "justify_content": null,
      "justify_items": null,
      "left": null,
      "margin": null,
      "max_height": null,
      "max_width": null,
      "min_height": null,
      "min_width": null,
      "object_fit": null,
      "object_position": null,
      "order": null,
      "overflow": null,
      "overflow_x": null,
      "overflow_y": null,
      "padding": null,
      "right": null,
      "top": null,
      "visibility": null,
      "width": null
     }
    },
    "3efc592efbf7444ba898996a7a4a1232": {
     "model_module": "@jupyter-widgets/controls",
     "model_module_version": "1.5.0",
     "model_name": "HTMLModel",
     "state": {
      "_dom_classes": [],
      "_model_module": "@jupyter-widgets/controls",
      "_model_module_version": "1.5.0",
      "_model_name": "HTMLModel",
      "_view_count": null,
      "_view_module": "@jupyter-widgets/controls",
      "_view_module_version": "1.5.0",
      "_view_name": "HTMLView",
      "description": "",
      "description_tooltip": null,
      "layout": "IPY_MODEL_f8530039eaad4758b74707ff8ab87d1d",
      "placeholder": "​",
      "style": "IPY_MODEL_48f079a84f43424bb707eed30e412017",
      "value": "Downloading builder script: "
     }
    },
    "4506e2a3b6bc4bc691681190315cc6c3": {
     "model_module": "@jupyter-widgets/controls",
     "model_module_version": "1.5.0",
     "model_name": "DescriptionStyleModel",
     "state": {
      "_model_module": "@jupyter-widgets/controls",
      "_model_module_version": "1.5.0",
      "_model_name": "DescriptionStyleModel",
      "_view_count": null,
      "_view_module": "@jupyter-widgets/base",
      "_view_module_version": "1.2.0",
      "_view_name": "StyleView",
      "description_width": ""
     }
    },
    "4695f3c4d36f4257acb1f611583d8492": {
     "model_module": "@jupyter-widgets/controls",
     "model_module_version": "1.5.0",
     "model_name": "DescriptionStyleModel",
     "state": {
      "_model_module": "@jupyter-widgets/controls",
      "_model_module_version": "1.5.0",
      "_model_name": "DescriptionStyleModel",
      "_view_count": null,
      "_view_module": "@jupyter-widgets/base",
      "_view_module_version": "1.2.0",
      "_view_name": "StyleView",
      "description_width": ""
     }
    },
    "4846efe91eaa4db785982effed7decd2": {
     "model_module": "@jupyter-widgets/controls",
     "model_module_version": "1.5.0",
     "model_name": "HTMLModel",
     "state": {
      "_dom_classes": [],
      "_model_module": "@jupyter-widgets/controls",
      "_model_module_version": "1.5.0",
      "_model_name": "HTMLModel",
      "_view_count": null,
      "_view_module": "@jupyter-widgets/controls",
      "_view_module_version": "1.5.0",
      "_view_name": "HTMLView",
      "description": "",
      "description_tooltip": null,
      "layout": "IPY_MODEL_e32a0920d72c428cacf53a7ba46ef045",
      "placeholder": "​",
      "style": "IPY_MODEL_980ea6d96b104712a7dfe12999b79d53",
      "value": " 175/175 [00:00&lt;00:00, 498.72 examples/s]"
     }
    },
    "48f079a84f43424bb707eed30e412017": {
     "model_module": "@jupyter-widgets/controls",
     "model_module_version": "1.5.0",
     "model_name": "DescriptionStyleModel",
     "state": {
      "_model_module": "@jupyter-widgets/controls",
      "_model_module_version": "1.5.0",
      "_model_name": "DescriptionStyleModel",
      "_view_count": null,
      "_view_module": "@jupyter-widgets/base",
      "_view_module_version": "1.2.0",
      "_view_name": "StyleView",
      "description_width": ""
     }
    },
    "506a07e89e2447ab8757482b8269b86f": {
     "model_module": "@jupyter-widgets/base",
     "model_module_version": "1.2.0",
     "model_name": "LayoutModel",
     "state": {
      "_model_module": "@jupyter-widgets/base",
      "_model_module_version": "1.2.0",
      "_model_name": "LayoutModel",
      "_view_count": null,
      "_view_module": "@jupyter-widgets/base",
      "_view_module_version": "1.2.0",
      "_view_name": "LayoutView",
      "align_content": null,
      "align_items": null,
      "align_self": null,
      "border": null,
      "bottom": null,
      "display": null,
      "flex": null,
      "flex_flow": null,
      "grid_area": null,
      "grid_auto_columns": null,
      "grid_auto_flow": null,
      "grid_auto_rows": null,
      "grid_column": null,
      "grid_gap": null,
      "grid_row": null,
      "grid_template_areas": null,
      "grid_template_columns": null,
      "grid_template_rows": null,
      "height": null,
      "justify_content": null,
      "justify_items": null,
      "left": null,
      "margin": null,
      "max_height": null,
      "max_width": null,
      "min_height": null,
      "min_width": null,
      "object_fit": null,
      "object_position": null,
      "order": null,
      "overflow": null,
      "overflow_x": null,
      "overflow_y": null,
      "padding": null,
      "right": null,
      "top": null,
      "visibility": null,
      "width": null
     }
    },
    "52ff44985c8c41b7acf6ce266e6234b6": {
     "model_module": "@jupyter-widgets/controls",
     "model_module_version": "1.5.0",
     "model_name": "HTMLModel",
     "state": {
      "_dom_classes": [],
      "_model_module": "@jupyter-widgets/controls",
      "_model_module_version": "1.5.0",
      "_model_name": "HTMLModel",
      "_view_count": null,
      "_view_module": "@jupyter-widgets/controls",
      "_view_module_version": "1.5.0",
      "_view_name": "HTMLView",
      "description": "",
      "description_tooltip": null,
      "layout": "IPY_MODEL_052abed7b3e0438881e8d679befe1d82",
      "placeholder": "​",
      "style": "IPY_MODEL_5f31752a0f3f45de8c5107d3a2a4e7f7",
      "value": "Map: 100%"
     }
    },
    "555db953de3a420bb9578735e8b5526d": {
     "model_module": "@jupyter-widgets/base",
     "model_module_version": "1.2.0",
     "model_name": "LayoutModel",
     "state": {
      "_model_module": "@jupyter-widgets/base",
      "_model_module_version": "1.2.0",
      "_model_name": "LayoutModel",
      "_view_count": null,
      "_view_module": "@jupyter-widgets/base",
      "_view_module_version": "1.2.0",
      "_view_name": "LayoutView",
      "align_content": null,
      "align_items": null,
      "align_self": null,
      "border": null,
      "bottom": null,
      "display": null,
      "flex": null,
      "flex_flow": null,
      "grid_area": null,
      "grid_auto_columns": null,
      "grid_auto_flow": null,
      "grid_auto_rows": null,
      "grid_column": null,
      "grid_gap": null,
      "grid_row": null,
      "grid_template_areas": null,
      "grid_template_columns": null,
      "grid_template_rows": null,
      "height": null,
      "justify_content": null,
      "justify_items": null,
      "left": null,
      "margin": null,
      "max_height": null,
      "max_width": null,
      "min_height": null,
      "min_width": null,
      "object_fit": null,
      "object_position": null,
      "order": null,
      "overflow": null,
      "overflow_x": null,
      "overflow_y": null,
      "padding": null,
      "right": null,
      "top": null,
      "visibility": null,
      "width": null
     }
    },
    "56a9834ffe654976969a5b92f63c4001": {
     "model_module": "@jupyter-widgets/controls",
     "model_module_version": "1.5.0",
     "model_name": "DescriptionStyleModel",
     "state": {
      "_model_module": "@jupyter-widgets/controls",
      "_model_module_version": "1.5.0",
      "_model_name": "DescriptionStyleModel",
      "_view_count": null,
      "_view_module": "@jupyter-widgets/base",
      "_view_module_version": "1.2.0",
      "_view_name": "StyleView",
      "description_width": ""
     }
    },
    "56f6e333d22243af8cf44fa3e0464c52": {
     "model_module": "@jupyter-widgets/base",
     "model_module_version": "1.2.0",
     "model_name": "LayoutModel",
     "state": {
      "_model_module": "@jupyter-widgets/base",
      "_model_module_version": "1.2.0",
      "_model_name": "LayoutModel",
      "_view_count": null,
      "_view_module": "@jupyter-widgets/base",
      "_view_module_version": "1.2.0",
      "_view_name": "LayoutView",
      "align_content": null,
      "align_items": null,
      "align_self": null,
      "border": null,
      "bottom": null,
      "display": null,
      "flex": null,
      "flex_flow": null,
      "grid_area": null,
      "grid_auto_columns": null,
      "grid_auto_flow": null,
      "grid_auto_rows": null,
      "grid_column": null,
      "grid_gap": null,
      "grid_row": null,
      "grid_template_areas": null,
      "grid_template_columns": null,
      "grid_template_rows": null,
      "height": null,
      "justify_content": null,
      "justify_items": null,
      "left": null,
      "margin": null,
      "max_height": null,
      "max_width": null,
      "min_height": null,
      "min_width": null,
      "object_fit": null,
      "object_position": null,
      "order": null,
      "overflow": null,
      "overflow_x": null,
      "overflow_y": null,
      "padding": null,
      "right": null,
      "top": null,
      "visibility": null,
      "width": null
     }
    },
    "576234d9200243619e6ab1d7659ee30d": {
     "model_module": "@jupyter-widgets/base",
     "model_module_version": "1.2.0",
     "model_name": "LayoutModel",
     "state": {
      "_model_module": "@jupyter-widgets/base",
      "_model_module_version": "1.2.0",
      "_model_name": "LayoutModel",
      "_view_count": null,
      "_view_module": "@jupyter-widgets/base",
      "_view_module_version": "1.2.0",
      "_view_name": "LayoutView",
      "align_content": null,
      "align_items": null,
      "align_self": null,
      "border": null,
      "bottom": null,
      "display": null,
      "flex": null,
      "flex_flow": null,
      "grid_area": null,
      "grid_auto_columns": null,
      "grid_auto_flow": null,
      "grid_auto_rows": null,
      "grid_column": null,
      "grid_gap": null,
      "grid_row": null,
      "grid_template_areas": null,
      "grid_template_columns": null,
      "grid_template_rows": null,
      "height": null,
      "justify_content": null,
      "justify_items": null,
      "left": null,
      "margin": null,
      "max_height": null,
      "max_width": null,
      "min_height": null,
      "min_width": null,
      "object_fit": null,
      "object_position": null,
      "order": null,
      "overflow": null,
      "overflow_x": null,
      "overflow_y": null,
      "padding": null,
      "right": null,
      "top": null,
      "visibility": null,
      "width": null
     }
    },
    "5a4785c29a5445d6bdd21f587b7f37d9": {
     "model_module": "@jupyter-widgets/controls",
     "model_module_version": "1.5.0",
     "model_name": "HBoxModel",
     "state": {
      "_dom_classes": [],
      "_model_module": "@jupyter-widgets/controls",
      "_model_module_version": "1.5.0",
      "_model_name": "HBoxModel",
      "_view_count": null,
      "_view_module": "@jupyter-widgets/controls",
      "_view_module_version": "1.5.0",
      "_view_name": "HBoxView",
      "box_style": "",
      "children": [
       "IPY_MODEL_93f5efba07a749b4bc02d4b438771de8",
       "IPY_MODEL_fe782ea0beb5453bbc76daeaebbb0cbc",
       "IPY_MODEL_902546e6a82a4b96ad3287b918d7ba34"
      ],
      "layout": "IPY_MODEL_576234d9200243619e6ab1d7659ee30d"
     }
    },
    "5c637f68cabd4c108f01df0256bc3ec5": {
     "model_module": "@jupyter-widgets/controls",
     "model_module_version": "1.5.0",
     "model_name": "ProgressStyleModel",
     "state": {
      "_model_module": "@jupyter-widgets/controls",
      "_model_module_version": "1.5.0",
      "_model_name": "ProgressStyleModel",
      "_view_count": null,
      "_view_module": "@jupyter-widgets/base",
      "_view_module_version": "1.2.0",
      "_view_name": "StyleView",
      "bar_color": null,
      "description_width": ""
     }
    },
    "5f31752a0f3f45de8c5107d3a2a4e7f7": {
     "model_module": "@jupyter-widgets/controls",
     "model_module_version": "1.5.0",
     "model_name": "DescriptionStyleModel",
     "state": {
      "_model_module": "@jupyter-widgets/controls",
      "_model_module_version": "1.5.0",
      "_model_name": "DescriptionStyleModel",
      "_view_count": null,
      "_view_module": "@jupyter-widgets/base",
      "_view_module_version": "1.2.0",
      "_view_name": "StyleView",
      "description_width": ""
     }
    },
    "608191c3e1364143846b3d795a2bf2ce": {
     "model_module": "@jupyter-widgets/controls",
     "model_module_version": "1.5.0",
     "model_name": "DescriptionStyleModel",
     "state": {
      "_model_module": "@jupyter-widgets/controls",
      "_model_module_version": "1.5.0",
      "_model_name": "DescriptionStyleModel",
      "_view_count": null,
      "_view_module": "@jupyter-widgets/base",
      "_view_module_version": "1.2.0",
      "_view_name": "StyleView",
      "description_width": ""
     }
    },
    "64e4ef62b9fd46718340952087feffb9": {
     "model_module": "@jupyter-widgets/controls",
     "model_module_version": "1.5.0",
     "model_name": "ProgressStyleModel",
     "state": {
      "_model_module": "@jupyter-widgets/controls",
      "_model_module_version": "1.5.0",
      "_model_name": "ProgressStyleModel",
      "_view_count": null,
      "_view_module": "@jupyter-widgets/base",
      "_view_module_version": "1.2.0",
      "_view_name": "StyleView",
      "bar_color": null,
      "description_width": ""
     }
    },
    "6830713ccd8b45639496c535419669f8": {
     "model_module": "@jupyter-widgets/controls",
     "model_module_version": "1.5.0",
     "model_name": "FloatProgressModel",
     "state": {
      "_dom_classes": [],
      "_model_module": "@jupyter-widgets/controls",
      "_model_module_version": "1.5.0",
      "_model_name": "FloatProgressModel",
      "_view_count": null,
      "_view_module": "@jupyter-widgets/controls",
      "_view_module_version": "1.5.0",
      "_view_name": "ProgressView",
      "bar_style": "success",
      "description": "",
      "description_tooltip": null,
      "layout": "IPY_MODEL_144e7e407fe94f62baba32721462a271",
      "max": 446,
      "min": 0,
      "orientation": "horizontal",
      "style": "IPY_MODEL_699339c2a9ae4a0bb13327279326ca09",
      "value": 446
     }
    },
    "699339c2a9ae4a0bb13327279326ca09": {
     "model_module": "@jupyter-widgets/controls",
     "model_module_version": "1.5.0",
     "model_name": "ProgressStyleModel",
     "state": {
      "_model_module": "@jupyter-widgets/controls",
      "_model_module_version": "1.5.0",
      "_model_name": "ProgressStyleModel",
      "_view_count": null,
      "_view_module": "@jupyter-widgets/base",
      "_view_module_version": "1.2.0",
      "_view_name": "StyleView",
      "bar_color": null,
      "description_width": ""
     }
    },
    "6f1afc1ba7364e0c8a768ee96dc6cd9b": {
     "model_module": "@jupyter-widgets/controls",
     "model_module_version": "1.5.0",
     "model_name": "DescriptionStyleModel",
     "state": {
      "_model_module": "@jupyter-widgets/controls",
      "_model_module_version": "1.5.0",
      "_model_name": "DescriptionStyleModel",
      "_view_count": null,
      "_view_module": "@jupyter-widgets/base",
      "_view_module_version": "1.2.0",
      "_view_name": "StyleView",
      "description_width": ""
     }
    },
    "745c84bfd0fd4425ba7e64c2d75e0b26": {
     "model_module": "@jupyter-widgets/controls",
     "model_module_version": "1.5.0",
     "model_name": "DescriptionStyleModel",
     "state": {
      "_model_module": "@jupyter-widgets/controls",
      "_model_module_version": "1.5.0",
      "_model_name": "DescriptionStyleModel",
      "_view_count": null,
      "_view_module": "@jupyter-widgets/base",
      "_view_module_version": "1.2.0",
      "_view_name": "StyleView",
      "description_width": ""
     }
    },
    "83beb6fc1d184a78916e64fa2a94420b": {
     "model_module": "@jupyter-widgets/controls",
     "model_module_version": "1.5.0",
     "model_name": "ProgressStyleModel",
     "state": {
      "_model_module": "@jupyter-widgets/controls",
      "_model_module_version": "1.5.0",
      "_model_name": "ProgressStyleModel",
      "_view_count": null,
      "_view_module": "@jupyter-widgets/base",
      "_view_module_version": "1.2.0",
      "_view_name": "StyleView",
      "bar_color": null,
      "description_width": ""
     }
    },
    "870231392f324254a2d1bae912cde465": {
     "model_module": "@jupyter-widgets/controls",
     "model_module_version": "1.5.0",
     "model_name": "ProgressStyleModel",
     "state": {
      "_model_module": "@jupyter-widgets/controls",
      "_model_module_version": "1.5.0",
      "_model_name": "ProgressStyleModel",
      "_view_count": null,
      "_view_module": "@jupyter-widgets/base",
      "_view_module_version": "1.2.0",
      "_view_name": "StyleView",
      "bar_color": null,
      "description_width": ""
     }
    },
    "8afe111d2ec0417dbe75d833c25d5a27": {
     "model_module": "@jupyter-widgets/base",
     "model_module_version": "1.2.0",
     "model_name": "LayoutModel",
     "state": {
      "_model_module": "@jupyter-widgets/base",
      "_model_module_version": "1.2.0",
      "_model_name": "LayoutModel",
      "_view_count": null,
      "_view_module": "@jupyter-widgets/base",
      "_view_module_version": "1.2.0",
      "_view_name": "LayoutView",
      "align_content": null,
      "align_items": null,
      "align_self": null,
      "border": null,
      "bottom": null,
      "display": null,
      "flex": null,
      "flex_flow": null,
      "grid_area": null,
      "grid_auto_columns": null,
      "grid_auto_flow": null,
      "grid_auto_rows": null,
      "grid_column": null,
      "grid_gap": null,
      "grid_row": null,
      "grid_template_areas": null,
      "grid_template_columns": null,
      "grid_template_rows": null,
      "height": null,
      "justify_content": null,
      "justify_items": null,
      "left": null,
      "margin": null,
      "max_height": null,
      "max_width": null,
      "min_height": null,
      "min_width": null,
      "object_fit": null,
      "object_position": null,
      "order": null,
      "overflow": null,
      "overflow_x": null,
      "overflow_y": null,
      "padding": null,
      "right": null,
      "top": null,
      "visibility": null,
      "width": null
     }
    },
    "8bbac2fcc3da4dddab5d06f23d8445c2": {
     "model_module": "@jupyter-widgets/base",
     "model_module_version": "1.2.0",
     "model_name": "LayoutModel",
     "state": {
      "_model_module": "@jupyter-widgets/base",
      "_model_module_version": "1.2.0",
      "_model_name": "LayoutModel",
      "_view_count": null,
      "_view_module": "@jupyter-widgets/base",
      "_view_module_version": "1.2.0",
      "_view_name": "LayoutView",
      "align_content": null,
      "align_items": null,
      "align_self": null,
      "border": null,
      "bottom": null,
      "display": null,
      "flex": null,
      "flex_flow": null,
      "grid_area": null,
      "grid_auto_columns": null,
      "grid_auto_flow": null,
      "grid_auto_rows": null,
      "grid_column": null,
      "grid_gap": null,
      "grid_row": null,
      "grid_template_areas": null,
      "grid_template_columns": null,
      "grid_template_rows": null,
      "height": null,
      "justify_content": null,
      "justify_items": null,
      "left": null,
      "margin": null,
      "max_height": null,
      "max_width": null,
      "min_height": null,
      "min_width": null,
      "object_fit": null,
      "object_position": null,
      "order": null,
      "overflow": null,
      "overflow_x": null,
      "overflow_y": null,
      "padding": null,
      "right": null,
      "top": null,
      "visibility": null,
      "width": null
     }
    },
    "902546e6a82a4b96ad3287b918d7ba34": {
     "model_module": "@jupyter-widgets/controls",
     "model_module_version": "1.5.0",
     "model_name": "HTMLModel",
     "state": {
      "_dom_classes": [],
      "_model_module": "@jupyter-widgets/controls",
      "_model_module_version": "1.5.0",
      "_model_name": "HTMLModel",
      "_view_count": null,
      "_view_module": "@jupyter-widgets/controls",
      "_view_module_version": "1.5.0",
      "_view_name": "HTMLView",
      "description": "",
      "description_tooltip": null,
      "layout": "IPY_MODEL_cce5564fc89b4f7383943327fbd74f69",
      "placeholder": "​",
      "style": "IPY_MODEL_ddbc9d2dc526431b9616d8f972c6850d",
      "value": " 7.38k/? [00:00&lt;00:00, 348kB/s]"
     }
    },
    "93f5efba07a749b4bc02d4b438771de8": {
     "model_module": "@jupyter-widgets/controls",
     "model_module_version": "1.5.0",
     "model_name": "HTMLModel",
     "state": {
      "_dom_classes": [],
      "_model_module": "@jupyter-widgets/controls",
      "_model_module_version": "1.5.0",
      "_model_name": "HTMLModel",
      "_view_count": null,
      "_view_module": "@jupyter-widgets/controls",
      "_view_module_version": "1.5.0",
      "_view_name": "HTMLView",
      "description": "",
      "description_tooltip": null,
      "layout": "IPY_MODEL_f27c6224c20943efb23c39816cedb590",
      "placeholder": "​",
      "style": "IPY_MODEL_b0640db8eb5a47afb5e4dba42d138bd6",
      "value": "Downloading builder script: "
     }
    },
    "940cb370890a48d585ccf03b3c0f6461": {
     "model_module": "@jupyter-widgets/base",
     "model_module_version": "1.2.0",
     "model_name": "LayoutModel",
     "state": {
      "_model_module": "@jupyter-widgets/base",
      "_model_module_version": "1.2.0",
      "_model_name": "LayoutModel",
      "_view_count": null,
      "_view_module": "@jupyter-widgets/base",
      "_view_module_version": "1.2.0",
      "_view_name": "LayoutView",
      "align_content": null,
      "align_items": null,
      "align_self": null,
      "border": null,
      "bottom": null,
      "display": null,
      "flex": null,
      "flex_flow": null,
      "grid_area": null,
      "grid_auto_columns": null,
      "grid_auto_flow": null,
      "grid_auto_rows": null,
      "grid_column": null,
      "grid_gap": null,
      "grid_row": null,
      "grid_template_areas": null,
      "grid_template_columns": null,
      "grid_template_rows": null,
      "height": null,
      "justify_content": null,
      "justify_items": null,
      "left": null,
      "margin": null,
      "max_height": null,
      "max_width": null,
      "min_height": null,
      "min_width": null,
      "object_fit": null,
      "object_position": null,
      "order": null,
      "overflow": null,
      "overflow_x": null,
      "overflow_y": null,
      "padding": null,
      "right": null,
      "top": null,
      "visibility": null,
      "width": null
     }
    },
    "980ea6d96b104712a7dfe12999b79d53": {
     "model_module": "@jupyter-widgets/controls",
     "model_module_version": "1.5.0",
     "model_name": "DescriptionStyleModel",
     "state": {
      "_model_module": "@jupyter-widgets/controls",
      "_model_module_version": "1.5.0",
      "_model_name": "DescriptionStyleModel",
      "_view_count": null,
      "_view_module": "@jupyter-widgets/base",
      "_view_module_version": "1.2.0",
      "_view_name": "StyleView",
      "description_width": ""
     }
    },
    "99a7feba52b44134a48002d4ae0067a0": {
     "model_module": "@jupyter-widgets/base",
     "model_module_version": "1.2.0",
     "model_name": "LayoutModel",
     "state": {
      "_model_module": "@jupyter-widgets/base",
      "_model_module_version": "1.2.0",
      "_model_name": "LayoutModel",
      "_view_count": null,
      "_view_module": "@jupyter-widgets/base",
      "_view_module_version": "1.2.0",
      "_view_name": "LayoutView",
      "align_content": null,
      "align_items": null,
      "align_self": null,
      "border": null,
      "bottom": null,
      "display": null,
      "flex": null,
      "flex_flow": null,
      "grid_area": null,
      "grid_auto_columns": null,
      "grid_auto_flow": null,
      "grid_auto_rows": null,
      "grid_column": null,
      "grid_gap": null,
      "grid_row": null,
      "grid_template_areas": null,
      "grid_template_columns": null,
      "grid_template_rows": null,
      "height": null,
      "justify_content": null,
      "justify_items": null,
      "left": null,
      "margin": null,
      "max_height": null,
      "max_width": null,
      "min_height": null,
      "min_width": null,
      "object_fit": null,
      "object_position": null,
      "order": null,
      "overflow": null,
      "overflow_x": null,
      "overflow_y": null,
      "padding": null,
      "right": null,
      "top": null,
      "visibility": null,
      "width": null
     }
    },
    "ab74fb77887b4812bdda214d881b2228": {
     "model_module": "@jupyter-widgets/controls",
     "model_module_version": "1.5.0",
     "model_name": "HTMLModel",
     "state": {
      "_dom_classes": [],
      "_model_module": "@jupyter-widgets/controls",
      "_model_module_version": "1.5.0",
      "_model_name": "HTMLModel",
      "_view_count": null,
      "_view_module": "@jupyter-widgets/controls",
      "_view_module_version": "1.5.0",
      "_view_name": "HTMLView",
      "description": "",
      "description_tooltip": null,
      "layout": "IPY_MODEL_361ef6de555a433aac3380e0ef0beb31",
      "placeholder": "​",
      "style": "IPY_MODEL_608191c3e1364143846b3d795a2bf2ce",
      "value": " 6.50k/? [00:00&lt;00:00, 408kB/s]"
     }
    },
    "ae734a8d61b14c2a84dcf2ab7ca9fe46": {
     "model_module": "@jupyter-widgets/base",
     "model_module_version": "1.2.0",
     "model_name": "LayoutModel",
     "state": {
      "_model_module": "@jupyter-widgets/base",
      "_model_module_version": "1.2.0",
      "_model_name": "LayoutModel",
      "_view_count": null,
      "_view_module": "@jupyter-widgets/base",
      "_view_module_version": "1.2.0",
      "_view_name": "LayoutView",
      "align_content": null,
      "align_items": null,
      "align_self": null,
      "border": null,
      "bottom": null,
      "display": null,
      "flex": null,
      "flex_flow": null,
      "grid_area": null,
      "grid_auto_columns": null,
      "grid_auto_flow": null,
      "grid_auto_rows": null,
      "grid_column": null,
      "grid_gap": null,
      "grid_row": null,
      "grid_template_areas": null,
      "grid_template_columns": null,
      "grid_template_rows": null,
      "height": null,
      "justify_content": null,
      "justify_items": null,
      "left": null,
      "margin": null,
      "max_height": null,
      "max_width": null,
      "min_height": null,
      "min_width": null,
      "object_fit": null,
      "object_position": null,
      "order": null,
      "overflow": null,
      "overflow_x": null,
      "overflow_y": null,
      "padding": null,
      "right": null,
      "top": null,
      "visibility": null,
      "width": null
     }
    },
    "aeb13ac0f9f0436ea0e2db0a1ad6a50a": {
     "model_module": "@jupyter-widgets/controls",
     "model_module_version": "1.5.0",
     "model_name": "HTMLModel",
     "state": {
      "_dom_classes": [],
      "_model_module": "@jupyter-widgets/controls",
      "_model_module_version": "1.5.0",
      "_model_name": "HTMLModel",
      "_view_count": null,
      "_view_module": "@jupyter-widgets/controls",
      "_view_module_version": "1.5.0",
      "_view_name": "HTMLView",
      "description": "",
      "description_tooltip": null,
      "layout": "IPY_MODEL_357d7e8bf0df4902a1fb668187b536d3",
      "placeholder": "​",
      "style": "IPY_MODEL_171d121dc6f547cdb3f2a198b0ffbcac",
      "value": " 446/446 [00:00&lt;00:00, 624.39 examples/s]"
     }
    },
    "af867de0948649af91336a42f81d2782": {
     "model_module": "@jupyter-widgets/base",
     "model_module_version": "1.2.0",
     "model_name": "LayoutModel",
     "state": {
      "_model_module": "@jupyter-widgets/base",
      "_model_module_version": "1.2.0",
      "_model_name": "LayoutModel",
      "_view_count": null,
      "_view_module": "@jupyter-widgets/base",
      "_view_module_version": "1.2.0",
      "_view_name": "LayoutView",
      "align_content": null,
      "align_items": null,
      "align_self": null,
      "border": null,
      "bottom": null,
      "display": null,
      "flex": null,
      "flex_flow": null,
      "grid_area": null,
      "grid_auto_columns": null,
      "grid_auto_flow": null,
      "grid_auto_rows": null,
      "grid_column": null,
      "grid_gap": null,
      "grid_row": null,
      "grid_template_areas": null,
      "grid_template_columns": null,
      "grid_template_rows": null,
      "height": null,
      "justify_content": null,
      "justify_items": null,
      "left": null,
      "margin": null,
      "max_height": null,
      "max_width": null,
      "min_height": null,
      "min_width": null,
      "object_fit": null,
      "object_position": null,
      "order": null,
      "overflow": null,
      "overflow_x": null,
      "overflow_y": null,
      "padding": null,
      "right": null,
      "top": null,
      "visibility": null,
      "width": null
     }
    },
    "b0640db8eb5a47afb5e4dba42d138bd6": {
     "model_module": "@jupyter-widgets/controls",
     "model_module_version": "1.5.0",
     "model_name": "DescriptionStyleModel",
     "state": {
      "_model_module": "@jupyter-widgets/controls",
      "_model_module_version": "1.5.0",
      "_model_name": "DescriptionStyleModel",
      "_view_count": null,
      "_view_module": "@jupyter-widgets/base",
      "_view_module_version": "1.2.0",
      "_view_name": "StyleView",
      "description_width": ""
     }
    },
    "b59560b20efc4b8aa195a0a20e862afb": {
     "model_module": "@jupyter-widgets/controls",
     "model_module_version": "1.5.0",
     "model_name": "HTMLModel",
     "state": {
      "_dom_classes": [],
      "_model_module": "@jupyter-widgets/controls",
      "_model_module_version": "1.5.0",
      "_model_name": "HTMLModel",
      "_view_count": null,
      "_view_module": "@jupyter-widgets/controls",
      "_view_module_version": "1.5.0",
      "_view_name": "HTMLView",
      "description": "",
      "description_tooltip": null,
      "layout": "IPY_MODEL_af867de0948649af91336a42f81d2782",
      "placeholder": "​",
      "style": "IPY_MODEL_4506e2a3b6bc4bc691681190315cc6c3",
      "value": "Map: 100%"
     }
    },
    "b5d0cad0452e45078ffe3474f71cedb8": {
     "model_module": "@jupyter-widgets/base",
     "model_module_version": "1.2.0",
     "model_name": "LayoutModel",
     "state": {
      "_model_module": "@jupyter-widgets/base",
      "_model_module_version": "1.2.0",
      "_model_name": "LayoutModel",
      "_view_count": null,
      "_view_module": "@jupyter-widgets/base",
      "_view_module_version": "1.2.0",
      "_view_name": "LayoutView",
      "align_content": null,
      "align_items": null,
      "align_self": null,
      "border": null,
      "bottom": null,
      "display": null,
      "flex": null,
      "flex_flow": null,
      "grid_area": null,
      "grid_auto_columns": null,
      "grid_auto_flow": null,
      "grid_auto_rows": null,
      "grid_column": null,
      "grid_gap": null,
      "grid_row": null,
      "grid_template_areas": null,
      "grid_template_columns": null,
      "grid_template_rows": null,
      "height": null,
      "justify_content": null,
      "justify_items": null,
      "left": null,
      "margin": null,
      "max_height": null,
      "max_width": null,
      "min_height": null,
      "min_width": null,
      "object_fit": null,
      "object_position": null,
      "order": null,
      "overflow": null,
      "overflow_x": null,
      "overflow_y": null,
      "padding": null,
      "right": null,
      "top": null,
      "visibility": null,
      "width": null
     }
    },
    "b8860dbe5df84996aea5930b39c7ec70": {
     "model_module": "@jupyter-widgets/controls",
     "model_module_version": "1.5.0",
     "model_name": "HTMLModel",
     "state": {
      "_dom_classes": [],
      "_model_module": "@jupyter-widgets/controls",
      "_model_module_version": "1.5.0",
      "_model_name": "HTMLModel",
      "_view_count": null,
      "_view_module": "@jupyter-widgets/controls",
      "_view_module_version": "1.5.0",
      "_view_name": "HTMLView",
      "description": "",
      "description_tooltip": null,
      "layout": "IPY_MODEL_2aec810880bb4fa29691b584eff0c2df",
      "placeholder": "​",
      "style": "IPY_MODEL_1fa0139b04bf4aecaafe1b82c54e1e96",
      "value": " 7.55k/? [00:00&lt;00:00, 403kB/s]"
     }
    },
    "b9423773c5d94e7fa69f5b4c285cda4a": {
     "model_module": "@jupyter-widgets/base",
     "model_module_version": "1.2.0",
     "model_name": "LayoutModel",
     "state": {
      "_model_module": "@jupyter-widgets/base",
      "_model_module_version": "1.2.0",
      "_model_name": "LayoutModel",
      "_view_count": null,
      "_view_module": "@jupyter-widgets/base",
      "_view_module_version": "1.2.0",
      "_view_name": "LayoutView",
      "align_content": null,
      "align_items": null,
      "align_self": null,
      "border": null,
      "bottom": null,
      "display": null,
      "flex": null,
      "flex_flow": null,
      "grid_area": null,
      "grid_auto_columns": null,
      "grid_auto_flow": null,
      "grid_auto_rows": null,
      "grid_column": null,
      "grid_gap": null,
      "grid_row": null,
      "grid_template_areas": null,
      "grid_template_columns": null,
      "grid_template_rows": null,
      "height": null,
      "justify_content": null,
      "justify_items": null,
      "left": null,
      "margin": null,
      "max_height": null,
      "max_width": null,
      "min_height": null,
      "min_width": null,
      "object_fit": null,
      "object_position": null,
      "order": null,
      "overflow": null,
      "overflow_x": null,
      "overflow_y": null,
      "padding": null,
      "right": null,
      "top": null,
      "visibility": null,
      "width": null
     }
    },
    "c7c0045884fe4ce999e3de4ffef26fa1": {
     "model_module": "@jupyter-widgets/base",
     "model_module_version": "1.2.0",
     "model_name": "LayoutModel",
     "state": {
      "_model_module": "@jupyter-widgets/base",
      "_model_module_version": "1.2.0",
      "_model_name": "LayoutModel",
      "_view_count": null,
      "_view_module": "@jupyter-widgets/base",
      "_view_module_version": "1.2.0",
      "_view_name": "LayoutView",
      "align_content": null,
      "align_items": null,
      "align_self": null,
      "border": null,
      "bottom": null,
      "display": null,
      "flex": null,
      "flex_flow": null,
      "grid_area": null,
      "grid_auto_columns": null,
      "grid_auto_flow": null,
      "grid_auto_rows": null,
      "grid_column": null,
      "grid_gap": null,
      "grid_row": null,
      "grid_template_areas": null,
      "grid_template_columns": null,
      "grid_template_rows": null,
      "height": null,
      "justify_content": null,
      "justify_items": null,
      "left": null,
      "margin": null,
      "max_height": null,
      "max_width": null,
      "min_height": null,
      "min_width": null,
      "object_fit": null,
      "object_position": null,
      "order": null,
      "overflow": null,
      "overflow_x": null,
      "overflow_y": null,
      "padding": null,
      "right": null,
      "top": null,
      "visibility": null,
      "width": null
     }
    },
    "c8d0113d00104edfa373e300a61cd1f5": {
     "model_module": "@jupyter-widgets/controls",
     "model_module_version": "1.5.0",
     "model_name": "HTMLModel",
     "state": {
      "_dom_classes": [],
      "_model_module": "@jupyter-widgets/controls",
      "_model_module_version": "1.5.0",
      "_model_name": "HTMLModel",
      "_view_count": null,
      "_view_module": "@jupyter-widgets/controls",
      "_view_module_version": "1.5.0",
      "_view_name": "HTMLView",
      "description": "",
      "description_tooltip": null,
      "layout": "IPY_MODEL_22991a23b19b43ecb7a474a7feae13f9",
      "placeholder": "​",
      "style": "IPY_MODEL_4695f3c4d36f4257acb1f611583d8492",
      "value": "Downloading builder script: "
     }
    },
    "ca6370c11aa24db2a849e77e3f706bef": {
     "model_module": "@jupyter-widgets/controls",
     "model_module_version": "1.5.0",
     "model_name": "FloatProgressModel",
     "state": {
      "_dom_classes": [],
      "_model_module": "@jupyter-widgets/controls",
      "_model_module_version": "1.5.0",
      "_model_name": "FloatProgressModel",
      "_view_count": null,
      "_view_module": "@jupyter-widgets/controls",
      "_view_module_version": "1.5.0",
      "_view_name": "ProgressView",
      "bar_style": "success",
      "description": "",
      "description_tooltip": null,
      "layout": "IPY_MODEL_99a7feba52b44134a48002d4ae0067a0",
      "max": 2318,
      "min": 0,
      "orientation": "horizontal",
      "style": "IPY_MODEL_870231392f324254a2d1bae912cde465",
      "value": 2318
     }
    },
    "cce5564fc89b4f7383943327fbd74f69": {
     "model_module": "@jupyter-widgets/base",
     "model_module_version": "1.2.0",
     "model_name": "LayoutModel",
     "state": {
      "_model_module": "@jupyter-widgets/base",
      "_model_module_version": "1.2.0",
      "_model_name": "LayoutModel",
      "_view_count": null,
      "_view_module": "@jupyter-widgets/base",
      "_view_module_version": "1.2.0",
      "_view_name": "LayoutView",
      "align_content": null,
      "align_items": null,
      "align_self": null,
      "border": null,
      "bottom": null,
      "display": null,
      "flex": null,
      "flex_flow": null,
      "grid_area": null,
      "grid_auto_columns": null,
      "grid_auto_flow": null,
      "grid_auto_rows": null,
      "grid_column": null,
      "grid_gap": null,
      "grid_row": null,
      "grid_template_areas": null,
      "grid_template_columns": null,
      "grid_template_rows": null,
      "height": null,
      "justify_content": null,
      "justify_items": null,
      "left": null,
      "margin": null,
      "max_height": null,
      "max_width": null,
      "min_height": null,
      "min_width": null,
      "object_fit": null,
      "object_position": null,
      "order": null,
      "overflow": null,
      "overflow_x": null,
      "overflow_y": null,
      "padding": null,
      "right": null,
      "top": null,
      "visibility": null,
      "width": null
     }
    },
    "d0ddba094aa54391bd850d6b1c44ece4": {
     "model_module": "@jupyter-widgets/controls",
     "model_module_version": "1.5.0",
     "model_name": "HBoxModel",
     "state": {
      "_dom_classes": [],
      "_model_module": "@jupyter-widgets/controls",
      "_model_module_version": "1.5.0",
      "_model_name": "HBoxModel",
      "_view_count": null,
      "_view_module": "@jupyter-widgets/controls",
      "_view_module_version": "1.5.0",
      "_view_name": "HBoxView",
      "box_style": "",
      "children": [
       "IPY_MODEL_c8d0113d00104edfa373e300a61cd1f5",
       "IPY_MODEL_092312cf06be4deaa899d9bf6a484ffe",
       "IPY_MODEL_b8860dbe5df84996aea5930b39c7ec70"
      ],
      "layout": "IPY_MODEL_506a07e89e2447ab8757482b8269b86f"
     }
    },
    "ddbc9d2dc526431b9616d8f972c6850d": {
     "model_module": "@jupyter-widgets/controls",
     "model_module_version": "1.5.0",
     "model_name": "DescriptionStyleModel",
     "state": {
      "_model_module": "@jupyter-widgets/controls",
      "_model_module_version": "1.5.0",
      "_model_name": "DescriptionStyleModel",
      "_view_count": null,
      "_view_module": "@jupyter-widgets/base",
      "_view_module_version": "1.2.0",
      "_view_name": "StyleView",
      "description_width": ""
     }
    },
    "e1b6fc401c8e413ba841adf15fa500ca": {
     "model_module": "@jupyter-widgets/controls",
     "model_module_version": "1.5.0",
     "model_name": "HBoxModel",
     "state": {
      "_dom_classes": [],
      "_model_module": "@jupyter-widgets/controls",
      "_model_module_version": "1.5.0",
      "_model_name": "HBoxModel",
      "_view_count": null,
      "_view_module": "@jupyter-widgets/controls",
      "_view_module_version": "1.5.0",
      "_view_name": "HBoxView",
      "box_style": "",
      "children": [
       "IPY_MODEL_3efc592efbf7444ba898996a7a4a1232",
       "IPY_MODEL_ca6370c11aa24db2a849e77e3f706bef",
       "IPY_MODEL_ab74fb77887b4812bdda214d881b2228"
      ],
      "layout": "IPY_MODEL_8afe111d2ec0417dbe75d833c25d5a27"
     }
    },
    "e243a9f26dce44df844abca0b57badd0": {
     "model_module": "@jupyter-widgets/base",
     "model_module_version": "1.2.0",
     "model_name": "LayoutModel",
     "state": {
      "_model_module": "@jupyter-widgets/base",
      "_model_module_version": "1.2.0",
      "_model_name": "LayoutModel",
      "_view_count": null,
      "_view_module": "@jupyter-widgets/base",
      "_view_module_version": "1.2.0",
      "_view_name": "LayoutView",
      "align_content": null,
      "align_items": null,
      "align_self": null,
      "border": null,
      "bottom": null,
      "display": null,
      "flex": null,
      "flex_flow": null,
      "grid_area": null,
      "grid_auto_columns": null,
      "grid_auto_flow": null,
      "grid_auto_rows": null,
      "grid_column": null,
      "grid_gap": null,
      "grid_row": null,
      "grid_template_areas": null,
      "grid_template_columns": null,
      "grid_template_rows": null,
      "height": null,
      "justify_content": null,
      "justify_items": null,
      "left": null,
      "margin": null,
      "max_height": null,
      "max_width": null,
      "min_height": null,
      "min_width": null,
      "object_fit": null,
      "object_position": null,
      "order": null,
      "overflow": null,
      "overflow_x": null,
      "overflow_y": null,
      "padding": null,
      "right": null,
      "top": null,
      "visibility": null,
      "width": null
     }
    },
    "e32a0920d72c428cacf53a7ba46ef045": {
     "model_module": "@jupyter-widgets/base",
     "model_module_version": "1.2.0",
     "model_name": "LayoutModel",
     "state": {
      "_model_module": "@jupyter-widgets/base",
      "_model_module_version": "1.2.0",
      "_model_name": "LayoutModel",
      "_view_count": null,
      "_view_module": "@jupyter-widgets/base",
      "_view_module_version": "1.2.0",
      "_view_name": "LayoutView",
      "align_content": null,
      "align_items": null,
      "align_self": null,
      "border": null,
      "bottom": null,
      "display": null,
      "flex": null,
      "flex_flow": null,
      "grid_area": null,
      "grid_auto_columns": null,
      "grid_auto_flow": null,
      "grid_auto_rows": null,
      "grid_column": null,
      "grid_gap": null,
      "grid_row": null,
      "grid_template_areas": null,
      "grid_template_columns": null,
      "grid_template_rows": null,
      "height": null,
      "justify_content": null,
      "justify_items": null,
      "left": null,
      "margin": null,
      "max_height": null,
      "max_width": null,
      "min_height": null,
      "min_width": null,
      "object_fit": null,
      "object_position": null,
      "order": null,
      "overflow": null,
      "overflow_x": null,
      "overflow_y": null,
      "padding": null,
      "right": null,
      "top": null,
      "visibility": null,
      "width": null
     }
    },
    "e483d63811eb4dd1817b885d0f9e0696": {
     "model_module": "@jupyter-widgets/base",
     "model_module_version": "1.2.0",
     "model_name": "LayoutModel",
     "state": {
      "_model_module": "@jupyter-widgets/base",
      "_model_module_version": "1.2.0",
      "_model_name": "LayoutModel",
      "_view_count": null,
      "_view_module": "@jupyter-widgets/base",
      "_view_module_version": "1.2.0",
      "_view_name": "LayoutView",
      "align_content": null,
      "align_items": null,
      "align_self": null,
      "border": null,
      "bottom": null,
      "display": null,
      "flex": null,
      "flex_flow": null,
      "grid_area": null,
      "grid_auto_columns": null,
      "grid_auto_flow": null,
      "grid_auto_rows": null,
      "grid_column": null,
      "grid_gap": null,
      "grid_row": null,
      "grid_template_areas": null,
      "grid_template_columns": null,
      "grid_template_rows": null,
      "height": null,
      "justify_content": null,
      "justify_items": null,
      "left": null,
      "margin": null,
      "max_height": null,
      "max_width": null,
      "min_height": null,
      "min_width": null,
      "object_fit": null,
      "object_position": null,
      "order": null,
      "overflow": null,
      "overflow_x": null,
      "overflow_y": null,
      "padding": null,
      "right": null,
      "top": null,
      "visibility": null,
      "width": null
     }
    },
    "e643925ea2c445bc919f523afbce7eb1": {
     "model_module": "@jupyter-widgets/controls",
     "model_module_version": "1.5.0",
     "model_name": "FloatProgressModel",
     "state": {
      "_dom_classes": [],
      "_model_module": "@jupyter-widgets/controls",
      "_model_module_version": "1.5.0",
      "_model_name": "FloatProgressModel",
      "_view_count": null,
      "_view_module": "@jupyter-widgets/controls",
      "_view_module_version": "1.5.0",
      "_view_name": "ProgressView",
      "bar_style": "success",
      "description": "",
      "description_tooltip": null,
      "layout": "IPY_MODEL_2bcef538a4df4b7dbea62c087783f74e",
      "max": 175,
      "min": 0,
      "orientation": "horizontal",
      "style": "IPY_MODEL_07ee787087b1450293587e4f7d5afa9e",
      "value": 175
     }
    },
    "e9c55b8c95304ad3b1b782a3f8826921": {
     "model_module": "@jupyter-widgets/controls",
     "model_module_version": "1.5.0",
     "model_name": "HBoxModel",
     "state": {
      "_dom_classes": [],
      "_model_module": "@jupyter-widgets/controls",
      "_model_module_version": "1.5.0",
      "_model_name": "HBoxModel",
      "_view_count": null,
      "_view_module": "@jupyter-widgets/controls",
      "_view_module_version": "1.5.0",
      "_view_name": "HBoxView",
      "box_style": "",
      "children": [
       "IPY_MODEL_ed52f945d036467b9e8dd2731cfdc1d4",
       "IPY_MODEL_ed08beddd4d34391aaa7841d1fc2ca7e",
       "IPY_MODEL_f023f5ff073c4f3bafe904d245d88c54"
      ],
      "layout": "IPY_MODEL_8bbac2fcc3da4dddab5d06f23d8445c2"
     }
    },
    "ea652fdc95c549f598aa44e92c22dae2": {
     "model_module": "@jupyter-widgets/controls",
     "model_module_version": "1.5.0",
     "model_name": "HTMLModel",
     "state": {
      "_dom_classes": [],
      "_model_module": "@jupyter-widgets/controls",
      "_model_module_version": "1.5.0",
      "_model_name": "HTMLModel",
      "_view_count": null,
      "_view_module": "@jupyter-widgets/controls",
      "_view_module_version": "1.5.0",
      "_view_name": "HTMLView",
      "description": "",
      "description_tooltip": null,
      "layout": "IPY_MODEL_555db953de3a420bb9578735e8b5526d",
      "placeholder": "​",
      "style": "IPY_MODEL_745c84bfd0fd4425ba7e64c2d75e0b26",
      "value": "Downloading builder script: "
     }
    },
    "ed08beddd4d34391aaa7841d1fc2ca7e": {
     "model_module": "@jupyter-widgets/controls",
     "model_module_version": "1.5.0",
     "model_name": "FloatProgressModel",
     "state": {
      "_dom_classes": [],
      "_model_module": "@jupyter-widgets/controls",
      "_model_module_version": "1.5.0",
      "_model_name": "FloatProgressModel",
      "_view_count": null,
      "_view_module": "@jupyter-widgets/controls",
      "_view_module_version": "1.5.0",
      "_view_name": "ProgressView",
      "bar_style": "success",
      "description": "",
      "description_tooltip": null,
      "layout": "IPY_MODEL_940cb370890a48d585ccf03b3c0f6461",
      "max": 1735,
      "min": 0,
      "orientation": "horizontal",
      "style": "IPY_MODEL_83beb6fc1d184a78916e64fa2a94420b",
      "value": 1735
     }
    },
    "ed52f945d036467b9e8dd2731cfdc1d4": {
     "model_module": "@jupyter-widgets/controls",
     "model_module_version": "1.5.0",
     "model_name": "HTMLModel",
     "state": {
      "_dom_classes": [],
      "_model_module": "@jupyter-widgets/controls",
      "_model_module_version": "1.5.0",
      "_model_name": "HTMLModel",
      "_view_count": null,
      "_view_module": "@jupyter-widgets/controls",
      "_view_module_version": "1.5.0",
      "_view_name": "HTMLView",
      "description": "",
      "description_tooltip": null,
      "layout": "IPY_MODEL_56f6e333d22243af8cf44fa3e0464c52",
      "placeholder": "​",
      "style": "IPY_MODEL_05852123893e4ad1838d2da6a033bc9b",
      "value": "Map: 100%"
     }
    },
    "ee566735e48743539cfd0e2fdfc9c422": {
     "model_module": "@jupyter-widgets/controls",
     "model_module_version": "1.5.0",
     "model_name": "HTMLModel",
     "state": {
      "_dom_classes": [],
      "_model_module": "@jupyter-widgets/controls",
      "_model_module_version": "1.5.0",
      "_model_name": "HTMLModel",
      "_view_count": null,
      "_view_module": "@jupyter-widgets/controls",
      "_view_module_version": "1.5.0",
      "_view_name": "HTMLView",
      "description": "",
      "description_tooltip": null,
      "layout": "IPY_MODEL_c7c0045884fe4ce999e3de4ffef26fa1",
      "placeholder": "​",
      "style": "IPY_MODEL_6f1afc1ba7364e0c8a768ee96dc6cd9b",
      "value": " 4.21k/? [00:00&lt;00:00, 171kB/s]"
     }
    },
    "f023f5ff073c4f3bafe904d245d88c54": {
     "model_module": "@jupyter-widgets/controls",
     "model_module_version": "1.5.0",
     "model_name": "HTMLModel",
     "state": {
      "_dom_classes": [],
      "_model_module": "@jupyter-widgets/controls",
      "_model_module_version": "1.5.0",
      "_model_name": "HTMLModel",
      "_view_count": null,
      "_view_module": "@jupyter-widgets/controls",
      "_view_module_version": "1.5.0",
      "_view_name": "HTMLView",
      "description": "",
      "description_tooltip": null,
      "layout": "IPY_MODEL_ae734a8d61b14c2a84dcf2ab7ca9fe46",
      "placeholder": "​",
      "style": "IPY_MODEL_56a9834ffe654976969a5b92f63c4001",
      "value": " 1735/1735 [00:04&lt;00:00, 614.39 examples/s]"
     }
    },
    "f27c6224c20943efb23c39816cedb590": {
     "model_module": "@jupyter-widgets/base",
     "model_module_version": "1.2.0",
     "model_name": "LayoutModel",
     "state": {
      "_model_module": "@jupyter-widgets/base",
      "_model_module_version": "1.2.0",
      "_model_name": "LayoutModel",
      "_view_count": null,
      "_view_module": "@jupyter-widgets/base",
      "_view_module_version": "1.2.0",
      "_view_name": "LayoutView",
      "align_content": null,
      "align_items": null,
      "align_self": null,
      "border": null,
      "bottom": null,
      "display": null,
      "flex": null,
      "flex_flow": null,
      "grid_area": null,
      "grid_auto_columns": null,
      "grid_auto_flow": null,
      "grid_auto_rows": null,
      "grid_column": null,
      "grid_gap": null,
      "grid_row": null,
      "grid_template_areas": null,
      "grid_template_columns": null,
      "grid_template_rows": null,
      "height": null,
      "justify_content": null,
      "justify_items": null,
      "left": null,
      "margin": null,
      "max_height": null,
      "max_width": null,
      "min_height": null,
      "min_width": null,
      "object_fit": null,
      "object_position": null,
      "order": null,
      "overflow": null,
      "overflow_x": null,
      "overflow_y": null,
      "padding": null,
      "right": null,
      "top": null,
      "visibility": null,
      "width": null
     }
    },
    "f2da146dd44c4a1e8e296ba2fbcb7865": {
     "model_module": "@jupyter-widgets/controls",
     "model_module_version": "1.5.0",
     "model_name": "ProgressStyleModel",
     "state": {
      "_model_module": "@jupyter-widgets/controls",
      "_model_module_version": "1.5.0",
      "_model_name": "ProgressStyleModel",
      "_view_count": null,
      "_view_module": "@jupyter-widgets/base",
      "_view_module_version": "1.2.0",
      "_view_name": "StyleView",
      "bar_color": null,
      "description_width": ""
     }
    },
    "f748910e2e0e42d5b02e6b564542ab86": {
     "model_module": "@jupyter-widgets/controls",
     "model_module_version": "1.5.0",
     "model_name": "HBoxModel",
     "state": {
      "_dom_classes": [],
      "_model_module": "@jupyter-widgets/controls",
      "_model_module_version": "1.5.0",
      "_model_name": "HBoxModel",
      "_view_count": null,
      "_view_module": "@jupyter-widgets/controls",
      "_view_module_version": "1.5.0",
      "_view_name": "HBoxView",
      "box_style": "",
      "children": [
       "IPY_MODEL_ea652fdc95c549f598aa44e92c22dae2",
       "IPY_MODEL_ff4d280531164521adbc147f06aca660",
       "IPY_MODEL_ee566735e48743539cfd0e2fdfc9c422"
      ],
      "layout": "IPY_MODEL_0c13fece9df048e5b7ee80eca8aed8c6"
     }
    },
    "f8530039eaad4758b74707ff8ab87d1d": {
     "model_module": "@jupyter-widgets/base",
     "model_module_version": "1.2.0",
     "model_name": "LayoutModel",
     "state": {
      "_model_module": "@jupyter-widgets/base",
      "_model_module_version": "1.2.0",
      "_model_name": "LayoutModel",
      "_view_count": null,
      "_view_module": "@jupyter-widgets/base",
      "_view_module_version": "1.2.0",
      "_view_name": "LayoutView",
      "align_content": null,
      "align_items": null,
      "align_self": null,
      "border": null,
      "bottom": null,
      "display": null,
      "flex": null,
      "flex_flow": null,
      "grid_area": null,
      "grid_auto_columns": null,
      "grid_auto_flow": null,
      "grid_auto_rows": null,
      "grid_column": null,
      "grid_gap": null,
      "grid_row": null,
      "grid_template_areas": null,
      "grid_template_columns": null,
      "grid_template_rows": null,
      "height": null,
      "justify_content": null,
      "justify_items": null,
      "left": null,
      "margin": null,
      "max_height": null,
      "max_width": null,
      "min_height": null,
      "min_width": null,
      "object_fit": null,
      "object_position": null,
      "order": null,
      "overflow": null,
      "overflow_x": null,
      "overflow_y": null,
      "padding": null,
      "right": null,
      "top": null,
      "visibility": null,
      "width": null
     }
    },
    "fe782ea0beb5453bbc76daeaebbb0cbc": {
     "model_module": "@jupyter-widgets/controls",
     "model_module_version": "1.5.0",
     "model_name": "FloatProgressModel",
     "state": {
      "_dom_classes": [],
      "_model_module": "@jupyter-widgets/controls",
      "_model_module_version": "1.5.0",
      "_model_name": "FloatProgressModel",
      "_view_count": null,
      "_view_module": "@jupyter-widgets/controls",
      "_view_module_version": "1.5.0",
      "_view_name": "ProgressView",
      "bar_style": "success",
      "description": "",
      "description_tooltip": null,
      "layout": "IPY_MODEL_b9423773c5d94e7fa69f5b4c285cda4a",
      "max": 2524,
      "min": 0,
      "orientation": "horizontal",
      "style": "IPY_MODEL_5c637f68cabd4c108f01df0256bc3ec5",
      "value": 2524
     }
    },
    "ff4d280531164521adbc147f06aca660": {
     "model_module": "@jupyter-widgets/controls",
     "model_module_version": "1.5.0",
     "model_name": "FloatProgressModel",
     "state": {
      "_dom_classes": [],
      "_model_module": "@jupyter-widgets/controls",
      "_model_module_version": "1.5.0",
      "_model_name": "FloatProgressModel",
      "_view_count": null,
      "_view_module": "@jupyter-widgets/controls",
      "_view_module_version": "1.5.0",
      "_view_name": "ProgressView",
      "bar_style": "success",
      "description": "",
      "description_tooltip": null,
      "layout": "IPY_MODEL_e483d63811eb4dd1817b885d0f9e0696",
      "max": 1652,
      "min": 0,
      "orientation": "horizontal",
      "style": "IPY_MODEL_f2da146dd44c4a1e8e296ba2fbcb7865",
      "value": 1652
     }
    }
   }
  }
 },
 "nbformat": 4,
 "nbformat_minor": 4
}
