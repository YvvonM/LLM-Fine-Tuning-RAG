{
 "cells": [
  {
   "cell_type": "markdown",
   "metadata": {},
   "source": [

    "### Parse important information from initial raw file convert and save it to parsed dir as dataframe"
   ]
  },
  {
   "cell_type": "markdown",
   "metadata": {},
   "source": [
    "#### Import modules"

   ]
  },
  {
   "cell_type": "code",

   "execution_count": 16,
   "metadata": {},
   "outputs": [],
   "source": [
    "import sys, os\n",
    "import pandas as pd\n",
    "sys.path.append(os.path.abspath(os.path.join('..')))\n",
    "from utils.preprocessing import MyPreprocessing"

   ]
  },
  {
   "cell_type": "markdown",
   "metadata": {},
   "source": [
    "#### Init Variables"
   ]
  },
  {
   "cell_type": "code",

   "execution_count": 17,

   "metadata": {},
   "outputs": [],
   "source": [
    "raw_dir = \"../data/raw\"\n",
    "parsed_dir = \"../data/parsed\"\n",
    "file_name = \"አዲስ ነገር መረጃ\"\n",

    "preprocess = MyPreprocessing()"

   ]
  },
  {
   "cell_type": "markdown",
   "metadata": {},
   "source": [

    "#### Read File"

   ]
  },
  {
   "cell_type": "code",

   "execution_count": 18,
   "metadata": {},
   "outputs": [],
   "source": [
    "data = preprocess.read_file(f'{raw_dir}/{file_name}.json')"

   ]
  },
  {
   "cell_type": "code",

   "execution_count": 19,
   "metadata": {},
   "outputs": [],
   "source": [
    "parsed_message = preprocess.parse_messages(data['messages'])\n",
    "# parsed_message"

   ]
  },
  {
   "cell_type": "markdown",
   "metadata": {},
   "source": [
    "#### Create pandas dataframe from parsed messages"
   ]
  },
  {
   "cell_type": "code",

   "execution_count": 20,

   "metadata": {},
   "outputs": [
    {
     "data": {
      "text/html": [
       "<div>\n",
       "<style scoped>\n",
       "    .dataframe tbody tr th:only-of-type {\n",
       "        vertical-align: middle;\n",
       "    }\n",
       "\n",
       "    .dataframe tbody tr th {\n",
       "        vertical-align: top;\n",
       "    }\n",
       "\n",
       "    .dataframe thead th {\n",
       "        text-align: right;\n",
       "    }\n",
       "</style>\n",
       "<table border=\"1\" class=\"dataframe\">\n",
       "  <thead>\n",
       "    <tr style=\"text-align: right;\">\n",
       "      <th></th>\n",
       "      <th>text</th>\n",
       "      <th>date</th>\n",
       "    </tr>\n",
       "    <tr>\n",
       "      <th>id</th>\n",
       "      <th></th>\n",
       "      <th></th>\n",
       "    </tr>\n",
       "  </thead>\n",
       "  <tbody>\n",
       "    <tr>\n",
       "      <th>11233</th>\n",
       "      <td>ህወሀት እንደ ቺቺኒያ ያሉ ለመኖርያ ተብለው በማስተር ፕላኑ የተቀመጡ ሰፈ...</td>\n",
       "      <td>2021-01-04T11:27:32</td>\n",
       "    </tr>\n",
       "    <tr>\n",
       "      <th>11258</th>\n",
       "      <td>የኤርትራ ውጭ ጉ/ሚንስትር እና የፕሬዝዳንት ኢሳይያስ አማካሪ የተካተቱበት...</td>\n",
       "      <td>2021-01-05T23:27:06</td>\n",
       "    </tr>\n",
       "    <tr>\n",
       "      <th>11259</th>\n",
       "      <td>📍ግብፃውያኑ በአባይ (በህዳሴ) ግድብ ጉዳይ ከመጨነቃቸው የተነሳ በቴሌቪዥ...</td>\n",
       "      <td>2021-01-06T08:23:56</td>\n",
       "    </tr>\n",
       "    <tr>\n",
       "      <th>11261</th>\n",
       "      <td>በአዲስ አበባ ፖፖላሬ አካባቢ በደረሰ የእሳት አደጋ ሁለት ተሽከርካሪዎች ...</td>\n",
       "      <td>2021-01-06T09:22:51</td>\n",
       "    </tr>\n",
       "    <tr>\n",
       "      <th>11262</th>\n",
       "      <td>የገና ሥጦታ ሎተሪ ዕጣ ውጤት\\n\\nየገና ሥጦታ ሎተሪ ትላንት ማክሰኞ ታህ...</td>\n",
       "      <td>2021-01-06T09:23:52</td>\n",
       "    </tr>\n",
       "  </tbody>\n",
       "</table>\n",
       "</div>"
      ],
      "text/plain": [
       "                                                    text                 date\n",
       "id                                                                           \n",
       "11233  ህወሀት እንደ ቺቺኒያ ያሉ ለመኖርያ ተብለው በማስተር ፕላኑ የተቀመጡ ሰፈ...  2021-01-04T11:27:32\n",
       "11258  የኤርትራ ውጭ ጉ/ሚንስትር እና የፕሬዝዳንት ኢሳይያስ አማካሪ የተካተቱበት...  2021-01-05T23:27:06\n",
       "11259  📍ግብፃውያኑ በአባይ (በህዳሴ) ግድብ ጉዳይ ከመጨነቃቸው የተነሳ በቴሌቪዥ...  2021-01-06T08:23:56\n",
       "11261  በአዲስ አበባ ፖፖላሬ አካባቢ በደረሰ የእሳት አደጋ ሁለት ተሽከርካሪዎች ...  2021-01-06T09:22:51\n",
       "11262  የገና ሥጦታ ሎተሪ ዕጣ ውጤት\\n\\nየገና ሥጦታ ሎተሪ ትላንት ማክሰኞ ታህ...  2021-01-06T09:23:52"
      ]
     },

     "execution_count": 20,

     "metadata": {},
     "output_type": "execute_result"
    }
   ],
   "source": [

    "# Convert the dictionary to a Pandas DataFrame\n",

    "df = pd.DataFrame(parsed_message)\n",
    "df.set_index('id', inplace=True)\n",
    "df.head()"
   ]
  },
  {
   "cell_type": "code",

   "execution_count": 21,

   "metadata": {},
   "outputs": [
    {
     "data": {
      "text/plain": [
       "(14429, 2)"
      ]
     },

     "execution_count": 21,

     "metadata": {},
     "output_type": "execute_result"
    }
   ],
   "source": [
    "df.shape"
   ]
  },
  {
   "cell_type": "markdown",
   "metadata": {},
   "source": [

    "#### Save"

   ]
  },
  {
   "cell_type": "code",

   "execution_count": 22,

   "metadata": {},
   "outputs": [],
   "source": [
    "df.to_csv(f'{parsed_dir}/{file_name}.csv')"
   ]

  },
  {
   "cell_type": "code",
   "execution_count": null,
   "metadata": {},
   "outputs": [],
   "source": []

  }
 ],
 "metadata": {
  "kernelspec": {

   "display_name": "venv",

   "language": "python",
   "name": "python3"
  },
  "language_info": {
   "codemirror_mode": {
    "name": "ipython",
    "version": 3
   },
   "file_extension": ".py",
   "mimetype": "text/x-python",
   "name": "python",
   "nbconvert_exporter": "python",
   "pygments_lexer": "ipython3",

   "version": "3.10.13"

  }
 },
 "nbformat": 4,
 "nbformat_minor": 2
}
