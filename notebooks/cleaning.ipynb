{
 "cells": [
  {
   "cell_type": "markdown",
   "metadata": {},
   "source": [
    "### Remove:\n",
    "* Null values, new_line(\"\\n\"), hashtags(\"#*\"), emojis, other characters\n",
    "### Replace:\n",
    "* ['ሐ', 'ሑ', 'ሒ', 'ሓ', 'ሔ', 'ሖ'] with ['ሀ', 'ሁ', 'ሂ', 'ሃ', 'ሄ', 'ህ', 'ሆ']\n",
    "* ['ኀ', 'ኁ', 'ኂ', 'ኃ', 'ኄ', 'ኅ', 'ኆ'] with ['ሀ', 'ሁ', 'ሂ', 'ሃ', 'ሄ', 'ህ', 'ሆ']\n",
    "* ['ሠ', 'ሡ', 'ሢ', 'ሣ', 'ሤ', 'ሦ', 'ሦ', 'ሧ'] with ['ሰ, 'ሱ', 'ሲ', 'ሳ', 'ሴ', 'ስ', 'ሶ', 'ሷ']\n",
    "* ['ዐ', 'ዑ', 'ዒ', 'ዓ', 'ዔ', 'ዕ', 'ዖ'] with ['አ', 'ኡ', 'ኢ', 'ኣ', 'ኤ', 'እ', 'ኦ']\n",
    "* ['ጸ', 'ጹ', 'ጺ', 'ጻ', 'ጼ', 'ጽ', 'ጾ'] with ['ፀ', 'ፁ', 'ፂ', 'ፃ', 'ፄ', 'ፅ', 'ፆ']\n"
   ]
  },
  {
   "cell_type": "markdown",
   "metadata": {},
   "source": [
    "#### Import modules"
   ]
  },
  {
   "cell_type": "code",
   "execution_count": 97,
   "metadata": {},
   "outputs": [],
   "source": [
    "import sys, os\n",
    "import pandas as pd\n",
    "sys.path.append(os.path.abspath(os.path.join('..')))\n",
    "from utils.preprocessing import MyPreprocessing"
   ]
  },
  {
   "cell_type": "markdown",
   "metadata": {},
   "source": [
    "#### Init Variables"
   ]
  },
  {
   "cell_type": "code",
   "execution_count": 98,
   "metadata": {},
   "outputs": [],
   "source": [
    "parsed_dir = \"../data/parsed\"\n",
    "cleaned_dir = \"../data/cleaned\"\n",
    "file_name = \"አዲስ ነገር መረጃ\"\n",
    "preprocess = MyPreprocessing()"
   ]
  },
  {
   "cell_type": "markdown",
   "metadata": {},
   "source": [
    "#### Read parsed data"
   ]
  },
  {
   "cell_type": "code",
   "execution_count": 99,
   "metadata": {},
   "outputs": [
    {
     "data": {
      "text/html": [
       "<div>\n",
       "<style scoped>\n",
       "    .dataframe tbody tr th:only-of-type {\n",
       "        vertical-align: middle;\n",
       "    }\n",
       "\n",
       "    .dataframe tbody tr th {\n",
       "        vertical-align: top;\n",
       "    }\n",
       "\n",
       "    .dataframe thead th {\n",
       "        text-align: right;\n",
       "    }\n",
       "</style>\n",
       "<table border=\"1\" class=\"dataframe\">\n",
       "  <thead>\n",
       "    <tr style=\"text-align: right;\">\n",
       "      <th></th>\n",
       "      <th>text</th>\n",
       "      <th>date</th>\n",
       "    </tr>\n",
       "    <tr>\n",
       "      <th>id</th>\n",
       "      <th></th>\n",
       "      <th></th>\n",
       "    </tr>\n",
       "  </thead>\n",
       "  <tbody>\n",
       "    <tr>\n",
       "      <th>11233</th>\n",
       "      <td>ህወሀት እንደ ቺቺኒያ ያሉ ለመኖርያ ተብለው በማስተር ፕላኑ የተቀመጡ ሰፈ...</td>\n",
       "      <td>2021-01-04T11:27:32</td>\n",
       "    </tr>\n",
       "    <tr>\n",
       "      <th>11258</th>\n",
       "      <td>የኤርትራ ውጭ ጉ/ሚንስትር እና የፕሬዝዳንት ኢሳይያስ አማካሪ የተካተቱበት...</td>\n",
       "      <td>2021-01-05T23:27:06</td>\n",
       "    </tr>\n",
       "    <tr>\n",
       "      <th>11259</th>\n",
       "      <td>📍ግብፃውያኑ በአባይ (በህዳሴ) ግድብ ጉዳይ ከመጨነቃቸው የተነሳ በቴሌቪዥ...</td>\n",
       "      <td>2021-01-06T08:23:56</td>\n",
       "    </tr>\n",
       "    <tr>\n",
       "      <th>11261</th>\n",
       "      <td>በአዲስ አበባ ፖፖላሬ አካባቢ በደረሰ የእሳት አደጋ ሁለት ተሽከርካሪዎች ...</td>\n",
       "      <td>2021-01-06T09:22:51</td>\n",
       "    </tr>\n",
       "    <tr>\n",
       "      <th>11262</th>\n",
       "      <td>የገና ሥጦታ ሎተሪ ዕጣ ውጤት\\n\\nየገና ሥጦታ ሎተሪ ትላንት ማክሰኞ ታህ...</td>\n",
       "      <td>2021-01-06T09:23:52</td>\n",
       "    </tr>\n",
       "  </tbody>\n",
       "</table>\n",
       "</div>"
      ],
      "text/plain": [
       "                                                    text                 date\n",
       "id                                                                           \n",
       "11233  ህወሀት እንደ ቺቺኒያ ያሉ ለመኖርያ ተብለው በማስተር ፕላኑ የተቀመጡ ሰፈ...  2021-01-04T11:27:32\n",
       "11258  የኤርትራ ውጭ ጉ/ሚንስትር እና የፕሬዝዳንት ኢሳይያስ አማካሪ የተካተቱበት...  2021-01-05T23:27:06\n",
       "11259  📍ግብፃውያኑ በአባይ (በህዳሴ) ግድብ ጉዳይ ከመጨነቃቸው የተነሳ በቴሌቪዥ...  2021-01-06T08:23:56\n",
       "11261  በአዲስ አበባ ፖፖላሬ አካባቢ በደረሰ የእሳት አደጋ ሁለት ተሽከርካሪዎች ...  2021-01-06T09:22:51\n",
       "11262  የገና ሥጦታ ሎተሪ ዕጣ ውጤት\\n\\nየገና ሥጦታ ሎተሪ ትላንት ማክሰኞ ታህ...  2021-01-06T09:23:52"
      ]
     },
     "execution_count": 99,
     "metadata": {},
     "output_type": "execute_result"
    }
   ],
   "source": [
    "df = pd.read_csv(f\"{parsed_dir}/{file_name}.csv\", index_col='id')\n",

    "df.head()"

   ]
  },
  {
   "cell_type": "code",
   "execution_count": 100,
   "metadata": {},
   "outputs": [
    {
     "data": {
      "text/plain": [
       "(14429, 2)"
      ]
     },

     "execution_count": 100,

     "metadata": {},
     "output_type": "execute_result"
    }
   ],
   "source": [
    "df.shape"
   ]
  },
  {
   "cell_type": "markdown",
   "metadata": {},
   "source": [
    "#### Remove null values"
   ]
  },
  {
   "cell_type": "code",
   "execution_count": 101,
   "metadata": {},
   "outputs": [
    {
     "data": {
      "text/html": [
       "<div>\n",
       "<style scoped>\n",
       "    .dataframe tbody tr th:only-of-type {\n",
       "        vertical-align: middle;\n",
       "    }\n",
       "\n",
       "    .dataframe tbody tr th {\n",
       "        vertical-align: top;\n",
       "    }\n",
       "\n",
       "    .dataframe thead th {\n",
       "        text-align: right;\n",
       "    }\n",
       "</style>\n",
       "<table border=\"1\" class=\"dataframe\">\n",
       "  <thead>\n",
       "    <tr style=\"text-align: right;\">\n",
       "      <th></th>\n",
       "      <th>text</th>\n",
       "      <th>date</th>\n",
       "    </tr>\n",
       "    <tr>\n",
       "      <th>id</th>\n",
       "      <th></th>\n",
       "      <th></th>\n",
       "    </tr>\n",
       "  </thead>\n",
       "  <tbody>\n",
       "    <tr>\n",
       "      <th>11233</th>\n",
       "      <td>ህወሀት እንደ ቺቺኒያ ያሉ ለመኖርያ ተብለው በማስተር ፕላኑ የተቀመጡ ሰፈ...</td>\n",
       "      <td>2021-01-04T11:27:32</td>\n",
       "    </tr>\n",
       "    <tr>\n",
       "      <th>11258</th>\n",
       "      <td>የኤርትራ ውጭ ጉ/ሚንስትር እና የፕሬዝዳንት ኢሳይያስ አማካሪ የተካተቱበት...</td>\n",
       "      <td>2021-01-05T23:27:06</td>\n",
       "    </tr>\n",
       "    <tr>\n",
       "      <th>11259</th>\n",
       "      <td>📍ግብፃውያኑ በአባይ (በህዳሴ) ግድብ ጉዳይ ከመጨነቃቸው የተነሳ በቴሌቪዥ...</td>\n",
       "      <td>2021-01-06T08:23:56</td>\n",
       "    </tr>\n",
       "    <tr>\n",
       "      <th>11261</th>\n",
       "      <td>በአዲስ አበባ ፖፖላሬ አካባቢ በደረሰ የእሳት አደጋ ሁለት ተሽከርካሪዎች ...</td>\n",
       "      <td>2021-01-06T09:22:51</td>\n",
       "    </tr>\n",
       "    <tr>\n",
       "      <th>11262</th>\n",
       "      <td>የገና ሥጦታ ሎተሪ ዕጣ ውጤት\\n\\nየገና ሥጦታ ሎተሪ ትላንት ማክሰኞ ታህ...</td>\n",
       "      <td>2021-01-06T09:23:52</td>\n",
       "    </tr>\n",
       "  </tbody>\n",
       "</table>\n",
       "</div>"
      ],
      "text/plain": [
       "                                                    text                 date\n",
       "id                                                                           \n",
       "11233  ህወሀት እንደ ቺቺኒያ ያሉ ለመኖርያ ተብለው በማስተር ፕላኑ የተቀመጡ ሰፈ...  2021-01-04T11:27:32\n",
       "11258  የኤርትራ ውጭ ጉ/ሚንስትር እና የፕሬዝዳንት ኢሳይያስ አማካሪ የተካተቱበት...  2021-01-05T23:27:06\n",
       "11259  📍ግብፃውያኑ በአባይ (በህዳሴ) ግድብ ጉዳይ ከመጨነቃቸው የተነሳ በቴሌቪዥ...  2021-01-06T08:23:56\n",
       "11261  በአዲስ አበባ ፖፖላሬ አካባቢ በደረሰ የእሳት አደጋ ሁለት ተሽከርካሪዎች ...  2021-01-06T09:22:51\n",
       "11262  የገና ሥጦታ ሎተሪ ዕጣ ውጤት\\n\\nየገና ሥጦታ ሎተሪ ትላንት ማክሰኞ ታህ...  2021-01-06T09:23:52"
      ]
     },
     "execution_count": 101,
     "metadata": {},
     "output_type": "execute_result"
    }
   ],
   "source": [
    "df = df.dropna()\n",
    "df.head()"
   ]
  },
  {
   "cell_type": "code",
   "execution_count": 102,
   "metadata": {},
   "outputs": [
    {
     "data": {
      "text/plain": [
       "(14429, 2)"
      ]
     },
     "execution_count": 102,
     "metadata": {},
     "output_type": "execute_result"
    }
   ],
   "source": [
    "df.shape"
   ]
  },
  {
   "cell_type": "markdown",
   "metadata": {},
   "source": [
    "#### Remove new line"
   ]
  },
  {
   "cell_type": "code",
   "execution_count": 103,
   "metadata": {},
   "outputs": [
    {
     "data": {
      "text/html": [
       "<div>\n",
       "<style scoped>\n",
       "    .dataframe tbody tr th:only-of-type {\n",
       "        vertical-align: middle;\n",
       "    }\n",
       "\n",
       "    .dataframe tbody tr th {\n",
       "        vertical-align: top;\n",
       "    }\n",
       "\n",
       "    .dataframe thead th {\n",
       "        text-align: right;\n",
       "    }\n",
       "</style>\n",
       "<table border=\"1\" class=\"dataframe\">\n",
       "  <thead>\n",
       "    <tr style=\"text-align: right;\">\n",
       "      <th></th>\n",
       "      <th>text</th>\n",
       "      <th>date</th>\n",
       "    </tr>\n",
       "    <tr>\n",
       "      <th>id</th>\n",
       "      <th></th>\n",
       "      <th></th>\n",
       "    </tr>\n",
       "  </thead>\n",
       "  <tbody>\n",
       "    <tr>\n",
       "      <th>11233</th>\n",
       "      <td>ህወሀት እንደ ቺቺኒያ ያሉ ለመኖርያ ተብለው በማስተር ፕላኑ የተቀመጡ ሰፈ...</td>\n",
       "      <td>2021-01-04T11:27:32</td>\n",
       "    </tr>\n",
       "    <tr>\n",
       "      <th>11258</th>\n",
       "      <td>የኤርትራ ውጭ ጉ/ሚንስትር እና የፕሬዝዳንት ኢሳይያስ አማካሪ የተካተቱበት...</td>\n",
       "      <td>2021-01-05T23:27:06</td>\n",
       "    </tr>\n",
       "    <tr>\n",
       "      <th>11259</th>\n",
       "      <td>📍ግብፃውያኑ በአባይ (በህዳሴ) ግድብ ጉዳይ ከመጨነቃቸው የተነሳ በቴሌቪዥ...</td>\n",
       "      <td>2021-01-06T08:23:56</td>\n",
       "    </tr>\n",
       "    <tr>\n",
       "      <th>11261</th>\n",
       "      <td>በአዲስ አበባ ፖፖላሬ አካባቢ በደረሰ የእሳት አደጋ ሁለት ተሽከርካሪዎች ...</td>\n",
       "      <td>2021-01-06T09:22:51</td>\n",
       "    </tr>\n",
       "    <tr>\n",
       "      <th>11262</th>\n",
       "      <td>የገና ሥጦታ ሎተሪ ዕጣ ውጤት  የገና ሥጦታ ሎተሪ ትላንት ማክሰኞ ታህሳስ...</td>\n",
       "      <td>2021-01-06T09:23:52</td>\n",
       "    </tr>\n",
       "  </tbody>\n",
       "</table>\n",
       "</div>"
      ],
      "text/plain": [
       "                                                    text                 date\n",
       "id                                                                           \n",
       "11233  ህወሀት እንደ ቺቺኒያ ያሉ ለመኖርያ ተብለው በማስተር ፕላኑ የተቀመጡ ሰፈ...  2021-01-04T11:27:32\n",
       "11258  የኤርትራ ውጭ ጉ/ሚንስትር እና የፕሬዝዳንት ኢሳይያስ አማካሪ የተካተቱበት...  2021-01-05T23:27:06\n",
       "11259  📍ግብፃውያኑ በአባይ (በህዳሴ) ግድብ ጉዳይ ከመጨነቃቸው የተነሳ በቴሌቪዥ...  2021-01-06T08:23:56\n",
       "11261  በአዲስ አበባ ፖፖላሬ አካባቢ በደረሰ የእሳት አደጋ ሁለት ተሽከርካሪዎች ...  2021-01-06T09:22:51\n",
       "11262  የገና ሥጦታ ሎተሪ ዕጣ ውጤት  የገና ሥጦታ ሎተሪ ትላንት ማክሰኞ ታህሳስ...  2021-01-06T09:23:52"
      ]
     },
     "execution_count": 103,
     "metadata": {},
     "output_type": "execute_result"
    }
   ],
   "source": [
    "df = df.replace('\\n', ' ', regex=True)\n",
    "df.head()"
   ]
  },
  {
   "cell_type": "markdown",
   "metadata": {},
   "source": [
    "#### Extract and remove hasthags"
   ]
  },
  {
   "cell_type": "code",
   "execution_count": 104,
   "metadata": {},
   "outputs": [
    {
     "data": {
      "text/html": [
       "<div>\n",
       "<style scoped>\n",
       "    .dataframe tbody tr th:only-of-type {\n",
       "        vertical-align: middle;\n",
       "    }\n",
       "\n",
       "    .dataframe tbody tr th {\n",
       "        vertical-align: top;\n",
       "    }\n",
       "\n",
       "    .dataframe thead th {\n",
       "        text-align: right;\n",
       "    }\n",
       "</style>\n",
       "<table border=\"1\" class=\"dataframe\">\n",
       "  <thead>\n",
       "    <tr style=\"text-align: right;\">\n",
       "      <th></th>\n",
       "      <th>text</th>\n",
       "      <th>date</th>\n",
       "      <th>hashtags</th>\n",
       "    </tr>\n",
       "    <tr>\n",
       "      <th>id</th>\n",
       "      <th></th>\n",
       "      <th></th>\n",
       "      <th></th>\n",
       "    </tr>\n",
       "  </thead>\n",
       "  <tbody>\n",
       "    <tr>\n",
       "      <th>11233</th>\n",
       "      <td>ህወሀት እንደ ቺቺኒያ ያሉ ለመኖርያ ተብለው በማስተር ፕላኑ የተቀመጡ ሰፈ...</td>\n",
       "      <td>2021-01-04T11:27:32</td>\n",
       "      <td>[]</td>\n",
       "    </tr>\n",
       "    <tr>\n",
       "      <th>11258</th>\n",
       "      <td>የኤርትራ ውጭ ጉ/ሚንስትር እና የፕሬዝዳንት ኢሳይያስ አማካሪ የተካተቱበት...</td>\n",
       "      <td>2021-01-05T23:27:06</td>\n",
       "      <td>[]</td>\n",
       "    </tr>\n",
       "    <tr>\n",
       "      <th>11259</th>\n",
       "      <td>📍ግብፃውያኑ በአባይ (በህዳሴ) ግድብ ጉዳይ ከመጨነቃቸው የተነሳ በቴሌቪዥ...</td>\n",
       "      <td>2021-01-06T08:23:56</td>\n",
       "      <td>[]</td>\n",
       "    </tr>\n",
       "    <tr>\n",
       "      <th>11261</th>\n",
       "      <td>በአዲስ አበባ ፖፖላሬ አካባቢ በደረሰ የእሳት አደጋ ሁለት ተሽከርካሪዎች ...</td>\n",
       "      <td>2021-01-06T09:22:51</td>\n",
       "      <td>[#ዳጉ_ጆርናል]</td>\n",
       "    </tr>\n",
       "    <tr>\n",
       "      <th>11262</th>\n",
       "      <td>የገና ሥጦታ ሎተሪ ዕጣ ውጤት  የገና ሥጦታ ሎተሪ ትላንት ማክሰኞ ታህሳስ...</td>\n",
       "      <td>2021-01-06T09:23:52</td>\n",
       "      <td>[]</td>\n",
       "    </tr>\n",
       "  </tbody>\n",
       "</table>\n",
       "</div>"
      ],
      "text/plain": [
       "                                                    text                 date  \\\n",
       "id                                                                              \n",
       "11233  ህወሀት እንደ ቺቺኒያ ያሉ ለመኖርያ ተብለው በማስተር ፕላኑ የተቀመጡ ሰፈ...  2021-01-04T11:27:32   \n",
       "11258  የኤርትራ ውጭ ጉ/ሚንስትር እና የፕሬዝዳንት ኢሳይያስ አማካሪ የተካተቱበት...  2021-01-05T23:27:06   \n",
       "11259  📍ግብፃውያኑ በአባይ (በህዳሴ) ግድብ ጉዳይ ከመጨነቃቸው የተነሳ በቴሌቪዥ...  2021-01-06T08:23:56   \n",
       "11261  በአዲስ አበባ ፖፖላሬ አካባቢ በደረሰ የእሳት አደጋ ሁለት ተሽከርካሪዎች ...  2021-01-06T09:22:51   \n",
       "11262  የገና ሥጦታ ሎተሪ ዕጣ ውጤት  የገና ሥጦታ ሎተሪ ትላንት ማክሰኞ ታህሳስ...  2021-01-06T09:23:52   \n",
       "\n",
       "         hashtags  \n",
       "id                 \n",
       "11233          []  \n",
       "11258          []  \n",
       "11259          []  \n",
       "11261  [#ዳጉ_ጆርናል]  \n",
       "11262          []  "
      ]
     },
     "execution_count": 104,
     "metadata": {},
     "output_type": "execute_result"
    }
   ],
   "source": [
    "# Extract hashtags\n",
    "df['hashtags'] = df['text'].apply(lambda x: preprocess.extract_hashtags(x))\n",
    "df.head()"
   ]
  },
  {
   "cell_type": "code",

   "execution_count": 105,

   "metadata": {},
   "outputs": [
    {
     "data": {
      "text/html": [
       "<div>\n",
       "<style scoped>\n",
       "    .dataframe tbody tr th:only-of-type {\n",
       "        vertical-align: middle;\n",
       "    }\n",
       "\n",
       "    .dataframe tbody tr th {\n",
       "        vertical-align: top;\n",
       "    }\n",
       "\n",
       "    .dataframe thead th {\n",
       "        text-align: right;\n",
       "    }\n",
       "</style>\n",
       "<table border=\"1\" class=\"dataframe\">\n",
       "  <thead>\n",
       "    <tr style=\"text-align: right;\">\n",
       "      <th></th>\n",
       "      <th>text</th>\n",
       "      <th>date</th>\n",
       "      <th>hashtags</th>\n",
       "    </tr>\n",
       "    <tr>\n",
       "      <th>id</th>\n",
       "      <th></th>\n",
       "      <th></th>\n",
       "      <th></th>\n",
       "    </tr>\n",
       "  </thead>\n",
       "  <tbody>\n",
       "    <tr>\n",
       "      <th>11233</th>\n",
       "      <td>ህወሀት እንደ ቺቺኒያ ያሉ ለመኖርያ ተብለው በማስተር ፕላኑ የተቀመጡ ሰፈ...</td>\n",
       "      <td>2021-01-04T11:27:32</td>\n",
       "      <td>[]</td>\n",
       "    </tr>\n",
       "    <tr>\n",
       "      <th>11258</th>\n",
       "      <td>የኤርትራ ውጭ ጉ/ሚንስትር እና የፕሬዝዳንት ኢሳይያስ አማካሪ የተካተቱበት...</td>\n",
       "      <td>2021-01-05T23:27:06</td>\n",
       "      <td>[]</td>\n",
       "    </tr>\n",
       "    <tr>\n",
       "      <th>11259</th>\n",
       "      <td>📍ግብፃውያኑ በአባይ (በህዳሴ) ግድብ ጉዳይ ከመጨነቃቸው የተነሳ በቴሌቪዥ...</td>\n",
       "      <td>2021-01-06T08:23:56</td>\n",
       "      <td>[]</td>\n",
       "    </tr>\n",
       "    <tr>\n",
       "      <th>11261</th>\n",
       "      <td>በአዲስ አበባ ፖፖላሬ አካባቢ በደረሰ የእሳት አደጋ ሁለት ተሽከርካሪዎች ...</td>\n",
       "      <td>2021-01-06T09:22:51</td>\n",
       "      <td>[#ዳጉ_ጆርናል]</td>\n",
       "    </tr>\n",
       "    <tr>\n",
       "      <th>11262</th>\n",
       "      <td>የገና ሥጦታ ሎተሪ ዕጣ ውጤት  የገና ሥጦታ ሎተሪ ትላንት ማክሰኞ ታህሳስ...</td>\n",
       "      <td>2021-01-06T09:23:52</td>\n",
       "      <td>[]</td>\n",
       "    </tr>\n",
       "  </tbody>\n",
       "</table>\n",
       "</div>"
      ],
      "text/plain": [
       "                                                    text                 date  \\\n",
       "id                                                                              \n",
       "11233  ህወሀት እንደ ቺቺኒያ ያሉ ለመኖርያ ተብለው በማስተር ፕላኑ የተቀመጡ ሰፈ...  2021-01-04T11:27:32   \n",
       "11258  የኤርትራ ውጭ ጉ/ሚንስትር እና የፕሬዝዳንት ኢሳይያስ አማካሪ የተካተቱበት...  2021-01-05T23:27:06   \n",
       "11259  📍ግብፃውያኑ በአባይ (በህዳሴ) ግድብ ጉዳይ ከመጨነቃቸው የተነሳ በቴሌቪዥ...  2021-01-06T08:23:56   \n",
       "11261  በአዲስ አበባ ፖፖላሬ አካባቢ በደረሰ የእሳት አደጋ ሁለት ተሽከርካሪዎች ...  2021-01-06T09:22:51   \n",
       "11262  የገና ሥጦታ ሎተሪ ዕጣ ውጤት  የገና ሥጦታ ሎተሪ ትላንት ማክሰኞ ታህሳስ...  2021-01-06T09:23:52   \n",
       "\n",
       "         hashtags  \n",
       "id                 \n",
       "11233          []  \n",
       "11258          []  \n",
       "11259          []  \n",
       "11261  [#ዳጉ_ጆርናል]  \n",
       "11262          []  "
      ]
     },
     "execution_count": 105,
     "metadata": {},
     "output_type": "execute_result"
    }
   ],
   "source": [

    "# Remove hashtags from text\n",

    "df['text'] = df['text'].str.replace(r'\\#\\w+', '', regex=True)\n",
    "df.head()"
   ]
  },
  {

   "cell_type": "markdown",
   "metadata": {},
   "source": [
    "#### Extract emojis"
   ]
  },
  {
   "cell_type": "code",
   "execution_count": 106,

   "metadata": {},
   "outputs": [
    {
     "data": {
      "text/html": [
       "<div>\n",
       "<style scoped>\n",
       "    .dataframe tbody tr th:only-of-type {\n",
       "        vertical-align: middle;\n",
       "    }\n",
       "\n",
       "    .dataframe tbody tr th {\n",
       "        vertical-align: top;\n",
       "    }\n",
       "\n",
       "    .dataframe thead th {\n",
       "        text-align: right;\n",
       "    }\n",
       "</style>\n",
       "<table border=\"1\" class=\"dataframe\">\n",
       "  <thead>\n",
       "    <tr style=\"text-align: right;\">\n",
       "      <th></th>\n",
       "      <th>text</th>\n",
       "      <th>date</th>\n",
       "      <th>hashtags</th>\n",
       "      <th>emojis</th>\n",
       "    </tr>\n",
       "    <tr>\n",
       "      <th>id</th>\n",
       "      <th></th>\n",
       "      <th></th>\n",
       "      <th></th>\n",
       "      <th></th>\n",
       "    </tr>\n",
       "  </thead>\n",
       "  <tbody>\n",
       "    <tr>\n",
       "      <th>32835</th>\n",
       "      <td>ንግድ ሚንስቴር፣ ቢጂአይ ኢትዮጵያ ሜታ አቦ ቢራ ፋብሪካን በባለቤትነት እ...</td>\n",
       "      <td>2024-01-04T08:00:01</td>\n",
       "      <td>[]</td>\n",
       "      <td></td>\n",
       "    </tr>\n",
       "    <tr>\n",
       "      <th>32836</th>\n",
       "      <td>የኢትዮጵያ መንግሥት ለሱማሌላንድ የአገርነት እውቅና መስጠትን ጉዳይ በሂደ...</td>\n",
       "      <td>2024-01-04T08:20:01</td>\n",
       "      <td>[]</td>\n",
       "      <td></td>\n",
       "    </tr>\n",
       "    <tr>\n",
       "      <th>32837</th>\n",
       "      <td>ኦሮሚያ ክልል ሆሮ ጉዱሩ ወለጋ ዞን የሚገኘው የፊንጫ ስኳር ፋብሪካ ሠራተ...</td>\n",
       "      <td>2024-01-04T09:04:01</td>\n",
       "      <td>[]</td>\n",
       "      <td></td>\n",
       "    </tr>\n",
       "    <tr>\n",
       "      <th>32838</th>\n",
       "      <td>የምስራቅ አፍሪካ የልማት በይነ መንግስታት ድርጅት (ኢጋድ) ዋና ፀሀፊ ዶ...</td>\n",
       "      <td>2024-01-04T10:30:22</td>\n",
       "      <td>[]</td>\n",
       "      <td></td>\n",
       "    </tr>\n",
       "    <tr>\n",
       "      <th>32840</th>\n",
       "      <td>አሜሪካና አጋሮቿ ለሁቲ አማጺያን ቡድን የመጨረሻ ማስጠንቀቂያ ሰጡ::  አ...</td>\n",
       "      <td>2024-01-04T11:45:05</td>\n",
       "      <td>[]</td>\n",
       "      <td></td>\n",
       "    </tr>\n",
       "  </tbody>\n",
       "</table>\n",
       "</div>"
      ],
      "text/plain": [
       "                                                    text                 date  \\\n",
       "id                                                                              \n",
       "32835  ንግድ ሚንስቴር፣ ቢጂአይ ኢትዮጵያ ሜታ አቦ ቢራ ፋብሪካን በባለቤትነት እ...  2024-01-04T08:00:01   \n",
       "32836  የኢትዮጵያ መንግሥት ለሱማሌላንድ የአገርነት እውቅና መስጠትን ጉዳይ በሂደ...  2024-01-04T08:20:01   \n",
       "32837  ኦሮሚያ ክልል ሆሮ ጉዱሩ ወለጋ ዞን የሚገኘው የፊንጫ ስኳር ፋብሪካ ሠራተ...  2024-01-04T09:04:01   \n",
       "32838  የምስራቅ አፍሪካ የልማት በይነ መንግስታት ድርጅት (ኢጋድ) ዋና ፀሀፊ ዶ...  2024-01-04T10:30:22   \n",
       "32840  አሜሪካና አጋሮቿ ለሁቲ አማጺያን ቡድን የመጨረሻ ማስጠንቀቂያ ሰጡ::  አ...  2024-01-04T11:45:05   \n",
       "\n",
       "      hashtags emojis  \n",
       "id                     \n",
       "32835       []         \n",
       "32836       []         \n",
       "32837       []         \n",
       "32838       []         \n",
       "32840       []         "
      ]
     },

     "execution_count": 106,

     "metadata": {},
     "output_type": "execute_result"
    }
   ],
   "source": [

    "# Extract emojis using regex\n",
    "df['emojis'] = df['text'].apply(preprocess.extract_emojis)\n",

    "df.tail()"
   ]
  },
  {
   "cell_type": "code",

   "execution_count": 107,
   "metadata": {},
   "outputs": [],
   "source": [
    "# df_826 = df.loc[826]\n",
    "# df_826"
   ]
  },
  {
   "cell_type": "markdown",
   "metadata": {},
   "source": [
    "#### Remove emojis from text"
   ]
  },
  {
   "cell_type": "code",
   "execution_count": 108,
   "metadata": {},
   "outputs": [],
   "source": [
    "df['text'] = df['text'].apply(preprocess.remove_emojis)"

   ]
  },
  {
   "cell_type": "code",

   "execution_count": 109,
   "metadata": {},
   "outputs": [],
   "source": [
    "# df_826 = df.loc[826]\n",
    "# df_826"

   ]
  },
  {
   "cell_type": "markdown",
   "metadata": {},
   "source": [

    "#### Replace letters:\n",
    "* ['ሐ', 'ሑ', 'ሒ', 'ሓ', 'ሔ', 'ሖ'] with ['ሀ', 'ሁ', 'ሂ', 'ሃ', 'ሄ', 'ህ', 'ሆ']\n",
    "* ['ኀ', 'ኁ', 'ኂ', 'ኃ', 'ኄ', 'ኅ', 'ኆ'] with ['ሀ', 'ሁ', 'ሂ', 'ሃ', 'ሄ', 'ህ', 'ሆ']\n",
    "* ['ሠ', 'ሡ', 'ሢ', 'ሣ', 'ሤ', 'ሦ', 'ሦ', 'ሧ'] with ['ሰ, 'ሱ', 'ሲ', 'ሳ', 'ሴ', 'ስ', 'ሶ', 'ሷ']\n",
    "* ['ዐ', 'ዑ', 'ዒ', 'ዓ', 'ዔ', 'ዕ', 'ዖ'] with ['አ', 'ኡ', 'ኢ', 'ኣ', 'ኤ', 'እ', 'ኦ']\n",
    "* ['ጸ', 'ጹ', 'ጺ', 'ጻ', 'ጼ', 'ጽ', 'ጾ'] with ['ፀ', 'ፁ', 'ፂ', 'ፃ', 'ፄ', 'ፅ', 'ፆ']"

   ]
  },
  {
   "cell_type": "code",

   "execution_count": 110,

   "metadata": {},
   "outputs": [],
   "source": [
    "letters = [\n",
    "  [['ሐ', 'ሑ', 'ሒ', 'ሓ', 'ሔ', 'ሖ'], ['ሀ', 'ሁ', 'ሂ', 'ሃ', 'ሄ', 'ህ', 'ሆ']],\n",
    "  [['ኀ', 'ኁ', 'ኂ', 'ኃ', 'ኄ', 'ኅ', 'ኆ'], ['ሀ', 'ሁ', 'ሂ', 'ሃ', 'ሄ', 'ህ', 'ሆ']],\n",
    "  [['ሠ', 'ሡ', 'ሢ', 'ሣ', 'ሤ', 'ሦ', 'ሦ', 'ሧ'], ['ሰ', 'ሱ', 'ሲ', 'ሳ', 'ሴ', 'ስ', 'ሶ', 'ሷ']],\n",
    "  [['ዐ', 'ዑ', 'ዒ', 'ዓ', 'ዔ', 'ዕ', 'ዖ'], ['አ', 'ኡ', 'ኢ', 'ኣ', 'ኤ', 'እ', 'ኦ']],\n",
    "  [['ጸ', 'ጹ', 'ጺ', 'ጻ', 'ጼ', 'ጽ', 'ጾ'], ['ፀ', 'ፁ', 'ፂ', 'ፃ', 'ፄ', 'ፅ', 'ፆ']]\n",
    "]\n",
    "for letter in letters:\n",
    "  for i in range(len(letter[0])):\n",

    "    df['text'] = df['text'].str.replace(letter[0][i], letter[1][i])\n",
    "    \n"

   ]
  },
  {
   "cell_type": "markdown",
   "metadata": {},
   "source": [
    "#### Extract symbols"
   ]
  },
  {
   "cell_type": "code",

   "execution_count": 111,

   "metadata": {},
   "outputs": [
    {
     "data": {
      "text/html": [
       "<div>\n",
       "<style scoped>\n",
       "    .dataframe tbody tr th:only-of-type {\n",
       "        vertical-align: middle;\n",
       "    }\n",
       "\n",
       "    .dataframe tbody tr th {\n",
       "        vertical-align: top;\n",
       "    }\n",
       "\n",
       "    .dataframe thead th {\n",
       "        text-align: right;\n",
       "    }\n",
       "</style>\n",
       "<table border=\"1\" class=\"dataframe\">\n",
       "  <thead>\n",
       "    <tr style=\"text-align: right;\">\n",
       "      <th></th>\n",
       "      <th>text</th>\n",
       "      <th>date</th>\n",
       "      <th>hashtags</th>\n",
       "      <th>emojis</th>\n",
       "      <th>symbols</th>\n",
       "    </tr>\n",
       "    <tr>\n",
       "      <th>id</th>\n",
       "      <th></th>\n",
       "      <th></th>\n",
       "      <th></th>\n",
       "      <th></th>\n",
       "      <th></th>\n",
       "    </tr>\n",
       "  </thead>\n",
       "  <tbody>\n",
       "    <tr>\n",
       "      <th>32835</th>\n",
       "      <td>ንግድ ሚንስቴር፣ ቢጂአይ ኢትዮጵያ ሜታ አቦ ቢራ ፋብሪካን በባለቤትነት እ...</td>\n",
       "      <td>2024-01-04T08:00:01</td>\n",
       "      <td>[]</td>\n",
       "      <td></td>\n",
       "      <td>_</td>\n",
       "    </tr>\n",
       "    <tr>\n",
       "      <th>32836</th>\n",
       "      <td>የኢትዮጵያ መንግሥት ለሱማሌላንድ የአገርነት እውቅና መስጠትን ጉዳይ በሂደ...</td>\n",
       "      <td>2024-01-04T08:20:01</td>\n",
       "      <td>[]</td>\n",
       "      <td></td>\n",
       "      <td>\"\"\"\"\"\"\"\"_</td>\n",
       "    </tr>\n",
       "    <tr>\n",
       "      <th>32837</th>\n",
       "      <td>ኦሮሚያ ክልል ሆሮ ጉዱሩ ወለጋ ዞን የሚገኘው የፊንጫ ስኳር ፋብሪካ ሰራተ...</td>\n",
       "      <td>2024-01-04T09:04:01</td>\n",
       "      <td>[]</td>\n",
       "      <td></td>\n",
       "      <td>_</td>\n",
       "    </tr>\n",
       "    <tr>\n",
       "      <th>32838</th>\n",
       "      <td>የምስራቅ አፍሪካ የልማት በይነ መንግስታት ድርጅት (ኢጋድ) ዋና ፀሀፊ ዶ...</td>\n",
       "      <td>2024-01-04T10:30:22</td>\n",
       "      <td>[]</td>\n",
       "      <td></td>\n",
       "      <td>\"\"_</td>\n",
       "    </tr>\n",
       "    <tr>\n",
       "      <th>32840</th>\n",
       "      <td>አሜሪካና አጋሮቿ ለሁቲ አማፂያን ቡድን የመጨረሻ ማስጠንቀቂያ ሰጡ::  አ...</td>\n",
       "      <td>2024-01-04T11:45:05</td>\n",
       "      <td>[]</td>\n",
       "      <td></td>\n",
       "      <td>_</td>\n",
       "    </tr>\n",
       "  </tbody>\n",
       "</table>\n",
       "</div>"
      ],
      "text/plain": [
       "                                                    text                 date  \\\n",
       "id                                                                              \n",
       "32835  ንግድ ሚንስቴር፣ ቢጂአይ ኢትዮጵያ ሜታ አቦ ቢራ ፋብሪካን በባለቤትነት እ...  2024-01-04T08:00:01   \n",
       "32836  የኢትዮጵያ መንግሥት ለሱማሌላንድ የአገርነት እውቅና መስጠትን ጉዳይ በሂደ...  2024-01-04T08:20:01   \n",
       "32837  ኦሮሚያ ክልል ሆሮ ጉዱሩ ወለጋ ዞን የሚገኘው የፊንጫ ስኳር ፋብሪካ ሰራተ...  2024-01-04T09:04:01   \n",
       "32838  የምስራቅ አፍሪካ የልማት በይነ መንግስታት ድርጅት (ኢጋድ) ዋና ፀሀፊ ዶ...  2024-01-04T10:30:22   \n",
       "32840  አሜሪካና አጋሮቿ ለሁቲ አማፂያን ቡድን የመጨረሻ ማስጠንቀቂያ ሰጡ::  አ...  2024-01-04T11:45:05   \n",
       "\n",
       "      hashtags emojis    symbols  \n",
       "id                                \n",
       "32835       []                 _  \n",
       "32836       []         \"\"\"\"\"\"\"\"_  \n",
       "32837       []                 _  \n",
       "32838       []               \"\"_  \n",
       "32840       []                 _  "
      ]
     },

     "execution_count": 111,

     "metadata": {},
     "output_type": "execute_result"
    }
   ],
   "source": [

    "df['symbols'] = df['text'].apply(preprocess.extract_symbols)\n",

    "df.tail()"
   ]
  },
  {
   "cell_type": "code",

   "execution_count": 112,

   "metadata": {},
   "outputs": [
    {
     "data": {
      "text/html": [
       "<div>\n",
       "<style scoped>\n",
       "    .dataframe tbody tr th:only-of-type {\n",
       "        vertical-align: middle;\n",
       "    }\n",
       "\n",
       "    .dataframe tbody tr th {\n",
       "        vertical-align: top;\n",
       "    }\n",
       "\n",
       "    .dataframe thead th {\n",
       "        text-align: right;\n",
       "    }\n",
       "</style>\n",
       "<table border=\"1\" class=\"dataframe\">\n",
       "  <thead>\n",
       "    <tr style=\"text-align: right;\">\n",
       "      <th></th>\n",
       "      <th>text</th>\n",
       "      <th>date</th>\n",
       "      <th>hashtags</th>\n",
       "      <th>emojis</th>\n",
       "      <th>symbols</th>\n",
       "    </tr>\n",
       "    <tr>\n",
       "      <th>id</th>\n",
       "      <th></th>\n",
       "      <th></th>\n",
       "      <th></th>\n",
       "      <th></th>\n",
       "      <th></th>\n",
       "    </tr>\n",
       "  </thead>\n",
       "  <tbody>\n",
       "    <tr>\n",
       "      <th>32835</th>\n",
       "      <td>ንግድ ሚንስቴር፣ ቢጂአይ ኢትዮጵያ ሜታ አቦ ቢራ ፋብሪካን በባለቤትነት እ...</td>\n",
       "      <td>2024-01-04T08:00:01</td>\n",
       "      <td>[]</td>\n",
       "      <td></td>\n",
       "      <td>_</td>\n",
       "    </tr>\n",
       "    <tr>\n",
       "      <th>32836</th>\n",
       "      <td>የኢትዮጵያ መንግሥት ለሱማሌላንድ የአገርነት እውቅና መስጠትን ጉዳይ በሂደ...</td>\n",
       "      <td>2024-01-04T08:20:01</td>\n",
       "      <td>[]</td>\n",
       "      <td></td>\n",
       "      <td>\"\"\"\"\"\"\"\"_</td>\n",
       "    </tr>\n",
       "    <tr>\n",
       "      <th>32837</th>\n",
       "      <td>ኦሮሚያ ክልል ሆሮ ጉዱሩ ወለጋ ዞን የሚገኘው የፊንጫ ስኳር ፋብሪካ ሰራተ...</td>\n",
       "      <td>2024-01-04T09:04:01</td>\n",
       "      <td>[]</td>\n",
       "      <td></td>\n",
       "      <td>_</td>\n",
       "    </tr>\n",
       "    <tr>\n",
       "      <th>32838</th>\n",
       "      <td>የምስራቅ አፍሪካ የልማት በይነ መንግስታት ድርጅት (ኢጋድ) ዋና ፀሀፊ ዶ...</td>\n",
       "      <td>2024-01-04T10:30:22</td>\n",
       "      <td>[]</td>\n",
       "      <td></td>\n",
       "      <td>\"\"_</td>\n",
       "    </tr>\n",
       "    <tr>\n",
       "      <th>32840</th>\n",
       "      <td>አሜሪካና አጋሮቿ ለሁቲ አማፂያን ቡድን የመጨረሻ ማስጠንቀቂያ ሰጡ::  አ...</td>\n",
       "      <td>2024-01-04T11:45:05</td>\n",
       "      <td>[]</td>\n",
       "      <td></td>\n",
       "      <td>_</td>\n",
       "    </tr>\n",
       "  </tbody>\n",
       "</table>\n",
       "</div>"
      ],
      "text/plain": [
       "                                                    text                 date  \\\n",
       "id                                                                              \n",
       "32835  ንግድ ሚንስቴር፣ ቢጂአይ ኢትዮጵያ ሜታ አቦ ቢራ ፋብሪካን በባለቤትነት እ...  2024-01-04T08:00:01   \n",
       "32836  የኢትዮጵያ መንግሥት ለሱማሌላንድ የአገርነት እውቅና መስጠትን ጉዳይ በሂደ...  2024-01-04T08:20:01   \n",
       "32837  ኦሮሚያ ክልል ሆሮ ጉዱሩ ወለጋ ዞን የሚገኘው የፊንጫ ስኳር ፋብሪካ ሰራተ...  2024-01-04T09:04:01   \n",
       "32838  የምስራቅ አፍሪካ የልማት በይነ መንግስታት ድርጅት (ኢጋድ) ዋና ፀሀፊ ዶ...  2024-01-04T10:30:22   \n",
       "32840  አሜሪካና አጋሮቿ ለሁቲ አማፂያን ቡድን የመጨረሻ ማስጠንቀቂያ ሰጡ::  አ...  2024-01-04T11:45:05   \n",
       "\n",
       "      hashtags emojis    symbols  \n",
       "id                                \n",
       "32835       []                 _  \n",
       "32836       []         \"\"\"\"\"\"\"\"_  \n",
       "32837       []                 _  \n",
       "32838       []               \"\"_  \n",
       "32840       []                 _  "
      ]
     },

     "execution_count": 112,

     "metadata": {},
     "output_type": "execute_result"
    }
   ],
   "source": [

    "df['text'] = df['text'].apply(preprocess.remove_symbols)\n",

    "df.tail()"
   ]
  },
  {
   "cell_type": "markdown",
   "metadata": {},
   "source": [

    "#### Extract Links"

   ]
  },
  {
   "cell_type": "code",

   "execution_count": 113,

   "metadata": {},
   "outputs": [
    {
     "data": {
      "text/html": [
       "<div>\n",
       "<style scoped>\n",
       "    .dataframe tbody tr th:only-of-type {\n",
       "        vertical-align: middle;\n",
       "    }\n",
       "\n",
       "    .dataframe tbody tr th {\n",
       "        vertical-align: top;\n",
       "    }\n",
       "\n",
       "    .dataframe thead th {\n",
       "        text-align: right;\n",
       "    }\n",
       "</style>\n",
       "<table border=\"1\" class=\"dataframe\">\n",
       "  <thead>\n",
       "    <tr style=\"text-align: right;\">\n",
       "      <th></th>\n",
       "      <th>text</th>\n",
       "      <th>date</th>\n",
       "      <th>hashtags</th>\n",
       "      <th>emojis</th>\n",
       "      <th>symbols</th>\n",
       "      <th>links</th>\n",
       "    </tr>\n",
       "    <tr>\n",
       "      <th>id</th>\n",
       "      <th></th>\n",
       "      <th></th>\n",
       "      <th></th>\n",
       "      <th></th>\n",
       "      <th></th>\n",
       "      <th></th>\n",
       "    </tr>\n",
       "  </thead>\n",
       "  <tbody>\n",
       "    <tr>\n",
       "      <th>32835</th>\n",
       "      <td>ንግድ ሚንስቴር፣ ቢጂአይ ኢትዮጵያ ሜታ አቦ ቢራ ፋብሪካን በባለቤትነት እ...</td>\n",
       "      <td>2024-01-04T08:00:01</td>\n",
       "      <td>[]</td>\n",
       "      <td></td>\n",
       "      <td>_</td>\n",
       "      <td>[]</td>\n",
       "    </tr>\n",
       "    <tr>\n",
       "      <th>32836</th>\n",
       "      <td>የኢትዮጵያ መንግሥት ለሱማሌላንድ የአገርነት እውቅና መስጠትን ጉዳይ በሂደ...</td>\n",
       "      <td>2024-01-04T08:20:01</td>\n",
       "      <td>[]</td>\n",
       "      <td></td>\n",
       "      <td>\"\"\"\"\"\"\"\"_</td>\n",
       "      <td>[]</td>\n",
       "    </tr>\n",
       "    <tr>\n",
       "      <th>32837</th>\n",
       "      <td>ኦሮሚያ ክልል ሆሮ ጉዱሩ ወለጋ ዞን የሚገኘው የፊንጫ ስኳር ፋብሪካ ሰራተ...</td>\n",
       "      <td>2024-01-04T09:04:01</td>\n",
       "      <td>[]</td>\n",
       "      <td></td>\n",
       "      <td>_</td>\n",
       "      <td>[]</td>\n",
       "    </tr>\n",
       "    <tr>\n",
       "      <th>32838</th>\n",
       "      <td>የምስራቅ አፍሪካ የልማት በይነ መንግስታት ድርጅት (ኢጋድ) ዋና ፀሀፊ ዶ...</td>\n",
       "      <td>2024-01-04T10:30:22</td>\n",
       "      <td>[]</td>\n",
       "      <td></td>\n",
       "      <td>\"\"_</td>\n",
       "      <td>[]</td>\n",
       "    </tr>\n",
       "    <tr>\n",
       "      <th>32840</th>\n",
       "      <td>አሜሪካና አጋሮቿ ለሁቲ አማፂያን ቡድን የመጨረሻ ማስጠንቀቂያ ሰጡ::  አ...</td>\n",
       "      <td>2024-01-04T11:45:05</td>\n",
       "      <td>[]</td>\n",
       "      <td></td>\n",
       "      <td>_</td>\n",
       "      <td>[]</td>\n",
       "    </tr>\n",
       "  </tbody>\n",
       "</table>\n",
       "</div>"
      ],
      "text/plain": [
       "                                                    text                 date  \\\n",
       "id                                                                              \n",
       "32835  ንግድ ሚንስቴር፣ ቢጂአይ ኢትዮጵያ ሜታ አቦ ቢራ ፋብሪካን በባለቤትነት እ...  2024-01-04T08:00:01   \n",
       "32836  የኢትዮጵያ መንግሥት ለሱማሌላንድ የአገርነት እውቅና መስጠትን ጉዳይ በሂደ...  2024-01-04T08:20:01   \n",
       "32837  ኦሮሚያ ክልል ሆሮ ጉዱሩ ወለጋ ዞን የሚገኘው የፊንጫ ስኳር ፋብሪካ ሰራተ...  2024-01-04T09:04:01   \n",
       "32838  የምስራቅ አፍሪካ የልማት በይነ መንግስታት ድርጅት (ኢጋድ) ዋና ፀሀፊ ዶ...  2024-01-04T10:30:22   \n",
       "32840  አሜሪካና አጋሮቿ ለሁቲ አማፂያን ቡድን የመጨረሻ ማስጠንቀቂያ ሰጡ::  አ...  2024-01-04T11:45:05   \n",
       "\n",
       "      hashtags emojis    symbols links  \n",
       "id                                      \n",
       "32835       []                 _    []  \n",
       "32836       []         \"\"\"\"\"\"\"\"_    []  \n",
       "32837       []                 _    []  \n",
       "32838       []               \"\"_    []  \n",
       "32840       []                 _    []  "
      ]
     },

     "execution_count": 113,

     "metadata": {},
     "output_type": "execute_result"
    }
   ],
   "source": [

    "df['links'] = df['text'].apply(preprocess.extract_urls)\n",

    "df.tail()"
   ]
  },
  {

   "cell_type": "markdown",
   "metadata": {},
   "source": [
    "#### Remove links "
   ]
  },
  {
   "cell_type": "code",
   "execution_count": 114,

   "metadata": {},
   "outputs": [
    {
     "data": {
      "text/html": [
       "<div>\n",
       "<style scoped>\n",
       "    .dataframe tbody tr th:only-of-type {\n",
       "        vertical-align: middle;\n",
       "    }\n",
       "\n",
       "    .dataframe tbody tr th {\n",
       "        vertical-align: top;\n",
       "    }\n",
       "\n",
       "    .dataframe thead th {\n",
       "        text-align: right;\n",
       "    }\n",
       "</style>\n",
       "<table border=\"1\" class=\"dataframe\">\n",
       "  <thead>\n",
       "    <tr style=\"text-align: right;\">\n",
       "      <th></th>\n",
       "      <th>text</th>\n",
       "      <th>date</th>\n",
       "      <th>hashtags</th>\n",
       "      <th>emojis</th>\n",
       "      <th>symbols</th>\n",
       "      <th>links</th>\n",
       "    </tr>\n",
       "    <tr>\n",
       "      <th>id</th>\n",
       "      <th></th>\n",
       "      <th></th>\n",
       "      <th></th>\n",
       "      <th></th>\n",
       "      <th></th>\n",
       "      <th></th>\n",
       "    </tr>\n",
       "  </thead>\n",
       "  <tbody>\n",
       "    <tr>\n",
       "      <th>32835</th>\n",
       "      <td>ንግድ ሚንስቴር፣ ቢጂአይ ኢትዮጵያ ሜታ አቦ ቢራ ፋብሪካን በባለቤትነት እ...</td>\n",
       "      <td>2024-01-04T08:00:01</td>\n",
       "      <td>[]</td>\n",
       "      <td></td>\n",
       "      <td>_</td>\n",
       "      <td>[]</td>\n",
       "    </tr>\n",
       "    <tr>\n",
       "      <th>32836</th>\n",
       "      <td>የኢትዮጵያ መንግሥት ለሱማሌላንድ የአገርነት እውቅና መስጠትን ጉዳይ በሂደ...</td>\n",
       "      <td>2024-01-04T08:20:01</td>\n",
       "      <td>[]</td>\n",
       "      <td></td>\n",
       "      <td>\"\"\"\"\"\"\"\"_</td>\n",
       "      <td>[]</td>\n",
       "    </tr>\n",
       "    <tr>\n",
       "      <th>32837</th>\n",
       "      <td>ኦሮሚያ ክልል ሆሮ ጉዱሩ ወለጋ ዞን የሚገኘው የፊንጫ ስኳር ፋብሪካ ሰራተ...</td>\n",
       "      <td>2024-01-04T09:04:01</td>\n",
       "      <td>[]</td>\n",
       "      <td></td>\n",
       "      <td>_</td>\n",
       "      <td>[]</td>\n",
       "    </tr>\n",
       "    <tr>\n",
       "      <th>32838</th>\n",
       "      <td>የምስራቅ አፍሪካ የልማት በይነ መንግስታት ድርጅት (ኢጋድ) ዋና ፀሀፊ ዶ...</td>\n",
       "      <td>2024-01-04T10:30:22</td>\n",
       "      <td>[]</td>\n",
       "      <td></td>\n",
       "      <td>\"\"_</td>\n",
       "      <td>[]</td>\n",
       "    </tr>\n",
       "    <tr>\n",
       "      <th>32840</th>\n",
       "      <td>አሜሪካና አጋሮቿ ለሁቲ አማፂያን ቡድን የመጨረሻ ማስጠንቀቂያ ሰጡ::  አ...</td>\n",
       "      <td>2024-01-04T11:45:05</td>\n",
       "      <td>[]</td>\n",
       "      <td></td>\n",
       "      <td>_</td>\n",
       "      <td>[]</td>\n",
       "    </tr>\n",
       "  </tbody>\n",
       "</table>\n",
       "</div>"
      ],
      "text/plain": [
       "                                                    text                 date  \\\n",
       "id                                                                              \n",
       "32835  ንግድ ሚንስቴር፣ ቢጂአይ ኢትዮጵያ ሜታ አቦ ቢራ ፋብሪካን በባለቤትነት እ...  2024-01-04T08:00:01   \n",
       "32836  የኢትዮጵያ መንግሥት ለሱማሌላንድ የአገርነት እውቅና መስጠትን ጉዳይ በሂደ...  2024-01-04T08:20:01   \n",
       "32837  ኦሮሚያ ክልል ሆሮ ጉዱሩ ወለጋ ዞን የሚገኘው የፊንጫ ስኳር ፋብሪካ ሰራተ...  2024-01-04T09:04:01   \n",
       "32838  የምስራቅ አፍሪካ የልማት በይነ መንግስታት ድርጅት (ኢጋድ) ዋና ፀሀፊ ዶ...  2024-01-04T10:30:22   \n",
       "32840  አሜሪካና አጋሮቿ ለሁቲ አማፂያን ቡድን የመጨረሻ ማስጠንቀቂያ ሰጡ::  አ...  2024-01-04T11:45:05   \n",
       "\n",
       "      hashtags emojis    symbols links  \n",
       "id                                      \n",
       "32835       []                 _    []  \n",
       "32836       []         \"\"\"\"\"\"\"\"_    []  \n",
       "32837       []                 _    []  \n",
       "32838       []               \"\"_    []  \n",
       "32840       []                 _    []  "
      ]
     },

     "execution_count": 114,

     "metadata": {},
     "output_type": "execute_result"
    }
   ],
   "source": [

    "df['text'] = df['text'].str.replace(preprocess.url_pattern, '', regex=True).str.strip()\n",

    "df.tail()"
   ]
  },
  {
   "cell_type": "markdown",
   "metadata": {},
   "source": [

    "#### Extract mentions"

   ]
  },
  {
   "cell_type": "code",

   "execution_count": 115,

   "metadata": {},
   "outputs": [
    {
     "data": {
      "text/html": [
       "<div>\n",
       "<style scoped>\n",
       "    .dataframe tbody tr th:only-of-type {\n",
       "        vertical-align: middle;\n",
       "    }\n",
       "\n",
       "    .dataframe tbody tr th {\n",
       "        vertical-align: top;\n",
       "    }\n",
       "\n",
       "    .dataframe thead th {\n",
       "        text-align: right;\n",
       "    }\n",
       "</style>\n",
       "<table border=\"1\" class=\"dataframe\">\n",
       "  <thead>\n",
       "    <tr style=\"text-align: right;\">\n",
       "      <th></th>\n",
       "      <th>text</th>\n",
       "      <th>date</th>\n",
       "      <th>hashtags</th>\n",
       "      <th>emojis</th>\n",
       "      <th>symbols</th>\n",
       "      <th>links</th>\n",
       "      <th>mentions</th>\n",
       "    </tr>\n",
       "    <tr>\n",
       "      <th>id</th>\n",
       "      <th></th>\n",
       "      <th></th>\n",
       "      <th></th>\n",
       "      <th></th>\n",
       "      <th></th>\n",
       "      <th></th>\n",
       "      <th></th>\n",
       "    </tr>\n",
       "  </thead>\n",
       "  <tbody>\n",
       "    <tr>\n",
       "      <th>32835</th>\n",
       "      <td>ንግድ ሚንስቴር፣ ቢጂአይ ኢትዮጵያ ሜታ አቦ ቢራ ፋብሪካን በባለቤትነት እ...</td>\n",
       "      <td>2024-01-04T08:00:01</td>\n",
       "      <td>[]</td>\n",
       "      <td></td>\n",
       "      <td>_</td>\n",
       "      <td>[]</td>\n",
       "      <td>[Addis]</td>\n",
       "    </tr>\n",
       "    <tr>\n",
       "      <th>32836</th>\n",
       "      <td>የኢትዮጵያ መንግሥት ለሱማሌላንድ የአገርነት እውቅና መስጠትን ጉዳይ በሂደ...</td>\n",
       "      <td>2024-01-04T08:20:01</td>\n",
       "      <td>[]</td>\n",
       "      <td></td>\n",
       "      <td>\"\"\"\"\"\"\"\"_</td>\n",
       "      <td>[]</td>\n",
       "      <td>[Addis]</td>\n",
       "    </tr>\n",
       "    <tr>\n",
       "      <th>32837</th>\n",
       "      <td>ኦሮሚያ ክልል ሆሮ ጉዱሩ ወለጋ ዞን የሚገኘው የፊንጫ ስኳር ፋብሪካ ሰራተ...</td>\n",
       "      <td>2024-01-04T09:04:01</td>\n",
       "      <td>[]</td>\n",
       "      <td></td>\n",
       "      <td>_</td>\n",
       "      <td>[]</td>\n",
       "      <td>[Addis]</td>\n",
       "    </tr>\n",
       "    <tr>\n",
       "      <th>32838</th>\n",
       "      <td>የምስራቅ አፍሪካ የልማት በይነ መንግስታት ድርጅት (ኢጋድ) ዋና ፀሀፊ ዶ...</td>\n",
       "      <td>2024-01-04T10:30:22</td>\n",
       "      <td>[]</td>\n",
       "      <td></td>\n",
       "      <td>\"\"_</td>\n",
       "      <td>[]</td>\n",
       "      <td>[Addis]</td>\n",
       "    </tr>\n",
       "    <tr>\n",
       "      <th>32840</th>\n",
       "      <td>አሜሪካና አጋሮቿ ለሁቲ አማፂያን ቡድን የመጨረሻ ማስጠንቀቂያ ሰጡ::  አ...</td>\n",
       "      <td>2024-01-04T11:45:05</td>\n",
       "      <td>[]</td>\n",
       "      <td></td>\n",
       "      <td>_</td>\n",
       "      <td>[]</td>\n",
       "      <td>[Addis]</td>\n",
       "    </tr>\n",
       "  </tbody>\n",
       "</table>\n",
       "</div>"
      ],
      "text/plain": [
       "                                                    text                 date  \\\n",
       "id                                                                              \n",
       "32835  ንግድ ሚንስቴር፣ ቢጂአይ ኢትዮጵያ ሜታ አቦ ቢራ ፋብሪካን በባለቤትነት እ...  2024-01-04T08:00:01   \n",
       "32836  የኢትዮጵያ መንግሥት ለሱማሌላንድ የአገርነት እውቅና መስጠትን ጉዳይ በሂደ...  2024-01-04T08:20:01   \n",
       "32837  ኦሮሚያ ክልል ሆሮ ጉዱሩ ወለጋ ዞን የሚገኘው የፊንጫ ስኳር ፋብሪካ ሰራተ...  2024-01-04T09:04:01   \n",
       "32838  የምስራቅ አፍሪካ የልማት በይነ መንግስታት ድርጅት (ኢጋድ) ዋና ፀሀፊ ዶ...  2024-01-04T10:30:22   \n",
       "32840  አሜሪካና አጋሮቿ ለሁቲ አማፂያን ቡድን የመጨረሻ ማስጠንቀቂያ ሰጡ::  አ...  2024-01-04T11:45:05   \n",
       "\n",
       "      hashtags emojis    symbols links mentions  \n",
       "id                                               \n",
       "32835       []                 _    []  [Addis]  \n",
       "32836       []         \"\"\"\"\"\"\"\"_    []  [Addis]  \n",
       "32837       []                 _    []  [Addis]  \n",
       "32838       []               \"\"_    []  [Addis]  \n",
       "32840       []                 _    []  [Addis]  "
      ]
     },

     "execution_count": 115,

     "metadata": {},
     "output_type": "execute_result"
    }
   ],
   "source": [

    "df['mentions'] = df['text'].apply(preprocess.extract_mentions)\n",

    "df.tail()"
   ]
  },
  {
   "cell_type": "code",

   "execution_count": 116,

   "metadata": {},
   "outputs": [
    {
     "data": {
      "text/html": [
       "<div>\n",
       "<style scoped>\n",
       "    .dataframe tbody tr th:only-of-type {\n",
       "        vertical-align: middle;\n",
       "    }\n",
       "\n",
       "    .dataframe tbody tr th {\n",
       "        vertical-align: top;\n",
       "    }\n",
       "\n",
       "    .dataframe thead th {\n",
       "        text-align: right;\n",
       "    }\n",
       "</style>\n",
       "<table border=\"1\" class=\"dataframe\">\n",
       "  <thead>\n",
       "    <tr style=\"text-align: right;\">\n",
       "      <th></th>\n",
       "      <th>text</th>\n",
       "      <th>date</th>\n",
       "      <th>hashtags</th>\n",
       "      <th>emojis</th>\n",
       "      <th>symbols</th>\n",
       "      <th>links</th>\n",
       "      <th>mentions</th>\n",
       "    </tr>\n",
       "    <tr>\n",
       "      <th>id</th>\n",
       "      <th></th>\n",
       "      <th></th>\n",
       "      <th></th>\n",
       "      <th></th>\n",
       "      <th></th>\n",
       "      <th></th>\n",
       "      <th></th>\n",
       "    </tr>\n",
       "  </thead>\n",
       "  <tbody>\n",
       "    <tr>\n",
       "      <th>32835</th>\n",
       "      <td>ንግድ ሚንስቴር፣ ቢጂአይ ኢትዮጵያ ሜታ አቦ ቢራ ፋብሪካን በባለቤትነት እ...</td>\n",
       "      <td>2024-01-04T08:00:01</td>\n",
       "      <td>[]</td>\n",
       "      <td></td>\n",
       "      <td>_</td>\n",
       "      <td>[]</td>\n",
       "      <td>[Addis]</td>\n",
       "    </tr>\n",
       "    <tr>\n",
       "      <th>32836</th>\n",
       "      <td>የኢትዮጵያ መንግሥት ለሱማሌላንድ የአገርነት እውቅና መስጠትን ጉዳይ በሂደ...</td>\n",
       "      <td>2024-01-04T08:20:01</td>\n",
       "      <td>[]</td>\n",
       "      <td></td>\n",
       "      <td>\"\"\"\"\"\"\"\"_</td>\n",
       "      <td>[]</td>\n",
       "      <td>[Addis]</td>\n",
       "    </tr>\n",
       "    <tr>\n",
       "      <th>32837</th>\n",
       "      <td>ኦሮሚያ ክልል ሆሮ ጉዱሩ ወለጋ ዞን የሚገኘው የፊንጫ ስኳር ፋብሪካ ሰራተ...</td>\n",
       "      <td>2024-01-04T09:04:01</td>\n",
       "      <td>[]</td>\n",
       "      <td></td>\n",
       "      <td>_</td>\n",
       "      <td>[]</td>\n",
       "      <td>[Addis]</td>\n",
       "    </tr>\n",
       "    <tr>\n",
       "      <th>32838</th>\n",
       "      <td>የምስራቅ አፍሪካ የልማት በይነ መንግስታት ድርጅት (ኢጋድ) ዋና ፀሀፊ ዶ...</td>\n",
       "      <td>2024-01-04T10:30:22</td>\n",
       "      <td>[]</td>\n",
       "      <td></td>\n",
       "      <td>\"\"_</td>\n",
       "      <td>[]</td>\n",
       "      <td>[Addis]</td>\n",
       "    </tr>\n",
       "    <tr>\n",
       "      <th>32840</th>\n",
       "      <td>አሜሪካና አጋሮቿ ለሁቲ አማፂያን ቡድን የመጨረሻ ማስጠንቀቂያ ሰጡ::  አ...</td>\n",
       "      <td>2024-01-04T11:45:05</td>\n",
       "      <td>[]</td>\n",
       "      <td></td>\n",
       "      <td>_</td>\n",
       "      <td>[]</td>\n",
       "      <td>[Addis]</td>\n",
       "    </tr>\n",
       "  </tbody>\n",
       "</table>\n",
       "</div>"
      ],
      "text/plain": [
       "                                                    text                 date  \\\n",
       "id                                                                              \n",
       "32835  ንግድ ሚንስቴር፣ ቢጂአይ ኢትዮጵያ ሜታ አቦ ቢራ ፋብሪካን በባለቤትነት እ...  2024-01-04T08:00:01   \n",
       "32836  የኢትዮጵያ መንግሥት ለሱማሌላንድ የአገርነት እውቅና መስጠትን ጉዳይ በሂደ...  2024-01-04T08:20:01   \n",
       "32837  ኦሮሚያ ክልል ሆሮ ጉዱሩ ወለጋ ዞን የሚገኘው የፊንጫ ስኳር ፋብሪካ ሰራተ...  2024-01-04T09:04:01   \n",
       "32838  የምስራቅ አፍሪካ የልማት በይነ መንግስታት ድርጅት (ኢጋድ) ዋና ፀሀፊ ዶ...  2024-01-04T10:30:22   \n",
       "32840  አሜሪካና አጋሮቿ ለሁቲ አማፂያን ቡድን የመጨረሻ ማስጠንቀቂያ ሰጡ::  አ...  2024-01-04T11:45:05   \n",
       "\n",
       "      hashtags emojis    symbols links mentions  \n",
       "id                                               \n",
       "32835       []                 _    []  [Addis]  \n",
       "32836       []         \"\"\"\"\"\"\"\"_    []  [Addis]  \n",
       "32837       []                 _    []  [Addis]  \n",
       "32838       []               \"\"_    []  [Addis]  \n",
       "32840       []                 _    []  [Addis]  "
      ]
     },

     "execution_count": 116,

     "metadata": {},
     "output_type": "execute_result"
    }
   ],
   "source": [

    "df['text'] = df['text'].str.replace(preprocess.mention_pattern, '', regex=True).str.strip()\n",

    "df.tail()"
   ]
  },
  {
   "cell_type": "markdown",
   "metadata": {},
   "source": [

    "#### Remove extra spaces"

   ]
  },
  {
   "cell_type": "code",

   "execution_count": 117,

   "metadata": {},
   "outputs": [],
   "source": [
    "df['text'] = df['text'].str.replace('\\s+', ' ', regex=True).str.strip()"
   ]
  },
  {
   "cell_type": "code",

   "execution_count": 118,

   "metadata": {},
   "outputs": [],
   "source": [
    "df['text'] = df['text'].replace(r'!+', '!', regex=True)\n",
    "df['text'] = df['text'].replace(r'\\.+', '', regex=True)"
   ]
  },
  {
   "cell_type": "code",

   "execution_count": 119,

   "metadata": {},
   "outputs": [
    {
     "data": {
      "text/html": [
       "<div>\n",
       "<style scoped>\n",
       "    .dataframe tbody tr th:only-of-type {\n",
       "        vertical-align: middle;\n",
       "    }\n",
       "\n",
       "    .dataframe tbody tr th {\n",
       "        vertical-align: top;\n",
       "    }\n",
       "\n",
       "    .dataframe thead th {\n",
       "        text-align: right;\n",
       "    }\n",
       "</style>\n",
       "<table border=\"1\" class=\"dataframe\">\n",
       "  <thead>\n",
       "    <tr style=\"text-align: right;\">\n",
       "      <th></th>\n",
       "      <th>text</th>\n",
       "      <th>date</th>\n",
       "      <th>hashtags</th>\n",
       "      <th>emojis</th>\n",
       "      <th>symbols</th>\n",
       "      <th>links</th>\n",
       "      <th>mentions</th>\n",
       "    </tr>\n",
       "    <tr>\n",
       "      <th>id</th>\n",
       "      <th></th>\n",
       "      <th></th>\n",
       "      <th></th>\n",
       "      <th></th>\n",
       "      <th></th>\n",
       "      <th></th>\n",
       "      <th></th>\n",
       "    </tr>\n",
       "  </thead>\n",
       "  <tbody>\n",
       "    <tr>\n",
       "      <th>32835</th>\n",
       "      <td>ንግድ ሚንስቴር፣ ቢጂአይ ኢትዮጵያ ሜታ አቦ ቢራ ፋብሪካን በባለቤትነት እ...</td>\n",
       "      <td>2024-01-04T08:00:01</td>\n",
       "      <td>[]</td>\n",
       "      <td></td>\n",
       "      <td>_</td>\n",
       "      <td>[]</td>\n",
       "      <td>[Addis]</td>\n",
       "    </tr>\n",
       "    <tr>\n",
       "      <th>32836</th>\n",
       "      <td>የኢትዮጵያ መንግሥት ለሱማሌላንድ የአገርነት እውቅና መስጠትን ጉዳይ በሂደ...</td>\n",
       "      <td>2024-01-04T08:20:01</td>\n",
       "      <td>[]</td>\n",
       "      <td></td>\n",
       "      <td>\"\"\"\"\"\"\"\"_</td>\n",
       "      <td>[]</td>\n",
       "      <td>[Addis]</td>\n",
       "    </tr>\n",
       "    <tr>\n",
       "      <th>32837</th>\n",
       "      <td>ኦሮሚያ ክልል ሆሮ ጉዱሩ ወለጋ ዞን የሚገኘው የፊንጫ ስኳር ፋብሪካ ሰራተ...</td>\n",
       "      <td>2024-01-04T09:04:01</td>\n",
       "      <td>[]</td>\n",
       "      <td></td>\n",
       "      <td>_</td>\n",
       "      <td>[]</td>\n",
       "      <td>[Addis]</td>\n",
       "    </tr>\n",
       "    <tr>\n",
       "      <th>32838</th>\n",
       "      <td>የምስራቅ አፍሪካ የልማት በይነ መንግስታት ድርጅት (ኢጋድ) ዋና ፀሀፊ ዶ...</td>\n",
       "      <td>2024-01-04T10:30:22</td>\n",
       "      <td>[]</td>\n",
       "      <td></td>\n",
       "      <td>\"\"_</td>\n",
       "      <td>[]</td>\n",
       "      <td>[Addis]</td>\n",
       "    </tr>\n",
       "    <tr>\n",
       "      <th>32840</th>\n",

       "      <td>አሜሪካና አጋሮቿ ለሁቲ አማፂያን ቡድን የመጨረሻ ማስጠንቀቂያ ሰጡ:: አሜ...</td>\n",

       "      <td>2024-01-04T11:45:05</td>\n",
       "      <td>[]</td>\n",
       "      <td></td>\n",
       "      <td>_</td>\n",
       "      <td>[]</td>\n",
       "      <td>[Addis]</td>\n",
       "    </tr>\n",
       "  </tbody>\n",
       "</table>\n",
       "</div>"
      ],
      "text/plain": [
       "                                                    text                 date  \\\n",
       "id                                                                              \n",
       "32835  ንግድ ሚንስቴር፣ ቢጂአይ ኢትዮጵያ ሜታ አቦ ቢራ ፋብሪካን በባለቤትነት እ...  2024-01-04T08:00:01   \n",
       "32836  የኢትዮጵያ መንግሥት ለሱማሌላንድ የአገርነት እውቅና መስጠትን ጉዳይ በሂደ...  2024-01-04T08:20:01   \n",
       "32837  ኦሮሚያ ክልል ሆሮ ጉዱሩ ወለጋ ዞን የሚገኘው የፊንጫ ስኳር ፋብሪካ ሰራተ...  2024-01-04T09:04:01   \n",
       "32838  የምስራቅ አፍሪካ የልማት በይነ መንግስታት ድርጅት (ኢጋድ) ዋና ፀሀፊ ዶ...  2024-01-04T10:30:22   \n",

       "32840  አሜሪካና አጋሮቿ ለሁቲ አማፂያን ቡድን የመጨረሻ ማስጠንቀቂያ ሰጡ:: አሜ...  2024-01-04T11:45:05   \n",

       "\n",
       "      hashtags emojis    symbols links mentions  \n",
       "id                                               \n",
       "32835       []                 _    []  [Addis]  \n",
       "32836       []         \"\"\"\"\"\"\"\"_    []  [Addis]  \n",
       "32837       []                 _    []  [Addis]  \n",
       "32838       []               \"\"_    []  [Addis]  \n",
       "32840       []                 _    []  [Addis]  "
      ]
     },

     "execution_count": 119,

     "metadata": {},
     "output_type": "execute_result"
    }
   ],
   "source": [
    "df.tail()"
   ]
  },
  {
   "cell_type": "markdown",
   "metadata": {},
   "source": [

    "#### Save cleaned dataframe"

   ]
  },
  {
   "cell_type": "code",

   "execution_count": 120,

   "metadata": {},
   "outputs": [],
   "source": [
    "df.to_csv(f\"{cleaned_dir}/{file_name}.csv\")"
   ]
  },
  {

   "cell_type": "markdown",
   "metadata": {},
   "source": [
    "#### Save to .txt file"
   ]
  },
  {
   "cell_type": "code",
   "execution_count": 121,

   "metadata": {},
   "outputs": [],
   "source": [
    "df['text'].to_csv(f\"{cleaned_dir}/{file_name}.txt\", index=False, header=False)"
   ]

  },
  {
   "cell_type": "code",
   "execution_count": null,
   "metadata": {},
   "outputs": [],
   "source": []

  }
 ],
 "metadata": {
  "kernelspec": {

   "display_name": "venv",

   "language": "python",
   "name": "python3"
  },
  "language_info": {
   "codemirror_mode": {
    "name": "ipython",
    "version": 3
   },
   "file_extension": ".py",
   "mimetype": "text/x-python",
   "name": "python",
   "nbconvert_exporter": "python",
   "pygments_lexer": "ipython3",

   "version": "3.10.13"

  }
 },
 "nbformat": 4,
 "nbformat_minor": 2
}
